{
  "nbformat": 4,
  "nbformat_minor": 0,
  "metadata": {
    "colab": {
      "name": "util.ipynb",
      "provenance": [],
      "authorship_tag": "ABX9TyPl2hV8LZaghNAURpvgbkGk",
      "include_colab_link": true
    },
    "kernelspec": {
      "name": "python3",
      "display_name": "Python 3"
    }
  },
  "cells": [
    {
      "cell_type": "markdown",
      "metadata": {
        "id": "view-in-github",
        "colab_type": "text"
      },
      "source": [
        "<a href=\"https://colab.research.google.com/github/valogonor/TeachX-Georgia-Standards/blob/master/util.ipynb\" target=\"_parent\"><img src=\"https://colab.research.google.com/assets/colab-badge.svg\" alt=\"Open In Colab\"/></a>"
      ]
    },
    {
      "cell_type": "code",
      "metadata": {
        "id": "rNnci2l6R0xf",
        "colab_type": "code",
        "colab": {}
      },
      "source": [
        "def add_code(data, code):\n",
        "    for i in range(len(data)):\n",
        "        n = len(data[i])\n",
        "        idx = data[i][0].index(' ')\n",
        "        num = data[i][0][:idx]\n",
        "        for j in range(n):\n",
        "            line = data[i][j]\n",
        "            if line[0].isnumeric():\n",
        "                line = line.replace(line[:idx], code + num)\n",
        "                data[i][j] = line\n",
        "            else:\n",
        "                line = line.replace(line[:2], code + num + '.' + line[0])\n",
        "                data[i][j] = line\n",
        "    return data"
      ],
      "execution_count": 0,
      "outputs": []
    },
    {
      "cell_type": "code",
      "metadata": {
        "id": "wYAlW0rrEmJF",
        "colab_type": "code",
        "colab": {}
      },
      "source": [
        "def col(data):\n",
        "    mx = 0\n",
        "    for row in data:\n",
        "        if len(row) > mx:\n",
        "            mx = len(row)\n",
        "    cols = [chr(97+i) for i in range(mx-1)]\n",
        "    cols = ['main'] + cols\n",
        "    return cols"
      ],
      "execution_count": 0,
      "outputs": []
    },
    {
      "cell_type": "code",
      "metadata": {
        "id": "tQGY6MI7G3th",
        "colab_type": "code",
        "colab": {}
      },
      "source": [
        "def index(data):\n",
        "    res = []\n",
        "    for i in range(len(data)):\n",
        "        idx = data[i][0].index(' ')\n",
        "        res.append(data[i][0][:idx])\n",
        "    return res"
      ],
      "execution_count": 0,
      "outputs": []
    }
  ]
}
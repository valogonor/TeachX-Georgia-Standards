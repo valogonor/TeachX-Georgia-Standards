{
  "nbformat": 4,
  "nbformat_minor": 0,
  "metadata": {
    "colab": {
      "name": "TeachX Georgia Chemistry Standards.ipynb",
      "provenance": [],
      "include_colab_link": true
    },
    "kernelspec": {
      "name": "python3",
      "display_name": "Python 3"
    }
  },
  "cells": [
    {
      "cell_type": "markdown",
      "metadata": {
        "id": "view-in-github",
        "colab_type": "text"
      },
      "source": [
        "<a href=\"https://colab.research.google.com/github/valogonor/TeachX-Georgia-Standards/blob/master/TeachX_Georgia_Chemistry_Standards.ipynb\" target=\"_parent\"><img src=\"https://colab.research.google.com/assets/colab-badge.svg\" alt=\"Open In Colab\"/></a>"
      ]
    },
    {
      "cell_type": "code",
      "metadata": {
        "id": "E0N9iT2MVI7g",
        "colab_type": "code",
        "colab": {
          "base_uri": "https://localhost:8080/",
          "height": 54
        },
        "outputId": "fdd2ee6c-9acc-4db0-fb7e-3d00aa46ab33"
      },
      "source": [
        "with open('Science-Chemistry-Georgia-Standards.txt') as text:\n",
        "    string = text.read()\n",
        "string"
      ],
      "execution_count": 1,
      "outputs": [
        {
          "output_type": "execute_result",
          "data": {
            "text/plain": [
              "'Science Georgia Standards of Excellence\\n\\nChemistry Standards\\nThe Science Georgia Standards of Excellence are designed to provide foundational knowledge\\nand skills for all students to develop proficiency in science. The Project 2061’s Benchmarks for\\nScience Literacy and the follow up work, A Framework for K-12 Science Education were used as\\nthe core of the standards to determine appropriate content and process skills for students. The\\nScience Georgia Standards of Excellence focus on a limited number of core disciplinary ideas\\nand crosscutting concepts which build from Kindergarten to high school. The standards are\\nwritten with the core knowledge to be mastered integrated with the science and engineering\\npractices needed to engage in scientific inquiry and engineering design. Crosscutting concepts\\nare used to make connections across different science disciplines.\\nThe Science Georgia Standards of Excellence drive instruction. Hands-on, student-centered, and\\ninquiry-based approaches should be the emphasis of instruction. The standards are a required\\nminimum set of expectations that show proficiency in science. However, instruction can extend\\nbeyond these minimum expectations to meet student needs. At the same time, these standards set\\na maximum expectation on what will be assessed by the Georgia Milestones Assessment System.\\nScience consists of a way of thinking and investigating, as well a growing body of knowledge\\nabout the natural world. To become literate in science, students need to possess sufficient\\nunderstanding of fundamental science content knowledge, the ability to engage in the science\\nand engineering practices, and to use scientific and technological information correctly.\\nTechnology should be infused into the curriculum and the safety of the student should always be\\nforemost in instruction.\\nThe Chemistry Georgia Standards of Excellence are designed to continue student investigations\\nof the physical sciences that began in grades K-8 and provide students the necessary skills to be\\nproficient in chemistry. These standards include more abstract concepts such as the structure of\\natoms, structure and properties of matter, the conservation and interaction of energy and matter,\\nand the use of Kinetic Molecular Theory to model atomic and molecular motion in chemical and\\nphysical processes. Students investigate chemistry concepts through experiences in laboratories\\nand field work using the process of inquiry.\\nChemistry students use the periodic table to help with the identification of elements with\\nparticular properties, recognize patterns that lead to explain chemical reactivity and bond\\nformation. They use the IUPAC nomenclature in order to predict chemical names for ionic\\n(binary and ternary), acidic, and inorganic covalent compounds, and conduct experiments to\\nmanipulate factors that affect chemical reactions.\\n\\nGeorgia Department of Education\\nMarch 31, 2016 ● Page 1 of 4\\n\\n\\x0cScience Georgia Standards of Excellence\\n\\nChemistry\\nSC1. Obtain, evaluate, and communicate information about the use of the modern atomic\\ntheory and periodic law to explain the characteristics of atoms and elements.\\na. Evaluate merits and limitations of different models of the atom in relation to relative size,\\ncharge, and position of protons, neutrons, and electrons in the atom.\\nb. Construct an argument to support the claim that the proton (and not the neutron or electron)\\ndefines the element’s identity.\\nc. Construct an explanation based on scientific evidence of the production of elements heavier\\nthan hydrogen by nuclear fusion.\\nd. Construct an explanation that relates the relative abundance of isotopes of a particular\\nelement to the atomic mass of the element.\\ne. Construct an explanation of light emission and the movement of electrons to identify\\nelements.\\nf. Use the periodic table as a model to predict the relative properties of elements based on the\\npatterns of electrons in the outermost energy level of atoms (i.e. including atomic radii,\\nionization energy, and electronegativity).\\ng. Develop and use models, including electron configuration of atoms and ions, to predict an\\nelement’s chemical properties.\\nSC2. Obtain, evaluate, and communicate information about the chemical and physical\\nproperties of matter resulting from the ability of atoms to form bonds.\\na. Plan and carry out an investigation to gather evidence to compare the physical and chemical\\nproperties at the macroscopic scale to infer the strength of intermolecular and intramolecular\\nforces.\\nb. Construct an argument by applying principles of inter- and intra- molecular forces to identify\\nsubstances based on chemical and physical properties.\\nc. Construct an explanation about the importance of molecular-level structure in the functioning\\nof designed materials.\\n(Clarification statement: Examples could include why electrically conductive materials are\\noften made of metal, flexible but durable materials are made up of long chained molecules,\\nand pharmaceuticals are designed to interact with specific receptors.)\\nd. Develop and use models to evaluate bonding configurations from nonpolar covalent to ionic\\nbonding.\\n(Clarification statement: VSEPR theory is not addressed in this element.)\\ne. Ask questions about chemical names to identify patterns in IUPAC nomenclature in order to\\npredict chemical names for ionic (binary and ternary), acidic, and inorganic covalent\\ncompounds.\\nf. Develop and use bonding models to predict chemical formulas including ionic (binary and\\nternary), acidic, and inorganic covalent compounds.\\n\\nGeorgia Department of Education\\nMarch 31, 2016 ● Page 2 of 4\\n\\n\\x0cScience Georgia Standards of Excellence\\n\\ng. Develop a model to illustrate the release or absorption of energy (endothermic or exothermic)\\nfrom a chemical reaction system depends upon the changes in total bond energy.\\nSC3. Obtain, evaluate, and communicate information about how the Law of Conservation\\nof Matter is used to determine chemical composition in compounds and chemical reactions.\\na. Use mathematics and computational thinking to balance chemical reactions (i.e., synthesis,\\ndecomposition, single replacement, double replacement, and combustion) and construct an\\nexplanation for the outcome of a simple chemical reaction based on the outermost electron\\nstates of atoms, trends in the periodic table, and knowledge of the patterns of chemical\\nproperties.\\nb. Plan and carry out an investigation to determine that a new chemical has been formed by\\nidentifying indicators of a chemical reaction (e.g., precipitate formation, gas evolution, color\\nchange, water production, and changes in energy to the system).\\nc. Use mathematics and computational thinking to apply concepts of the mole and Avogadro’s\\nnumber to conceptualize and calculate\\n• percent composition\\n• empirical/molecular formulas\\n• mass, moles, and molecules relationships\\n• molar volumes of gases\\nd. Use mathematics and computational thinking to identify and solve different types of reaction\\nstoichiometry problems (i.e., mass to moles, mass to mass, moles to moles, and percent yield)\\nusing significant figures.\\n(Clarification statement: For elements c and d emphasis is on use of mole ratios to compare\\nquantities of reactants or products and on assessing students’ use of mathematical thinking\\nand not on memorization and rote application of problem-solving techniques.)\\ne. Plan and carry out an investigation to demonstrate the conceptual principle of limiting\\nreactants.\\nSC4. Obtain, evaluate, and communicate information about how to refine the design of a\\nchemical system by applying engineering principles to manipulate the factors that affect a\\nchemical reaction.\\na. Plan and carry out an investigation to provide evidence of the effects of changing\\nconcentration, temperature, and pressure on chemical reactions.\\n(Clarification statement: Pressure should not be tested experimentally.)\\nb. Construct an argument using collision theory and transition state theory to explain the role of\\nactivation energy in chemical reactions.\\n(Clarification statement: Reaction coordinate diagrams could be used to visualize graphically\\nchanges in energy (direction flow and quantity) during the progress of a chemical reaction.)\\nc. Construct an explanation of the effects of a catalyst on chemical reactions and apply it to\\neveryday examples.\\n\\nGeorgia Department of Education\\nMarch 31, 2016 ● Page 3 of 4\\n\\n\\x0cScience Georgia Standards of Excellence\\n\\nd. Refine the design of a chemical system by altering the conditions that would change forward\\nand reverse reaction rates and the amount of products at equilibrium.\\n(Clarification statement: Emphasis is on the application of LeChatelier’s principle.)\\nSC5. Obtain, evaluate, and communicate information about the Kinetic Molecular Theory\\nto model atomic and molecular motion in chemical and physical processes.\\na. Plan and carry out an investigation to calculate the amount of heat absorbed or released by\\nchemical or physical processes.\\n(Clarification statement: Calculation of the enthalpy, heat change, and Hess’s Law are\\naddressed in this element.)\\nb. Construct an explanation using a heating curve as evidence of the effects of energy and\\nintermolecular forces on phase changes.\\nc. Develop and use models to quantitatively, conceptually, and graphically represent the\\nrelationships between pressure, volume, temperature, and number of moles of a gas.\\nSC6. Obtain, evaluate, and communicate information about the properties that describe\\nsolutions and the nature of acids and bases.\\na. Develop a model to illustrate the process of dissolving in terms of solvation versus\\ndissociation.\\nb. Plan and carry out an investigation to evaluate the factors that affect the rate at which a\\nsolute dissolves in a specific solvent.\\nc. Use mathematics and computational thinking to evaluate commercial products in terms of\\ntheir concentrations (i.e., molarity and percent by mass).\\nd. Communicate scientific and technical information on how to prepare and properly label\\nsolutions of specified molar concentration.\\ne. Develop and use a model to explain the effects of a solute on boiling point and freezing\\npoint.\\nf. Use mathematics and computational thinking to compare, contrast, and evaluate the nature of\\nacids and bases in terms of percent dissociation, hydronium ion concentration, and pH.\\n(Clarification statement: Understanding of the mathematical relationship between negative\\nlogarithm of the hydrogen concentration and pH is not expected in this element. Only a\\nconceptual understanding of pH as related to acid/basic conditions is needed.)\\ng. Ask questions to evaluate merits and limitations of the Arrhenius and Bronsted-Lowry\\nmodels of acid and bases.\\nh. Plan and carry out an investigation to explore acid-base neutralization.\\n\\nGeorgia Department of Education\\nMarch 31, 2016 ● Page 4 of 4\\n\\n\\x0c'"
            ]
          },
          "metadata": {
            "tags": []
          },
          "execution_count": 1
        }
      ]
    },
    {
      "cell_type": "code",
      "metadata": {
        "id": "8ZbjwdNtk_UZ",
        "colab_type": "code",
        "colab": {
          "base_uri": "https://localhost:8080/",
          "height": 34
        },
        "outputId": "2a361b9a-9dbc-455d-bde6-fd0635ad0b80"
      },
      "source": [
        "import re\n",
        "regex = r\"\\nSC\"\n",
        "re.findall(regex, string)"
      ],
      "execution_count": 2,
      "outputs": [
        {
          "output_type": "execute_result",
          "data": {
            "text/plain": [
              "['\\nSC', '\\nSC', '\\nSC', '\\nSC', '\\nSC', '\\nSC']"
            ]
          },
          "metadata": {
            "tags": []
          },
          "execution_count": 2
        }
      ]
    },
    {
      "cell_type": "code",
      "metadata": {
        "id": "mTX5gZtclh02",
        "colab_type": "code",
        "colab": {
          "base_uri": "https://localhost:8080/",
          "height": 138
        },
        "outputId": "77e91dd7-f6f9-469f-fe11-2eea71850dd0"
      },
      "source": [
        "text = string.split('\\nSC')\n",
        "text = text[1:]\n",
        "text"
      ],
      "execution_count": 3,
      "outputs": [
        {
          "output_type": "execute_result",
          "data": {
            "text/plain": [
              "['1. Obtain, evaluate, and communicate information about the use of the modern atomic\\ntheory and periodic law to explain the characteristics of atoms and elements.\\na. Evaluate merits and limitations of different models of the atom in relation to relative size,\\ncharge, and position of protons, neutrons, and electrons in the atom.\\nb. Construct an argument to support the claim that the proton (and not the neutron or electron)\\ndefines the element’s identity.\\nc. Construct an explanation based on scientific evidence of the production of elements heavier\\nthan hydrogen by nuclear fusion.\\nd. Construct an explanation that relates the relative abundance of isotopes of a particular\\nelement to the atomic mass of the element.\\ne. Construct an explanation of light emission and the movement of electrons to identify\\nelements.\\nf. Use the periodic table as a model to predict the relative properties of elements based on the\\npatterns of electrons in the outermost energy level of atoms (i.e. including atomic radii,\\nionization energy, and electronegativity).\\ng. Develop and use models, including electron configuration of atoms and ions, to predict an\\nelement’s chemical properties.',\n",
              " '2. Obtain, evaluate, and communicate information about the chemical and physical\\nproperties of matter resulting from the ability of atoms to form bonds.\\na. Plan and carry out an investigation to gather evidence to compare the physical and chemical\\nproperties at the macroscopic scale to infer the strength of intermolecular and intramolecular\\nforces.\\nb. Construct an argument by applying principles of inter- and intra- molecular forces to identify\\nsubstances based on chemical and physical properties.\\nc. Construct an explanation about the importance of molecular-level structure in the functioning\\nof designed materials.\\n(Clarification statement: Examples could include why electrically conductive materials are\\noften made of metal, flexible but durable materials are made up of long chained molecules,\\nand pharmaceuticals are designed to interact with specific receptors.)\\nd. Develop and use models to evaluate bonding configurations from nonpolar covalent to ionic\\nbonding.\\n(Clarification statement: VSEPR theory is not addressed in this element.)\\ne. Ask questions about chemical names to identify patterns in IUPAC nomenclature in order to\\npredict chemical names for ionic (binary and ternary), acidic, and inorganic covalent\\ncompounds.\\nf. Develop and use bonding models to predict chemical formulas including ionic (binary and\\nternary), acidic, and inorganic covalent compounds.\\n\\nGeorgia Department of Education\\nMarch 31, 2016 ● Page 2 of 4\\n\\n\\x0cScience Georgia Standards of Excellence\\n\\ng. Develop a model to illustrate the release or absorption of energy (endothermic or exothermic)\\nfrom a chemical reaction system depends upon the changes in total bond energy.',\n",
              " '3. Obtain, evaluate, and communicate information about how the Law of Conservation\\nof Matter is used to determine chemical composition in compounds and chemical reactions.\\na. Use mathematics and computational thinking to balance chemical reactions (i.e., synthesis,\\ndecomposition, single replacement, double replacement, and combustion) and construct an\\nexplanation for the outcome of a simple chemical reaction based on the outermost electron\\nstates of atoms, trends in the periodic table, and knowledge of the patterns of chemical\\nproperties.\\nb. Plan and carry out an investigation to determine that a new chemical has been formed by\\nidentifying indicators of a chemical reaction (e.g., precipitate formation, gas evolution, color\\nchange, water production, and changes in energy to the system).\\nc. Use mathematics and computational thinking to apply concepts of the mole and Avogadro’s\\nnumber to conceptualize and calculate\\n• percent composition\\n• empirical/molecular formulas\\n• mass, moles, and molecules relationships\\n• molar volumes of gases\\nd. Use mathematics and computational thinking to identify and solve different types of reaction\\nstoichiometry problems (i.e., mass to moles, mass to mass, moles to moles, and percent yield)\\nusing significant figures.\\n(Clarification statement: For elements c and d emphasis is on use of mole ratios to compare\\nquantities of reactants or products and on assessing students’ use of mathematical thinking\\nand not on memorization and rote application of problem-solving techniques.)\\ne. Plan and carry out an investigation to demonstrate the conceptual principle of limiting\\nreactants.',\n",
              " '4. Obtain, evaluate, and communicate information about how to refine the design of a\\nchemical system by applying engineering principles to manipulate the factors that affect a\\nchemical reaction.\\na. Plan and carry out an investigation to provide evidence of the effects of changing\\nconcentration, temperature, and pressure on chemical reactions.\\n(Clarification statement: Pressure should not be tested experimentally.)\\nb. Construct an argument using collision theory and transition state theory to explain the role of\\nactivation energy in chemical reactions.\\n(Clarification statement: Reaction coordinate diagrams could be used to visualize graphically\\nchanges in energy (direction flow and quantity) during the progress of a chemical reaction.)\\nc. Construct an explanation of the effects of a catalyst on chemical reactions and apply it to\\neveryday examples.\\n\\nGeorgia Department of Education\\nMarch 31, 2016 ● Page 3 of 4\\n\\n\\x0cScience Georgia Standards of Excellence\\n\\nd. Refine the design of a chemical system by altering the conditions that would change forward\\nand reverse reaction rates and the amount of products at equilibrium.\\n(Clarification statement: Emphasis is on the application of LeChatelier’s principle.)',\n",
              " '5. Obtain, evaluate, and communicate information about the Kinetic Molecular Theory\\nto model atomic and molecular motion in chemical and physical processes.\\na. Plan and carry out an investigation to calculate the amount of heat absorbed or released by\\nchemical or physical processes.\\n(Clarification statement: Calculation of the enthalpy, heat change, and Hess’s Law are\\naddressed in this element.)\\nb. Construct an explanation using a heating curve as evidence of the effects of energy and\\nintermolecular forces on phase changes.\\nc. Develop and use models to quantitatively, conceptually, and graphically represent the\\nrelationships between pressure, volume, temperature, and number of moles of a gas.',\n",
              " '6. Obtain, evaluate, and communicate information about the properties that describe\\nsolutions and the nature of acids and bases.\\na. Develop a model to illustrate the process of dissolving in terms of solvation versus\\ndissociation.\\nb. Plan and carry out an investigation to evaluate the factors that affect the rate at which a\\nsolute dissolves in a specific solvent.\\nc. Use mathematics and computational thinking to evaluate commercial products in terms of\\ntheir concentrations (i.e., molarity and percent by mass).\\nd. Communicate scientific and technical information on how to prepare and properly label\\nsolutions of specified molar concentration.\\ne. Develop and use a model to explain the effects of a solute on boiling point and freezing\\npoint.\\nf. Use mathematics and computational thinking to compare, contrast, and evaluate the nature of\\nacids and bases in terms of percent dissociation, hydronium ion concentration, and pH.\\n(Clarification statement: Understanding of the mathematical relationship between negative\\nlogarithm of the hydrogen concentration and pH is not expected in this element. Only a\\nconceptual understanding of pH as related to acid/basic conditions is needed.)\\ng. Ask questions to evaluate merits and limitations of the Arrhenius and Bronsted-Lowry\\nmodels of acid and bases.\\nh. Plan and carry out an investigation to explore acid-base neutralization.\\n\\nGeorgia Department of Education\\nMarch 31, 2016 ● Page 4 of 4\\n\\n\\x0c']"
            ]
          },
          "metadata": {
            "tags": []
          },
          "execution_count": 3
        }
      ]
    },
    {
      "cell_type": "code",
      "metadata": {
        "id": "irY8D2fdl5vL",
        "colab_type": "code",
        "colab": {
          "base_uri": "https://localhost:8080/",
          "height": 709
        },
        "outputId": "6ae9b1dd-860c-4e12-d14f-1c150a71dec6"
      },
      "source": [
        "data = []\n",
        "for j in range(6):\n",
        "    sb = text[j].split('\\n')\n",
        "    if '' in sb:\n",
        "        idx = sb.index('')\n",
        "        sb = sb[:idx] + sb[idx+6:]\n",
        "    res = []\n",
        "    n = len(sb)\n",
        "    i = 1\n",
        "    res.append(sb[0])\n",
        "    while i < n:\n",
        "        if sb[i][1] != '.':\n",
        "            res[-1] += ' ' + sb[i]\n",
        "        else:\n",
        "            res.append(sb[i])\n",
        "        i += 1\n",
        "    data.append(res)\n",
        "data"
      ],
      "execution_count": 4,
      "outputs": [
        {
          "output_type": "execute_result",
          "data": {
            "text/plain": [
              "[['1. Obtain, evaluate, and communicate information about the use of the modern atomic theory and periodic law to explain the characteristics of atoms and elements.',\n",
              "  'a. Evaluate merits and limitations of different models of the atom in relation to relative size, charge, and position of protons, neutrons, and electrons in the atom.',\n",
              "  'b. Construct an argument to support the claim that the proton (and not the neutron or electron) defines the element’s identity.',\n",
              "  'c. Construct an explanation based on scientific evidence of the production of elements heavier than hydrogen by nuclear fusion.',\n",
              "  'd. Construct an explanation that relates the relative abundance of isotopes of a particular element to the atomic mass of the element.',\n",
              "  'e. Construct an explanation of light emission and the movement of electrons to identify elements.',\n",
              "  'f. Use the periodic table as a model to predict the relative properties of elements based on the patterns of electrons in the outermost energy level of atoms (i.e. including atomic radii, ionization energy, and electronegativity).',\n",
              "  'g. Develop and use models, including electron configuration of atoms and ions, to predict an element’s chemical properties.'],\n",
              " ['2. Obtain, evaluate, and communicate information about the chemical and physical properties of matter resulting from the ability of atoms to form bonds.',\n",
              "  'a. Plan and carry out an investigation to gather evidence to compare the physical and chemical properties at the macroscopic scale to infer the strength of intermolecular and intramolecular forces.',\n",
              "  'b. Construct an argument by applying principles of inter- and intra- molecular forces to identify substances based on chemical and physical properties.',\n",
              "  'c. Construct an explanation about the importance of molecular-level structure in the functioning of designed materials. (Clarification statement: Examples could include why electrically conductive materials are often made of metal, flexible but durable materials are made up of long chained molecules, and pharmaceuticals are designed to interact with specific receptors.)',\n",
              "  'd. Develop and use models to evaluate bonding configurations from nonpolar covalent to ionic bonding. (Clarification statement: VSEPR theory is not addressed in this element.)',\n",
              "  'e. Ask questions about chemical names to identify patterns in IUPAC nomenclature in order to predict chemical names for ionic (binary and ternary), acidic, and inorganic covalent compounds.',\n",
              "  'f. Develop and use bonding models to predict chemical formulas including ionic (binary and ternary), acidic, and inorganic covalent compounds.',\n",
              "  'g. Develop a model to illustrate the release or absorption of energy (endothermic or exothermic) from a chemical reaction system depends upon the changes in total bond energy.'],\n",
              " ['3. Obtain, evaluate, and communicate information about how the Law of Conservation of Matter is used to determine chemical composition in compounds and chemical reactions.',\n",
              "  'a. Use mathematics and computational thinking to balance chemical reactions (i.e., synthesis, decomposition, single replacement, double replacement, and combustion) and construct an explanation for the outcome of a simple chemical reaction based on the outermost electron states of atoms, trends in the periodic table, and knowledge of the patterns of chemical properties.',\n",
              "  'b. Plan and carry out an investigation to determine that a new chemical has been formed by identifying indicators of a chemical reaction (e.g., precipitate formation, gas evolution, color change, water production, and changes in energy to the system).',\n",
              "  'c. Use mathematics and computational thinking to apply concepts of the mole and Avogadro’s number to conceptualize and calculate • percent composition • empirical/molecular formulas • mass, moles, and molecules relationships • molar volumes of gases',\n",
              "  'd. Use mathematics and computational thinking to identify and solve different types of reaction stoichiometry problems (i.e., mass to moles, mass to mass, moles to moles, and percent yield) using significant figures. (Clarification statement: For elements c and d emphasis is on use of mole ratios to compare quantities of reactants or products and on assessing students’ use of mathematical thinking and not on memorization and rote application of problem-solving techniques.)',\n",
              "  'e. Plan and carry out an investigation to demonstrate the conceptual principle of limiting reactants.'],\n",
              " ['4. Obtain, evaluate, and communicate information about how to refine the design of a chemical system by applying engineering principles to manipulate the factors that affect a chemical reaction.',\n",
              "  'a. Plan and carry out an investigation to provide evidence of the effects of changing concentration, temperature, and pressure on chemical reactions. (Clarification statement: Pressure should not be tested experimentally.)',\n",
              "  'b. Construct an argument using collision theory and transition state theory to explain the role of activation energy in chemical reactions. (Clarification statement: Reaction coordinate diagrams could be used to visualize graphically changes in energy (direction flow and quantity) during the progress of a chemical reaction.)',\n",
              "  'c. Construct an explanation of the effects of a catalyst on chemical reactions and apply it to everyday examples.',\n",
              "  'd. Refine the design of a chemical system by altering the conditions that would change forward and reverse reaction rates and the amount of products at equilibrium. (Clarification statement: Emphasis is on the application of LeChatelier’s principle.)'],\n",
              " ['5. Obtain, evaluate, and communicate information about the Kinetic Molecular Theory to model atomic and molecular motion in chemical and physical processes.',\n",
              "  'a. Plan and carry out an investigation to calculate the amount of heat absorbed or released by chemical or physical processes. (Clarification statement: Calculation of the enthalpy, heat change, and Hess’s Law are addressed in this element.)',\n",
              "  'b. Construct an explanation using a heating curve as evidence of the effects of energy and intermolecular forces on phase changes.',\n",
              "  'c. Develop and use models to quantitatively, conceptually, and graphically represent the relationships between pressure, volume, temperature, and number of moles of a gas.'],\n",
              " ['6. Obtain, evaluate, and communicate information about the properties that describe solutions and the nature of acids and bases.',\n",
              "  'a. Develop a model to illustrate the process of dissolving in terms of solvation versus dissociation.',\n",
              "  'b. Plan and carry out an investigation to evaluate the factors that affect the rate at which a solute dissolves in a specific solvent.',\n",
              "  'c. Use mathematics and computational thinking to evaluate commercial products in terms of their concentrations (i.e., molarity and percent by mass).',\n",
              "  'd. Communicate scientific and technical information on how to prepare and properly label solutions of specified molar concentration.',\n",
              "  'e. Develop and use a model to explain the effects of a solute on boiling point and freezing point.',\n",
              "  'f. Use mathematics and computational thinking to compare, contrast, and evaluate the nature of acids and bases in terms of percent dissociation, hydronium ion concentration, and pH. (Clarification statement: Understanding of the mathematical relationship between negative logarithm of the hydrogen concentration and pH is not expected in this element. Only a conceptual understanding of pH as related to acid/basic conditions is needed.)',\n",
              "  'g. Ask questions to evaluate merits and limitations of the Arrhenius and Bronsted-Lowry models of acid and bases.',\n",
              "  'h. Plan and carry out an investigation to explore acid-base neutralization.']]"
            ]
          },
          "metadata": {
            "tags": []
          },
          "execution_count": 4
        }
      ]
    },
    {
      "cell_type": "code",
      "metadata": {
        "id": "7le49lgomW0T",
        "colab_type": "code",
        "colab": {
          "base_uri": "https://localhost:8080/",
          "height": 709
        },
        "outputId": "667d11a4-55a2-4cd2-b760-66bc7eaef1c9"
      },
      "source": [
        "for i in range(6):\n",
        "    n = len(data[i])\n",
        "    num = data[i][0][0]\n",
        "    for j in range(n):\n",
        "        line = data[i][j]\n",
        "        if line[0].isnumeric():\n",
        "            line = line.replace(line[0], 'SC' + num)\n",
        "            data[i][j] = line\n",
        "        else:\n",
        "            line = line.replace(line[:2], 'SC' + num + '.' + line[0])\n",
        "            data[i][j] = line\n",
        "data"
      ],
      "execution_count": 5,
      "outputs": [
        {
          "output_type": "execute_result",
          "data": {
            "text/plain": [
              "[['SC1. Obtain, evaluate, and communicate information about the use of the modern atomic theory and periodic law to explain the characteristics of atoms and elements.',\n",
              "  'SC1.a Evaluate merits and limitations of different models of the atom in relation to relative size, charge, and position of protons, neutrons, and electrons in the atom.',\n",
              "  'SC1.b Construct an argument to support the claim that the proton (and not the neutron or electron) defines the element’s identity.',\n",
              "  'SC1.c Construct an explanation based on scientific evidence of the production of elements heavier than hydrogen by nuclear fusion.',\n",
              "  'SC1.d Construct an explanation that relates the relative abundance of isotopes of a particular element to the atomic mass of the element.',\n",
              "  'SC1.e Construct an explanation of light emission and the movement of electrons to identify elements.',\n",
              "  'SC1.f Use the periodic table as a model to predict the relative properties of elements based on the patterns of electrons in the outermost energy level of atoms (i.e. including atomic radii, ionization energy, and electronegativity).',\n",
              "  'SC1.g Develop and use models, including electron configuration of atoms and ions, to predict an element’s chemical properties.'],\n",
              " ['SC2. Obtain, evaluate, and communicate information about the chemical and physical properties of matter resulting from the ability of atoms to form bonds.',\n",
              "  'SC2.a Plan and carry out an investigation to gather evidence to compare the physical and chemical properties at the macroscopic scale to infer the strength of intermolecular and intramolecular forces.',\n",
              "  'SC2.b Construct an argument by applying principles of inter- and intra- molecular forces to identify substances based on chemical and physical properties.',\n",
              "  'SC2.c Construct an explanation about the importance of molecular-level structure in the functioning of designed materials. (Clarification statement: Examples could include why electrically conductive materials are often made of metal, flexible but durable materials are made up of long chained molecules, and pharmaceuticals are designed to interact with specific receptors.)',\n",
              "  'SC2.d Develop and use models to evaluate bonding configurations from nonpolar covalent to ionic bonding. (Clarification statement: VSEPR theory is not addressed in this element.)',\n",
              "  'SC2.e Ask questions about chemical names to identify patterns in IUPAC nomenclature in order to predict chemical names for ionic (binary and ternary), acidic, and inorganic covalent compounds.',\n",
              "  'SC2.f Develop and use bonding models to predict chemical formulas including ionic (binary and ternary), acidic, and inorganic covalent compounds.',\n",
              "  'SC2.g Develop a model to illustrate the release or absorption of energy (endothermic or exothermic) from a chemical reaction system depends upon the changes in total bond energy.'],\n",
              " ['SC3. Obtain, evaluate, and communicate information about how the Law of Conservation of Matter is used to determine chemical composition in compounds and chemical reactions.',\n",
              "  'SC3.a Use mathematics and computational thinking to balance chemical reactions (i.e., synthesis, decomposition, single replacement, double replacement, and combustion) and construct an explanation for the outcome of a simple chemical reaction based on the outermost electron states of atoms, trends in the periodic table, and knowledge of the patterns of chemical properties.',\n",
              "  'SC3.b Plan and carry out an investigation to determine that a new chemical has been formed by identifying indicators of a chemical reaction (e.g., precipitate formation, gas evolution, color change, water production, and changes in energy to the system).',\n",
              "  'SC3.c Use mathematics and computational thinking to apply concepts of the mole and Avogadro’s number to conceptualize and calculate • percent composition • empirical/molecular formulas • mass, moles, and molecules relationships • molar volumes of gases',\n",
              "  'SC3.d Use mathematics and computational thinking to identify and solve different types of reaction stoichiometry problems (i.e., mass to moles, mass to mass, moles to moles, and percent yield) using significant figures. (Clarification statement: For elements c and d emphasis is on use of mole ratios to compare quantities of reactants or products and on assessing students’ use of mathematical thinking and not on memorization and rote application of problem-solving techniques.)',\n",
              "  'SC3.e Plan and carry out an investigation to demonstrate the conceptual principle of limiting reactants.'],\n",
              " ['SC4. Obtain, evaluate, and communicate information about how to refine the design of a chemical system by applying engineering principles to manipulate the factors that affect a chemical reaction.',\n",
              "  'SC4.a Plan and carry out an investigation to provide evidence of the effects of changing concentration, temperature, and pressure on chemical reactions. (Clarification statement: Pressure should not be tested experimentally.)',\n",
              "  'SC4.b Construct an argument using collision theory and transition state theory to explain the role of activation energy in chemical reactions. (Clarification statement: Reaction coordinate diagrams could be used to visualize graphically changes in energy (direction flow and quantity) during the progress of a chemical reaction.)',\n",
              "  'SC4.c Construct an explanation of the effects of a catalyst on chemical reactions and apply it to everyday examples.',\n",
              "  'SC4.d Refine the design of a chemical system by altering the conditions that would change forward and reverse reaction rates and the amount of products at equilibrium. (Clarification statement: Emphasis is on the application of LeChatelier’s principle.)'],\n",
              " ['SC5. Obtain, evaluate, and communicate information about the Kinetic Molecular Theory to model atomic and molecular motion in chemical and physical processes.',\n",
              "  'SC5.a Plan and carry out an investigation to calculate the amount of heat absorbed or released by chemical or physical processes. (Clarification statement: Calculation of the enthalpy, heat change, and Hess’s Law are addressed in this element.)',\n",
              "  'SC5.b Construct an explanation using a heating curve as evidence of the effects of energy and intermolecular forces on phase changes.',\n",
              "  'SC5.c Develop and use models to quantitatively, conceptually, and graphically represent the relationships between pressure, volume, temperature, and number of moles of a gas.'],\n",
              " ['SC6. Obtain, evaluate, and communicate information about the properties that describe solutions and the nature of acids and bases.',\n",
              "  'SC6.a Develop a model to illustrate the process of dissolving in terms of solvation versus dissociation.',\n",
              "  'SC6.b Plan and carry out an investigation to evaluate the factors that affect the rate at which a solute dissolves in a specific solvent.',\n",
              "  'SC6.c Use mathematics and computational thinking to evaluate commercial products in terms of their concentrations (i.e., molarity and percent by mass).',\n",
              "  'SC6.d Communicate scientific and technical information on how to prepare and properly label solutions of specified molar concentration.',\n",
              "  'SC6.e Develop and use a model to explain the effects of a solute on boiling point and freezing point.',\n",
              "  'SC6.f Use mathematics and computational thinking to compare, contrast, and evaluate the nature of acids and bases in terms of percent dissociation, hydronium ion concentration, and pH. (Clarification statement: Understanding of the mathematical relationship between negative logarithm of the hydrogen concentration and pH is not expected in this element. Only a conceptual understanding of pH as related to acid/basic conditions is needed.)',\n",
              "  'SC6.g Ask questions to evaluate merits and limitations of the Arrhenius and Bronsted-Lowry models of acid and bases.',\n",
              "  'SC6.h Plan and carry out an investigation to explore acid-base neutralization.']]"
            ]
          },
          "metadata": {
            "tags": []
          },
          "execution_count": 5
        }
      ]
    },
    {
      "cell_type": "code",
      "metadata": {
        "id": "djHTXPgHnSXP",
        "colab_type": "code",
        "colab": {
          "base_uri": "https://localhost:8080/",
          "height": 527
        },
        "outputId": "6ec03964-4574-4c41-bbf0-7f03d740f9e5"
      },
      "source": [
        "import pandas as pd\n",
        "columns = ['main', 'a', 'b', 'c', 'd', 'e', 'f', 'g', 'h']\n",
        "index = ['SC1', 'SC2', 'SC3', 'SC4', 'SC5', 'SC6']\n",
        "df = pd.DataFrame(data, columns=columns, index=index)\n",
        "df"
      ],
      "execution_count": 6,
      "outputs": [
        {
          "output_type": "execute_result",
          "data": {
            "text/html": [
              "<div>\n",
              "<style scoped>\n",
              "    .dataframe tbody tr th:only-of-type {\n",
              "        vertical-align: middle;\n",
              "    }\n",
              "\n",
              "    .dataframe tbody tr th {\n",
              "        vertical-align: top;\n",
              "    }\n",
              "\n",
              "    .dataframe thead th {\n",
              "        text-align: right;\n",
              "    }\n",
              "</style>\n",
              "<table border=\"1\" class=\"dataframe\">\n",
              "  <thead>\n",
              "    <tr style=\"text-align: right;\">\n",
              "      <th></th>\n",
              "      <th>main</th>\n",
              "      <th>a</th>\n",
              "      <th>b</th>\n",
              "      <th>c</th>\n",
              "      <th>d</th>\n",
              "      <th>e</th>\n",
              "      <th>f</th>\n",
              "      <th>g</th>\n",
              "      <th>h</th>\n",
              "    </tr>\n",
              "  </thead>\n",
              "  <tbody>\n",
              "    <tr>\n",
              "      <th>SC1</th>\n",
              "      <td>SC1. Obtain, evaluate, and communicate informa...</td>\n",
              "      <td>SC1.a Evaluate merits and limitations of diffe...</td>\n",
              "      <td>SC1.b Construct an argument to support the cla...</td>\n",
              "      <td>SC1.c Construct an explanation based on scient...</td>\n",
              "      <td>SC1.d Construct an explanation that relates th...</td>\n",
              "      <td>SC1.e Construct an explanation of light emissi...</td>\n",
              "      <td>SC1.f Use the periodic table as a model to pre...</td>\n",
              "      <td>SC1.g Develop and use models, including electr...</td>\n",
              "      <td>None</td>\n",
              "    </tr>\n",
              "    <tr>\n",
              "      <th>SC2</th>\n",
              "      <td>SC2. Obtain, evaluate, and communicate informa...</td>\n",
              "      <td>SC2.a Plan and carry out an investigation to g...</td>\n",
              "      <td>SC2.b Construct an argument by applying princi...</td>\n",
              "      <td>SC2.c Construct an explanation about the impor...</td>\n",
              "      <td>SC2.d Develop and use models to evaluate bondi...</td>\n",
              "      <td>SC2.e Ask questions about chemical names to id...</td>\n",
              "      <td>SC2.f Develop and use bonding models to predic...</td>\n",
              "      <td>SC2.g Develop a model to illustrate the releas...</td>\n",
              "      <td>None</td>\n",
              "    </tr>\n",
              "    <tr>\n",
              "      <th>SC3</th>\n",
              "      <td>SC3. Obtain, evaluate, and communicate informa...</td>\n",
              "      <td>SC3.a Use mathematics and computational thinki...</td>\n",
              "      <td>SC3.b Plan and carry out an investigation to d...</td>\n",
              "      <td>SC3.c Use mathematics and computational thinki...</td>\n",
              "      <td>SC3.d Use mathematics and computational thinki...</td>\n",
              "      <td>SC3.e Plan and carry out an investigation to d...</td>\n",
              "      <td>None</td>\n",
              "      <td>None</td>\n",
              "      <td>None</td>\n",
              "    </tr>\n",
              "    <tr>\n",
              "      <th>SC4</th>\n",
              "      <td>SC4. Obtain, evaluate, and communicate informa...</td>\n",
              "      <td>SC4.a Plan and carry out an investigation to p...</td>\n",
              "      <td>SC4.b Construct an argument using collision th...</td>\n",
              "      <td>SC4.c Construct an explanation of the effects ...</td>\n",
              "      <td>SC4.d Refine the design of a chemical system b...</td>\n",
              "      <td>None</td>\n",
              "      <td>None</td>\n",
              "      <td>None</td>\n",
              "      <td>None</td>\n",
              "    </tr>\n",
              "    <tr>\n",
              "      <th>SC5</th>\n",
              "      <td>SC5. Obtain, evaluate, and communicate informa...</td>\n",
              "      <td>SC5.a Plan and carry out an investigation to c...</td>\n",
              "      <td>SC5.b Construct an explanation using a heating...</td>\n",
              "      <td>SC5.c Develop and use models to quantitatively...</td>\n",
              "      <td>None</td>\n",
              "      <td>None</td>\n",
              "      <td>None</td>\n",
              "      <td>None</td>\n",
              "      <td>None</td>\n",
              "    </tr>\n",
              "    <tr>\n",
              "      <th>SC6</th>\n",
              "      <td>SC6. Obtain, evaluate, and communicate informa...</td>\n",
              "      <td>SC6.a Develop a model to illustrate the proces...</td>\n",
              "      <td>SC6.b Plan and carry out an investigation to e...</td>\n",
              "      <td>SC6.c Use mathematics and computational thinki...</td>\n",
              "      <td>SC6.d Communicate scientific and technical inf...</td>\n",
              "      <td>SC6.e Develop and use a model to explain the e...</td>\n",
              "      <td>SC6.f Use mathematics and computational thinki...</td>\n",
              "      <td>SC6.g Ask questions to evaluate merits and lim...</td>\n",
              "      <td>SC6.h Plan and carry out an investigation to e...</td>\n",
              "    </tr>\n",
              "  </tbody>\n",
              "</table>\n",
              "</div>"
            ],
            "text/plain": [
              "                                                  main  ...                                                  h\n",
              "SC1  SC1. Obtain, evaluate, and communicate informa...  ...                                               None\n",
              "SC2  SC2. Obtain, evaluate, and communicate informa...  ...                                               None\n",
              "SC3  SC3. Obtain, evaluate, and communicate informa...  ...                                               None\n",
              "SC4  SC4. Obtain, evaluate, and communicate informa...  ...                                               None\n",
              "SC5  SC5. Obtain, evaluate, and communicate informa...  ...                                               None\n",
              "SC6  SC6. Obtain, evaluate, and communicate informa...  ...  SC6.h Plan and carry out an investigation to e...\n",
              "\n",
              "[6 rows x 9 columns]"
            ]
          },
          "metadata": {
            "tags": []
          },
          "execution_count": 6
        }
      ]
    },
    {
      "cell_type": "code",
      "metadata": {
        "id": "ozL3WFWjnu6Q",
        "colab_type": "code",
        "colab": {
          "base_uri": "https://localhost:8080/",
          "height": 465
        },
        "outputId": "9c59146f-9b7e-4849-a1f8-38fa3831b1f3"
      },
      "source": [
        "df = df.T\n",
        "df"
      ],
      "execution_count": 7,
      "outputs": [
        {
          "output_type": "execute_result",
          "data": {
            "text/html": [
              "<div>\n",
              "<style scoped>\n",
              "    .dataframe tbody tr th:only-of-type {\n",
              "        vertical-align: middle;\n",
              "    }\n",
              "\n",
              "    .dataframe tbody tr th {\n",
              "        vertical-align: top;\n",
              "    }\n",
              "\n",
              "    .dataframe thead th {\n",
              "        text-align: right;\n",
              "    }\n",
              "</style>\n",
              "<table border=\"1\" class=\"dataframe\">\n",
              "  <thead>\n",
              "    <tr style=\"text-align: right;\">\n",
              "      <th></th>\n",
              "      <th>SC1</th>\n",
              "      <th>SC2</th>\n",
              "      <th>SC3</th>\n",
              "      <th>SC4</th>\n",
              "      <th>SC5</th>\n",
              "      <th>SC6</th>\n",
              "    </tr>\n",
              "  </thead>\n",
              "  <tbody>\n",
              "    <tr>\n",
              "      <th>main</th>\n",
              "      <td>SC1. Obtain, evaluate, and communicate informa...</td>\n",
              "      <td>SC2. Obtain, evaluate, and communicate informa...</td>\n",
              "      <td>SC3. Obtain, evaluate, and communicate informa...</td>\n",
              "      <td>SC4. Obtain, evaluate, and communicate informa...</td>\n",
              "      <td>SC5. Obtain, evaluate, and communicate informa...</td>\n",
              "      <td>SC6. Obtain, evaluate, and communicate informa...</td>\n",
              "    </tr>\n",
              "    <tr>\n",
              "      <th>a</th>\n",
              "      <td>SC1.a Evaluate merits and limitations of diffe...</td>\n",
              "      <td>SC2.a Plan and carry out an investigation to g...</td>\n",
              "      <td>SC3.a Use mathematics and computational thinki...</td>\n",
              "      <td>SC4.a Plan and carry out an investigation to p...</td>\n",
              "      <td>SC5.a Plan and carry out an investigation to c...</td>\n",
              "      <td>SC6.a Develop a model to illustrate the proces...</td>\n",
              "    </tr>\n",
              "    <tr>\n",
              "      <th>b</th>\n",
              "      <td>SC1.b Construct an argument to support the cla...</td>\n",
              "      <td>SC2.b Construct an argument by applying princi...</td>\n",
              "      <td>SC3.b Plan and carry out an investigation to d...</td>\n",
              "      <td>SC4.b Construct an argument using collision th...</td>\n",
              "      <td>SC5.b Construct an explanation using a heating...</td>\n",
              "      <td>SC6.b Plan and carry out an investigation to e...</td>\n",
              "    </tr>\n",
              "    <tr>\n",
              "      <th>c</th>\n",
              "      <td>SC1.c Construct an explanation based on scient...</td>\n",
              "      <td>SC2.c Construct an explanation about the impor...</td>\n",
              "      <td>SC3.c Use mathematics and computational thinki...</td>\n",
              "      <td>SC4.c Construct an explanation of the effects ...</td>\n",
              "      <td>SC5.c Develop and use models to quantitatively...</td>\n",
              "      <td>SC6.c Use mathematics and computational thinki...</td>\n",
              "    </tr>\n",
              "    <tr>\n",
              "      <th>d</th>\n",
              "      <td>SC1.d Construct an explanation that relates th...</td>\n",
              "      <td>SC2.d Develop and use models to evaluate bondi...</td>\n",
              "      <td>SC3.d Use mathematics and computational thinki...</td>\n",
              "      <td>SC4.d Refine the design of a chemical system b...</td>\n",
              "      <td>None</td>\n",
              "      <td>SC6.d Communicate scientific and technical inf...</td>\n",
              "    </tr>\n",
              "    <tr>\n",
              "      <th>e</th>\n",
              "      <td>SC1.e Construct an explanation of light emissi...</td>\n",
              "      <td>SC2.e Ask questions about chemical names to id...</td>\n",
              "      <td>SC3.e Plan and carry out an investigation to d...</td>\n",
              "      <td>None</td>\n",
              "      <td>None</td>\n",
              "      <td>SC6.e Develop and use a model to explain the e...</td>\n",
              "    </tr>\n",
              "    <tr>\n",
              "      <th>f</th>\n",
              "      <td>SC1.f Use the periodic table as a model to pre...</td>\n",
              "      <td>SC2.f Develop and use bonding models to predic...</td>\n",
              "      <td>None</td>\n",
              "      <td>None</td>\n",
              "      <td>None</td>\n",
              "      <td>SC6.f Use mathematics and computational thinki...</td>\n",
              "    </tr>\n",
              "    <tr>\n",
              "      <th>g</th>\n",
              "      <td>SC1.g Develop and use models, including electr...</td>\n",
              "      <td>SC2.g Develop a model to illustrate the releas...</td>\n",
              "      <td>None</td>\n",
              "      <td>None</td>\n",
              "      <td>None</td>\n",
              "      <td>SC6.g Ask questions to evaluate merits and lim...</td>\n",
              "    </tr>\n",
              "    <tr>\n",
              "      <th>h</th>\n",
              "      <td>None</td>\n",
              "      <td>None</td>\n",
              "      <td>None</td>\n",
              "      <td>None</td>\n",
              "      <td>None</td>\n",
              "      <td>SC6.h Plan and carry out an investigation to e...</td>\n",
              "    </tr>\n",
              "  </tbody>\n",
              "</table>\n",
              "</div>"
            ],
            "text/plain": [
              "                                                    SC1  ...                                                SC6\n",
              "main  SC1. Obtain, evaluate, and communicate informa...  ...  SC6. Obtain, evaluate, and communicate informa...\n",
              "a     SC1.a Evaluate merits and limitations of diffe...  ...  SC6.a Develop a model to illustrate the proces...\n",
              "b     SC1.b Construct an argument to support the cla...  ...  SC6.b Plan and carry out an investigation to e...\n",
              "c     SC1.c Construct an explanation based on scient...  ...  SC6.c Use mathematics and computational thinki...\n",
              "d     SC1.d Construct an explanation that relates th...  ...  SC6.d Communicate scientific and technical inf...\n",
              "e     SC1.e Construct an explanation of light emissi...  ...  SC6.e Develop and use a model to explain the e...\n",
              "f     SC1.f Use the periodic table as a model to pre...  ...  SC6.f Use mathematics and computational thinki...\n",
              "g     SC1.g Develop and use models, including electr...  ...  SC6.g Ask questions to evaluate merits and lim...\n",
              "h                                                  None  ...  SC6.h Plan and carry out an investigation to e...\n",
              "\n",
              "[9 rows x 6 columns]"
            ]
          },
          "metadata": {
            "tags": []
          },
          "execution_count": 7
        }
      ]
    },
    {
      "cell_type": "code",
      "metadata": {
        "id": "GwUVUkiFn6kF",
        "colab_type": "code",
        "colab": {}
      },
      "source": [
        "# Run this just once\n",
        "# df.to_csv('chemistry.csv')"
      ],
      "execution_count": 0,
      "outputs": []
    }
  ]
}
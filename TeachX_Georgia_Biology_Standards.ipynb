{
  "nbformat": 4,
  "nbformat_minor": 0,
  "metadata": {
    "colab": {
      "name": "TeachX Georgia Biology Standards.ipynb",
      "provenance": [],
      "collapsed_sections": [],
      "machine_shape": "hm",
      "include_colab_link": true
    },
    "kernelspec": {
      "name": "python3",
      "display_name": "Python 3"
    }
  },
  "cells": [
    {
      "cell_type": "markdown",
      "metadata": {
        "id": "view-in-github",
        "colab_type": "text"
      },
      "source": [
        "<a href=\"https://colab.research.google.com/github/valogonor/TeachX-Georgia-Standards/blob/master/TeachX_Georgia_Biology_Standards.ipynb\" target=\"_parent\"><img src=\"https://colab.research.google.com/assets/colab-badge.svg\" alt=\"Open In Colab\"/></a>"
      ]
    },
    {
      "cell_type": "code",
      "metadata": {
        "id": "yALAxrGx3LlQ",
        "colab_type": "code",
        "colab": {}
      },
      "source": [
        "text = open('Science-Biology-Georgia-Standards.txt')\n",
        "string = text.read()\n",
        "text.close()"
      ],
      "execution_count": 0,
      "outputs": []
    },
    {
      "cell_type": "markdown",
      "metadata": {
        "id": "dEKvbdjf3-fZ",
        "colab_type": "text"
      },
      "source": [
        "\"Science Georgia Standards of Excellence\\n\\nBiology Standards\\nThe Science Georgia Standards of Excellence are designed to provide foundational knowledge\\nand skills for all students to develop proficiency in science. The Project 2061’s Benchmarks for\\nScience Literacy and the follow up work, A Framework for K-12 Science Education were used as\\nthe core of the standards to determine appropriate content and process skills for students. The\\nScience Georgia Standards of Excellence focus on a limited number of core disciplinary ideas\\nand crosscutting concepts which build from Kindergarten to high school. The standards are\\nwritten with the core knowledge to be mastered integrated with the science and engineering\\npractices needed to engage in scientific inquiry and engineering design. Crosscutting concepts\\nare used to make connections across different science disciplines.\\nThe Science Georgia Standards of Excellence drive instruction. Hands-on, student-centered, and\\ninquiry-based approaches should be the emphasis of instruction. The standards are a required\\nminimum set of expectations that show proficiency in science. However, instruction can extend\\nbeyond these minimum expectations to meet student needs. At the same time, these standards set\\na maximum expectation on what will be assessed by the Georgia Milestones Assessment System.\\nScience consists of a way of thinking and investigating, as well a growing body of knowledge\\nabout the natural world. To become literate in science, students need to possess sufficient\\nunderstanding of fundamental science content knowledge, the ability to engage in the science\\nand engineering practices, and to use scientific and technological information correctly.\\nTechnology should be infused into the curriculum and the safety of the student should always be\\nforemost in instruction.\\nThe Biology Georgia Standards of Excellence are designed to continue the student investigations\\nof the life sciences that began in grades K-8 and provide students the necessary skills to be\\nproficient in biology by focusing on the identification of patterns, processes, and relationships of\\nliving organisms. These standards include more abstract concepts such as the interdependence of\\norganisms, the relationship of matter, energy, and organization in living systems, the behavior of\\norganisms, and biological evolution. Students investigate biological concepts through\\nexperiences in laboratories and field work using the process of inquiry.\\nBiology students start by developing an understanding of the cellular structure and the role these\\nstructures play in living cells. The students develop a fundamental understanding of the role of\\nbio-macromolecules, their structure and function as related to life processes. The students then\\nanalyze how genetic information is passed to their offspring and how these mechanisms lead to\\nvariability and hence diversity of species. They use cladograms and phylogenetic trees to\\ndetermine relationships among major groups of organisms. Biology students are able to\\nrecognize the central role the theory of evolution plays in explaining how the diversity observed\\nwithin species has led to the diversity of life across species through a process of descent with\\nadaptive modification.\\n\\nGeorgia Department of Education\\nMarch 31, 2016 ● Page 1 of 4\\n\\n\\x0cScience Georgia Standards of Excellence\\n\\nBiology\\nSB1. Obtain, evaluate, and communicate information to analyze the nature of the\\nrelationships between structures and functions in living cells.\\na. Construct an explanation of how cell structures and organelles (including nucleus, cytoplasm,\\ncell membrane, cell wall, chloroplasts, lysosome, Golgi, endoplasmic reticulum, vacuoles,\\nribosomes, and mitochondria) interact as a system to maintain homeostasis.\\nb. Develop and use models to explain the role of cellular reproduction (including binary fission,\\nmitosis, and meiosis) in maintaining genetic continuity.\\nc. Construct arguments supported by evidence to relate the structure of macromolecules\\n(carbohydrates, proteins, lipids, and nucleic acids) to their interactions in carrying out\\ncellular processes.\\n(Clarification statement: The function of proteins as enzymes is limited to a conceptual\\nunderstanding.)\\nd. Plan and carry out investigations to determine the role of cellular transport (e.g., active,\\npassive, and osmosis) in maintaining homeostasis.\\ne. Ask questions to investigate and provide explanations about the roles of photosynthesis and\\nrespiration in the cycling of matter and flow of energy within the cell (e.g., single-celled\\nalga).\\n(Clarification statement: Instruction should focus on understanding the inputs, outputs, and\\nfunctions of photosynthesis and respiration and the functions of the major sub-processes of\\neach including glycolysis, Krebs cycle, electron transport chain, light reactions, and Calvin\\ncycle.)\\nSB2. Obtain, evaluate, and communicate information to analyze how genetic information is\\nexpressed in cells.\\na. Construct an explanation of how the structures of DNA and RNA lead to the expression of\\ninformation within the cell via the processes of replication, transcription, and translation.\\nb. Construct an argument based on evidence to support the claim that inheritable genetic\\nvariations may result from:\\n\\uf0b7 new genetic combinations through meiosis (crossing over, nondisjunction);\\n\\uf0b7 non-lethal errors occurring during replication (insertions, deletions, substitutions); and/or\\n\\uf0b7 heritable mutations caused by environmental factors (radiation, chemicals, and viruses).\\nc. Ask questions to gather and communicate information about the use and ethical\\nconsiderations of biotechnology in forensics, medicine, and agriculture.\\n(Clarification statement: The element is intended to include advancements in technology\\nrelating to economics and society such as advancements may include Genetically Modified\\nOrganisms.)\\n\\nGeorgia Department of Education\\nMarch 31, 2016 ● Page 2 of 4\\n\\n\\x0cScience Georgia Standards of Excellence\\n\\nSB3. Obtain, evaluate, and communicate information to analyze how biological traits are\\npassed on to successive generations.\\na. Use Mendel’s laws (segregation and independent assortment) to ask questions and define\\nproblems that explain the role of meiosis in reproductive variability.\\nb. Use mathematical models to predict and explain patterns of inheritance.\\n(Clarification statement: Students should be able to use Punnett squares (monohybrid and\\ndihybrid crosses) and/or rules of probability, to analyze the following inheritance patterns:\\ndominance, codominance, incomplete dominance.)\\nc. Construct an argument to support a claim about the relative advantages and disadvantages of\\nsexual and asexual reproduction.\\nSB4. Obtain, evaluate, and communicate information to illustrate the organization of\\ninteracting systems within single-celled and multi-celled organisms.\\na. Construct an argument supported by scientific information to explain patterns in structures\\nand function among clades of organisms, including the origin of eukaryotes by\\nendosymbiosis. Clades should include:\\n\\uf0a7 archaea\\n\\uf0a7 bacteria\\n\\uf0a7 eukaryotes\\n\\uf0b7 fungi\\n\\uf0b7 plants\\n\\uf0b7 animals\\n(Clarification statement: This is reflective of 21st century classification schemes and nested\\nhierarchy of clades and is intended to develop a foundation for comparing major groups of\\norganisms. The term 'protist' is useful in describing those eukaryotes that are not within the\\nanimal, fungal or plant clades but the term does not describe a well-defined clade or a natural\\ntaxonomic group.)\\nb. Analyze and interpret data to develop models (i.e., cladograms and phylogenetic trees) based\\non patterns of common ancestry and the theory of evolution to determine relationships\\namong major groups of organisms.\\nc. Construct an argument supported by empirical evidence to compare and contrast the\\ncharacteristics of viruses and organisms.\\nSB5. Obtain, evaluate, and communicate information to assess the interdependence of all\\norganisms on one another and their environment.\\na. Plan and carry out investigations and analyze data to support explanations about factors\\naffecting biodiversity and populations in ecosystems.\\n(Clarification statement: Factors include population size, carrying capacity, response to\\nlimiting factors, and keystone species.)\\n\\nGeorgia Department of Education\\nMarch 31, 2016 ● Page 3 of 4\\n\\n\\x0cScience Georgia Standards of Excellence\\n\\nb. Develop and use models to analyze the cycling of matter and flow of energy within\\necosystems through the processes of photosynthesis and respiration.\\n\\uf0b7 Arranging components of a food web according to energy flow.\\n\\uf0b7 Comparing the quantity of energy in the steps of an energy pyramid.\\n\\uf0b7 Explaining the need for cycling of major biochemical elements (C, O, N, P, and H).\\nc. Construct an argument to predict the impact of environmental change on the stability of an\\necosystem.\\nd. Design a solution to reduce the impact of a human activity on the environment.\\n(Clarification statement: Human activities may include chemical use, natural resources\\nconsumption, introduction of non-native species, greenhouse gas production.)\\ne. Construct explanations that predict an organism’s ability to survive within changing\\nenvironmental limits (e.g., temperature, pH, drought, fire).\\nSB6. Obtain, evaluate, and communicate information to assess the theory of evolution.\\na. Construct an explanation of how new understandings of Earth’s history, the emergence of\\nnew species from pre-existing species, and our understanding of genetics have influenced our\\nunderstanding of biology.\\nb. Analyze and interpret data to explain patterns in biodiversity that result from speciation.\\nc. Construct an argument using valid and reliable sources to support the claim that evidence\\nfrom comparative morphology (analogous vs. homologous structures), embryology,\\nbiochemistry (protein sequence) and genetics support the theory that all living organisms are\\nrelated by way of common descent.\\nd. Develop and use mathematical models to support explanations of how undirected genetic\\nchanges in natural selection and genetic drift have led to changes in populations of\\norganisms.\\n(Clarification statement: Element is intended to focus on basic statistical and graphic\\nanalysis. Hardy Weinberg would be an optional application to address this element.)\\ne. Develop a model to explain the role natural selection plays in causing biological resistance\\n(e.g., pesticides, antibiotic resistance, and influenza vaccines).\\n\\nGeorgia Department of Education\\nMarch 31, 2016 ● Page 4 of 4\\n\\n\\x0c\""
      ]
    },
    {
      "cell_type": "code",
      "metadata": {
        "id": "72Dk25CVYExG",
        "colab_type": "code",
        "outputId": "94f74a40-3d8a-4cae-b314-f580a7c12a80",
        "colab": {
          "base_uri": "https://localhost:8080/",
          "height": 34
        }
      },
      "source": [
        "import re\n",
        "regex = r\"\\nSB\"\n",
        "re.findall(regex, string)"
      ],
      "execution_count": 0,
      "outputs": [
        {
          "output_type": "execute_result",
          "data": {
            "text/plain": [
              "['\\nSB', '\\nSB', '\\nSB', '\\nSB', '\\nSB', '\\nSB']"
            ]
          },
          "metadata": {
            "tags": []
          },
          "execution_count": 2
        }
      ]
    },
    {
      "cell_type": "code",
      "metadata": {
        "id": "qE9Ii9M7E10p",
        "colab_type": "code",
        "outputId": "6451937a-c86c-41f7-f951-5f2b5d721a63",
        "colab": {
          "base_uri": "https://localhost:8080/",
          "height": 138
        }
      },
      "source": [
        "text = string.split('\\nSB')\n",
        "text = text[1:]\n",
        "text"
      ],
      "execution_count": 0,
      "outputs": [
        {
          "output_type": "execute_result",
          "data": {
            "text/plain": [
              "['1. Obtain, evaluate, and communicate information to analyze the nature of the\\nrelationships between structures and functions in living cells.\\na. Construct an explanation of how cell structures and organelles (including nucleus, cytoplasm,\\ncell membrane, cell wall, chloroplasts, lysosome, Golgi, endoplasmic reticulum, vacuoles,\\nribosomes, and mitochondria) interact as a system to maintain homeostasis.\\nb. Develop and use models to explain the role of cellular reproduction (including binary fission,\\nmitosis, and meiosis) in maintaining genetic continuity.\\nc. Construct arguments supported by evidence to relate the structure of macromolecules\\n(carbohydrates, proteins, lipids, and nucleic acids) to their interactions in carrying out\\ncellular processes.\\n(Clarification statement: The function of proteins as enzymes is limited to a conceptual\\nunderstanding.)\\nd. Plan and carry out investigations to determine the role of cellular transport (e.g., active,\\npassive, and osmosis) in maintaining homeostasis.\\ne. Ask questions to investigate and provide explanations about the roles of photosynthesis and\\nrespiration in the cycling of matter and flow of energy within the cell (e.g., single-celled\\nalga).\\n(Clarification statement: Instruction should focus on understanding the inputs, outputs, and\\nfunctions of photosynthesis and respiration and the functions of the major sub-processes of\\neach including glycolysis, Krebs cycle, electron transport chain, light reactions, and Calvin\\ncycle.)',\n",
              " '2. Obtain, evaluate, and communicate information to analyze how genetic information is\\nexpressed in cells.\\na. Construct an explanation of how the structures of DNA and RNA lead to the expression of\\ninformation within the cell via the processes of replication, transcription, and translation.\\nb. Construct an argument based on evidence to support the claim that inheritable genetic\\nvariations may result from:\\n\\uf0b7 new genetic combinations through meiosis (crossing over, nondisjunction);\\n\\uf0b7 non-lethal errors occurring during replication (insertions, deletions, substitutions); and/or\\n\\uf0b7 heritable mutations caused by environmental factors (radiation, chemicals, and viruses).\\nc. Ask questions to gather and communicate information about the use and ethical\\nconsiderations of biotechnology in forensics, medicine, and agriculture.\\n(Clarification statement: The element is intended to include advancements in technology\\nrelating to economics and society such as advancements may include Genetically Modified\\nOrganisms.)\\n\\nGeorgia Department of Education\\nMarch 31, 2016 ● Page 2 of 4\\n\\n\\x0cScience Georgia Standards of Excellence\\n',\n",
              " '3. Obtain, evaluate, and communicate information to analyze how biological traits are\\npassed on to successive generations.\\na. Use Mendel’s laws (segregation and independent assortment) to ask questions and define\\nproblems that explain the role of meiosis in reproductive variability.\\nb. Use mathematical models to predict and explain patterns of inheritance.\\n(Clarification statement: Students should be able to use Punnett squares (monohybrid and\\ndihybrid crosses) and/or rules of probability, to analyze the following inheritance patterns:\\ndominance, codominance, incomplete dominance.)\\nc. Construct an argument to support a claim about the relative advantages and disadvantages of\\nsexual and asexual reproduction.',\n",
              " \"4. Obtain, evaluate, and communicate information to illustrate the organization of\\ninteracting systems within single-celled and multi-celled organisms.\\na. Construct an argument supported by scientific information to explain patterns in structures\\nand function among clades of organisms, including the origin of eukaryotes by\\nendosymbiosis. Clades should include:\\n\\uf0a7 archaea\\n\\uf0a7 bacteria\\n\\uf0a7 eukaryotes\\n\\uf0b7 fungi\\n\\uf0b7 plants\\n\\uf0b7 animals\\n(Clarification statement: This is reflective of 21st century classification schemes and nested\\nhierarchy of clades and is intended to develop a foundation for comparing major groups of\\norganisms. The term 'protist' is useful in describing those eukaryotes that are not within the\\nanimal, fungal or plant clades but the term does not describe a well-defined clade or a natural\\ntaxonomic group.)\\nb. Analyze and interpret data to develop models (i.e., cladograms and phylogenetic trees) based\\non patterns of common ancestry and the theory of evolution to determine relationships\\namong major groups of organisms.\\nc. Construct an argument supported by empirical evidence to compare and contrast the\\ncharacteristics of viruses and organisms.\",\n",
              " '5. Obtain, evaluate, and communicate information to assess the interdependence of all\\norganisms on one another and their environment.\\na. Plan and carry out investigations and analyze data to support explanations about factors\\naffecting biodiversity and populations in ecosystems.\\n(Clarification statement: Factors include population size, carrying capacity, response to\\nlimiting factors, and keystone species.)\\n\\nGeorgia Department of Education\\nMarch 31, 2016 ● Page 3 of 4\\n\\n\\x0cScience Georgia Standards of Excellence\\n\\nb. Develop and use models to analyze the cycling of matter and flow of energy within\\necosystems through the processes of photosynthesis and respiration.\\n\\uf0b7 Arranging components of a food web according to energy flow.\\n\\uf0b7 Comparing the quantity of energy in the steps of an energy pyramid.\\n\\uf0b7 Explaining the need for cycling of major biochemical elements (C, O, N, P, and H).\\nc. Construct an argument to predict the impact of environmental change on the stability of an\\necosystem.\\nd. Design a solution to reduce the impact of a human activity on the environment.\\n(Clarification statement: Human activities may include chemical use, natural resources\\nconsumption, introduction of non-native species, greenhouse gas production.)\\ne. Construct explanations that predict an organism’s ability to survive within changing\\nenvironmental limits (e.g., temperature, pH, drought, fire).',\n",
              " '6. Obtain, evaluate, and communicate information to assess the theory of evolution.\\na. Construct an explanation of how new understandings of Earth’s history, the emergence of\\nnew species from pre-existing species, and our understanding of genetics have influenced our\\nunderstanding of biology.\\nb. Analyze and interpret data to explain patterns in biodiversity that result from speciation.\\nc. Construct an argument using valid and reliable sources to support the claim that evidence\\nfrom comparative morphology (analogous vs. homologous structures), embryology,\\nbiochemistry (protein sequence) and genetics support the theory that all living organisms are\\nrelated by way of common descent.\\nd. Develop and use mathematical models to support explanations of how undirected genetic\\nchanges in natural selection and genetic drift have led to changes in populations of\\norganisms.\\n(Clarification statement: Element is intended to focus on basic statistical and graphic\\nanalysis. Hardy Weinberg would be an optional application to address this element.)\\ne. Develop a model to explain the role natural selection plays in causing biological resistance\\n(e.g., pesticides, antibiotic resistance, and influenza vaccines).\\n\\nGeorgia Department of Education\\nMarch 31, 2016 ● Page 4 of 4\\n\\n\\x0c']"
            ]
          },
          "metadata": {
            "tags": []
          },
          "execution_count": 3
        }
      ]
    },
    {
      "cell_type": "markdown",
      "metadata": {
        "id": "N9EQ1WohIYfI",
        "colab_type": "text"
      },
      "source": [
        " '1. Obtain, evaluate, and communicate information to analyze the nature of the\\nrelationships between structures and functions in living cells.\\na. Construct an explanation of how cell structures and organelles (including nucleus, cytoplasm,\\ncell membrane, cell wall, chloroplasts, lysosome, Golgi, endoplasmic reticulum, vacuoles,\\nribosomes, and mitochondria) interact as a system to maintain homeostasis.\\nb. Develop and use models to explain the role of cellular reproduction (including binary fission,\\nmitosis, and meiosis) in maintaining genetic continuity.\\nc. Construct arguments supported by evidence to relate the structure of macromolecules\\n(carbohydrates, proteins, lipids, and nucleic acids) to their interactions in carrying out\\ncellular processes.\\n(Clarification statement: The function of proteins as enzymes is limited to a conceptual\\nunderstanding.)\\nd. Plan and carry out investigations to determine the role of cellular transport (e.g., active,\\npassive, and osmosis) in maintaining homeostasis.\\ne. Ask questions to investigate and provide explanations about the roles of photosynthesis and\\nrespiration in the cycling of matter and flow of energy within the cell (e.g., single-celled\\nalga).\\n(Clarification statement: Instruction should focus on understanding the inputs, outputs, and\\nfunctions of photosynthesis and respiration and the functions of the major sub-processes of\\neach including glycolysis, Krebs cycle, electron transport chain, light reactions, and Calvin\\ncycle.)',\n"
      ]
    },
    {
      "cell_type": "code",
      "metadata": {
        "id": "SOTrFla0H-AI",
        "colab_type": "code",
        "outputId": "47176aed-7e47-4e0e-faec-2c92f71346bc",
        "colab": {
          "base_uri": "https://localhost:8080/",
          "height": 1000
        }
      },
      "source": [
        "for t in text:\n",
        "    print(t)\n",
        "    print('---------------------------------------')"
      ],
      "execution_count": 0,
      "outputs": [
        {
          "output_type": "stream",
          "text": [
            "1. Obtain, evaluate, and communicate information to analyze the nature of the\n",
            "relationships between structures and functions in living cells.\n",
            "a. Construct an explanation of how cell structures and organelles (including nucleus, cytoplasm,\n",
            "cell membrane, cell wall, chloroplasts, lysosome, Golgi, endoplasmic reticulum, vacuoles,\n",
            "ribosomes, and mitochondria) interact as a system to maintain homeostasis.\n",
            "b. Develop and use models to explain the role of cellular reproduction (including binary fission,\n",
            "mitosis, and meiosis) in maintaining genetic continuity.\n",
            "c. Construct arguments supported by evidence to relate the structure of macromolecules\n",
            "(carbohydrates, proteins, lipids, and nucleic acids) to their interactions in carrying out\n",
            "cellular processes.\n",
            "(Clarification statement: The function of proteins as enzymes is limited to a conceptual\n",
            "understanding.)\n",
            "d. Plan and carry out investigations to determine the role of cellular transport (e.g., active,\n",
            "passive, and osmosis) in maintaining homeostasis.\n",
            "e. Ask questions to investigate and provide explanations about the roles of photosynthesis and\n",
            "respiration in the cycling of matter and flow of energy within the cell (e.g., single-celled\n",
            "alga).\n",
            "(Clarification statement: Instruction should focus on understanding the inputs, outputs, and\n",
            "functions of photosynthesis and respiration and the functions of the major sub-processes of\n",
            "each including glycolysis, Krebs cycle, electron transport chain, light reactions, and Calvin\n",
            "cycle.)\n",
            "---------------------------------------\n",
            "2. Obtain, evaluate, and communicate information to analyze how genetic information is\n",
            "expressed in cells.\n",
            "a. Construct an explanation of how the structures of DNA and RNA lead to the expression of\n",
            "information within the cell via the processes of replication, transcription, and translation.\n",
            "b. Construct an argument based on evidence to support the claim that inheritable genetic\n",
            "variations may result from:\n",
            " new genetic combinations through meiosis (crossing over, nondisjunction);\n",
            " non-lethal errors occurring during replication (insertions, deletions, substitutions); and/or\n",
            " heritable mutations caused by environmental factors (radiation, chemicals, and viruses).\n",
            "c. Ask questions to gather and communicate information about the use and ethical\n",
            "considerations of biotechnology in forensics, medicine, and agriculture.\n",
            "(Clarification statement: The element is intended to include advancements in technology\n",
            "relating to economics and society such as advancements may include Genetically Modified\n",
            "Organisms.)\n",
            "\n",
            "Georgia Department of Education\n",
            "March 31, 2016 ● Page 2 of 4\n",
            "\n",
            "\fScience Georgia Standards of Excellence\n",
            "\n",
            "---------------------------------------\n",
            "3. Obtain, evaluate, and communicate information to analyze how biological traits are\n",
            "passed on to successive generations.\n",
            "a. Use Mendel’s laws (segregation and independent assortment) to ask questions and define\n",
            "problems that explain the role of meiosis in reproductive variability.\n",
            "b. Use mathematical models to predict and explain patterns of inheritance.\n",
            "(Clarification statement: Students should be able to use Punnett squares (monohybrid and\n",
            "dihybrid crosses) and/or rules of probability, to analyze the following inheritance patterns:\n",
            "dominance, codominance, incomplete dominance.)\n",
            "c. Construct an argument to support a claim about the relative advantages and disadvantages of\n",
            "sexual and asexual reproduction.\n",
            "---------------------------------------\n",
            "4. Obtain, evaluate, and communicate information to illustrate the organization of\n",
            "interacting systems within single-celled and multi-celled organisms.\n",
            "a. Construct an argument supported by scientific information to explain patterns in structures\n",
            "and function among clades of organisms, including the origin of eukaryotes by\n",
            "endosymbiosis. Clades should include:\n",
            " archaea\n",
            " bacteria\n",
            " eukaryotes\n",
            " fungi\n",
            " plants\n",
            " animals\n",
            "(Clarification statement: This is reflective of 21st century classification schemes and nested\n",
            "hierarchy of clades and is intended to develop a foundation for comparing major groups of\n",
            "organisms. The term 'protist' is useful in describing those eukaryotes that are not within the\n",
            "animal, fungal or plant clades but the term does not describe a well-defined clade or a natural\n",
            "taxonomic group.)\n",
            "b. Analyze and interpret data to develop models (i.e., cladograms and phylogenetic trees) based\n",
            "on patterns of common ancestry and the theory of evolution to determine relationships\n",
            "among major groups of organisms.\n",
            "c. Construct an argument supported by empirical evidence to compare and contrast the\n",
            "characteristics of viruses and organisms.\n",
            "---------------------------------------\n",
            "5. Obtain, evaluate, and communicate information to assess the interdependence of all\n",
            "organisms on one another and their environment.\n",
            "a. Plan and carry out investigations and analyze data to support explanations about factors\n",
            "affecting biodiversity and populations in ecosystems.\n",
            "(Clarification statement: Factors include population size, carrying capacity, response to\n",
            "limiting factors, and keystone species.)\n",
            "\n",
            "Georgia Department of Education\n",
            "March 31, 2016 ● Page 3 of 4\n",
            "\n",
            "\fScience Georgia Standards of Excellence\n",
            "\n",
            "b. Develop and use models to analyze the cycling of matter and flow of energy within\n",
            "ecosystems through the processes of photosynthesis and respiration.\n",
            " Arranging components of a food web according to energy flow.\n",
            " Comparing the quantity of energy in the steps of an energy pyramid.\n",
            " Explaining the need for cycling of major biochemical elements (C, O, N, P, and H).\n",
            "c. Construct an argument to predict the impact of environmental change on the stability of an\n",
            "ecosystem.\n",
            "d. Design a solution to reduce the impact of a human activity on the environment.\n",
            "(Clarification statement: Human activities may include chemical use, natural resources\n",
            "consumption, introduction of non-native species, greenhouse gas production.)\n",
            "e. Construct explanations that predict an organism’s ability to survive within changing\n",
            "environmental limits (e.g., temperature, pH, drought, fire).\n",
            "---------------------------------------\n",
            "6. Obtain, evaluate, and communicate information to assess the theory of evolution.\n",
            "a. Construct an explanation of how new understandings of Earth’s history, the emergence of\n",
            "new species from pre-existing species, and our understanding of genetics have influenced our\n",
            "understanding of biology.\n",
            "b. Analyze and interpret data to explain patterns in biodiversity that result from speciation.\n",
            "c. Construct an argument using valid and reliable sources to support the claim that evidence\n",
            "from comparative morphology (analogous vs. homologous structures), embryology,\n",
            "biochemistry (protein sequence) and genetics support the theory that all living organisms are\n",
            "related by way of common descent.\n",
            "d. Develop and use mathematical models to support explanations of how undirected genetic\n",
            "changes in natural selection and genetic drift have led to changes in populations of\n",
            "organisms.\n",
            "(Clarification statement: Element is intended to focus on basic statistical and graphic\n",
            "analysis. Hardy Weinberg would be an optional application to address this element.)\n",
            "e. Develop a model to explain the role natural selection plays in causing biological resistance\n",
            "(e.g., pesticides, antibiotic resistance, and influenza vaccines).\n",
            "\n",
            "Georgia Department of Education\n",
            "March 31, 2016 ● Page 4 of 4\n",
            "\n",
            "\f\n",
            "---------------------------------------\n"
          ],
          "name": "stdout"
        }
      ]
    },
    {
      "cell_type": "code",
      "metadata": {
        "id": "dkoMEnZ_eEfX",
        "colab_type": "code",
        "outputId": "ffa3c877-53f4-4dc9-b78c-407360a99aa5",
        "colab": {
          "base_uri": "https://localhost:8080/",
          "height": 70
        }
      },
      "source": [
        "print(len(text[4]))\n",
        "text[4]"
      ],
      "execution_count": 0,
      "outputs": [
        {
          "output_type": "stream",
          "text": [
            "1386\n"
          ],
          "name": "stdout"
        },
        {
          "output_type": "execute_result",
          "data": {
            "text/plain": [
              "'5. Obtain, evaluate, and communicate information to assess the interdependence of all\\norganisms on one another and their environment.\\na. Plan and carry out investigations and analyze data to support explanations about factors\\naffecting biodiversity and populations in ecosystems.\\n(Clarification statement: Factors include population size, carrying capacity, response to\\nlimiting factors, and keystone species.)\\n\\nGeorgia Department of Education\\nMarch 31, 2016 ● Page 3 of 4\\n\\n\\x0cScience Georgia Standards of Excellence\\n\\nb. Develop and use models to analyze the cycling of matter and flow of energy within\\necosystems through the processes of photosynthesis and respiration.\\n\\uf0b7 Arranging components of a food web according to energy flow.\\n\\uf0b7 Comparing the quantity of energy in the steps of an energy pyramid.\\n\\uf0b7 Explaining the need for cycling of major biochemical elements (C, O, N, P, and H).\\nc. Construct an argument to predict the impact of environmental change on the stability of an\\necosystem.\\nd. Design a solution to reduce the impact of a human activity on the environment.\\n(Clarification statement: Human activities may include chemical use, natural resources\\nconsumption, introduction of non-native species, greenhouse gas production.)\\ne. Construct explanations that predict an organism’s ability to survive within changing\\nenvironmental limits (e.g., temperature, pH, drought, fire).'"
            ]
          },
          "metadata": {
            "tags": []
          },
          "execution_count": 5
        }
      ]
    },
    {
      "cell_type": "code",
      "metadata": {
        "id": "jim0quJl5cTT",
        "colab_type": "code",
        "outputId": "05347e99-530b-4801-8a47-d556682fcb0f",
        "colab": {
          "base_uri": "https://localhost:8080/",
          "height": 420
        }
      },
      "source": [
        "sb = text[4].split('\\n')\n",
        "sb"
      ],
      "execution_count": 0,
      "outputs": [
        {
          "output_type": "execute_result",
          "data": {
            "text/plain": [
              "['5. Obtain, evaluate, and communicate information to assess the interdependence of all',\n",
              " 'organisms on one another and their environment.',\n",
              " 'a. Plan and carry out investigations and analyze data to support explanations about factors',\n",
              " 'affecting biodiversity and populations in ecosystems.',\n",
              " '(Clarification statement: Factors include population size, carrying capacity, response to',\n",
              " 'limiting factors, and keystone species.)',\n",
              " '',\n",
              " 'Georgia Department of Education',\n",
              " 'March 31, 2016 ● Page 3 of 4',\n",
              " '',\n",
              " '\\x0cScience Georgia Standards of Excellence',\n",
              " '',\n",
              " 'b. Develop and use models to analyze the cycling of matter and flow of energy within',\n",
              " 'ecosystems through the processes of photosynthesis and respiration.',\n",
              " '\\uf0b7 Arranging components of a food web according to energy flow.',\n",
              " '\\uf0b7 Comparing the quantity of energy in the steps of an energy pyramid.',\n",
              " '\\uf0b7 Explaining the need for cycling of major biochemical elements (C, O, N, P, and H).',\n",
              " 'c. Construct an argument to predict the impact of environmental change on the stability of an',\n",
              " 'ecosystem.',\n",
              " 'd. Design a solution to reduce the impact of a human activity on the environment.',\n",
              " '(Clarification statement: Human activities may include chemical use, natural resources',\n",
              " 'consumption, introduction of non-native species, greenhouse gas production.)',\n",
              " 'e. Construct explanations that predict an organism’s ability to survive within changing',\n",
              " 'environmental limits (e.g., temperature, pH, drought, fire).']"
            ]
          },
          "metadata": {
            "tags": []
          },
          "execution_count": 6
        }
      ]
    },
    {
      "cell_type": "code",
      "metadata": {
        "id": "gVe8cDUxfljs",
        "colab_type": "code",
        "outputId": "1d3acd8b-5649-4053-eeb2-714318cef272",
        "colab": {
          "base_uri": "https://localhost:8080/",
          "height": 541
        }
      },
      "source": [
        "data = []\n",
        "for j in range(6):\n",
        "    sb = text[j].split('\\n')\n",
        "    if '' in sb:\n",
        "        idx = sb.index('')\n",
        "        sb = sb[:idx] + sb[idx+6:]\n",
        "    res = []\n",
        "    n = len(sb)\n",
        "    i = 1\n",
        "    res.append(sb[0])\n",
        "    while i < n:\n",
        "        if sb[i][1] != '.':\n",
        "            res[-1] += ' ' + sb[i]\n",
        "        else:\n",
        "            res.append(sb[i])\n",
        "        i += 1\n",
        "    data.append(res)\n",
        "data"
      ],
      "execution_count": 0,
      "outputs": [
        {
          "output_type": "execute_result",
          "data": {
            "text/plain": [
              "[['1. Obtain, evaluate, and communicate information to analyze the nature of the relationships between structures and functions in living cells.',\n",
              "  'a. Construct an explanation of how cell structures and organelles (including nucleus, cytoplasm, cell membrane, cell wall, chloroplasts, lysosome, Golgi, endoplasmic reticulum, vacuoles, ribosomes, and mitochondria) interact as a system to maintain homeostasis.',\n",
              "  'b. Develop and use models to explain the role of cellular reproduction (including binary fission, mitosis, and meiosis) in maintaining genetic continuity.',\n",
              "  'c. Construct arguments supported by evidence to relate the structure of macromolecules (carbohydrates, proteins, lipids, and nucleic acids) to their interactions in carrying out cellular processes. (Clarification statement: The function of proteins as enzymes is limited to a conceptual understanding.)',\n",
              "  'd. Plan and carry out investigations to determine the role of cellular transport (e.g., active, passive, and osmosis) in maintaining homeostasis.',\n",
              "  'e. Ask questions to investigate and provide explanations about the roles of photosynthesis and respiration in the cycling of matter and flow of energy within the cell (e.g., single-celled alga). (Clarification statement: Instruction should focus on understanding the inputs, outputs, and functions of photosynthesis and respiration and the functions of the major sub-processes of each including glycolysis, Krebs cycle, electron transport chain, light reactions, and Calvin cycle.)'],\n",
              " ['2. Obtain, evaluate, and communicate information to analyze how genetic information is expressed in cells.',\n",
              "  'a. Construct an explanation of how the structures of DNA and RNA lead to the expression of information within the cell via the processes of replication, transcription, and translation.',\n",
              "  'b. Construct an argument based on evidence to support the claim that inheritable genetic variations may result from: \\uf0b7 new genetic combinations through meiosis (crossing over, nondisjunction); \\uf0b7 non-lethal errors occurring during replication (insertions, deletions, substitutions); and/or \\uf0b7 heritable mutations caused by environmental factors (radiation, chemicals, and viruses).',\n",
              "  'c. Ask questions to gather and communicate information about the use and ethical considerations of biotechnology in forensics, medicine, and agriculture. (Clarification statement: The element is intended to include advancements in technology relating to economics and society such as advancements may include Genetically Modified Organisms.)'],\n",
              " ['3. Obtain, evaluate, and communicate information to analyze how biological traits are passed on to successive generations.',\n",
              "  'a. Use Mendel’s laws (segregation and independent assortment) to ask questions and define problems that explain the role of meiosis in reproductive variability.',\n",
              "  'b. Use mathematical models to predict and explain patterns of inheritance. (Clarification statement: Students should be able to use Punnett squares (monohybrid and dihybrid crosses) and/or rules of probability, to analyze the following inheritance patterns: dominance, codominance, incomplete dominance.)',\n",
              "  'c. Construct an argument to support a claim about the relative advantages and disadvantages of sexual and asexual reproduction.'],\n",
              " ['4. Obtain, evaluate, and communicate information to illustrate the organization of interacting systems within single-celled and multi-celled organisms.',\n",
              "  \"a. Construct an argument supported by scientific information to explain patterns in structures and function among clades of organisms, including the origin of eukaryotes by endosymbiosis. Clades should include: \\uf0a7 archaea \\uf0a7 bacteria \\uf0a7 eukaryotes \\uf0b7 fungi \\uf0b7 plants \\uf0b7 animals (Clarification statement: This is reflective of 21st century classification schemes and nested hierarchy of clades and is intended to develop a foundation for comparing major groups of organisms. The term 'protist' is useful in describing those eukaryotes that are not within the animal, fungal or plant clades but the term does not describe a well-defined clade or a natural taxonomic group.)\",\n",
              "  'b. Analyze and interpret data to develop models (i.e., cladograms and phylogenetic trees) based on patterns of common ancestry and the theory of evolution to determine relationships among major groups of organisms.',\n",
              "  'c. Construct an argument supported by empirical evidence to compare and contrast the characteristics of viruses and organisms.'],\n",
              " ['5. Obtain, evaluate, and communicate information to assess the interdependence of all organisms on one another and their environment.',\n",
              "  'a. Plan and carry out investigations and analyze data to support explanations about factors affecting biodiversity and populations in ecosystems. (Clarification statement: Factors include population size, carrying capacity, response to limiting factors, and keystone species.)',\n",
              "  'b. Develop and use models to analyze the cycling of matter and flow of energy within ecosystems through the processes of photosynthesis and respiration. \\uf0b7 Arranging components of a food web according to energy flow. \\uf0b7 Comparing the quantity of energy in the steps of an energy pyramid. \\uf0b7 Explaining the need for cycling of major biochemical elements (C, O, N, P, and H).',\n",
              "  'c. Construct an argument to predict the impact of environmental change on the stability of an ecosystem.',\n",
              "  'd. Design a solution to reduce the impact of a human activity on the environment. (Clarification statement: Human activities may include chemical use, natural resources consumption, introduction of non-native species, greenhouse gas production.)',\n",
              "  'e. Construct explanations that predict an organism’s ability to survive within changing environmental limits (e.g., temperature, pH, drought, fire).'],\n",
              " ['6. Obtain, evaluate, and communicate information to assess the theory of evolution.',\n",
              "  'a. Construct an explanation of how new understandings of Earth’s history, the emergence of new species from pre-existing species, and our understanding of genetics have influenced our understanding of biology.',\n",
              "  'b. Analyze and interpret data to explain patterns in biodiversity that result from speciation.',\n",
              "  'c. Construct an argument using valid and reliable sources to support the claim that evidence from comparative morphology (analogous vs. homologous structures), embryology, biochemistry (protein sequence) and genetics support the theory that all living organisms are related by way of common descent.',\n",
              "  'd. Develop and use mathematical models to support explanations of how undirected genetic changes in natural selection and genetic drift have led to changes in populations of organisms. (Clarification statement: Element is intended to focus on basic statistical and graphic analysis. Hardy Weinberg would be an optional application to address this element.)',\n",
              "  'e. Develop a model to explain the role natural selection plays in causing biological resistance (e.g., pesticides, antibiotic resistance, and influenza vaccines).']]"
            ]
          },
          "metadata": {
            "tags": []
          },
          "execution_count": 7
        }
      ]
    },
    {
      "cell_type": "code",
      "metadata": {
        "id": "BCaMKboR4KSc",
        "colab_type": "code",
        "outputId": "ef0d3525-c9d0-4b9e-9b82-1886ff0bcfad",
        "colab": {
          "base_uri": "https://localhost:8080/",
          "height": 541
        }
      },
      "source": [
        "for i in range(len(data)):\n",
        "    n = len(data[i])\n",
        "    num = data[i][0][0]\n",
        "    for j in range(n):\n",
        "        line = data[i][j]\n",
        "        if line[0].isnumeric():\n",
        "            line = line.replace(line[0], 'SB' + num)\n",
        "            data[i][j] = line\n",
        "        else:\n",
        "            line = line.replace(line[:2], 'SB' + num + '.' + line[0])\n",
        "            data[i][j] = line\n",
        "data"
      ],
      "execution_count": 0,
      "outputs": [
        {
          "output_type": "execute_result",
          "data": {
            "text/plain": [
              "[['SB1. Obtain, evaluate, and communicate information to analyze the nature of the relationships between structures and functions in living cells.',\n",
              "  'SB1.a Construct an explanation of how cell structures and organelles (including nucleus, cytoplasm, cell membrane, cell wall, chloroplasts, lysosome, Golgi, endoplasmic reticulum, vacuoles, ribosomes, and mitochondria) interact as a system to maintain homeostasis.',\n",
              "  'SB1.b Develop and use models to explain the role of cellular reproduction (including binary fission, mitosis, and meiosis) in maintaining genetic continuity.',\n",
              "  'SB1.c Construct arguments supported by evidence to relate the structure of macromolecules (carbohydrates, proteins, lipids, and nucleic acids) to their interactions in carrying out cellular processes. (Clarification statement: The function of proteins as enzymes is limited to a conceptual understanding.)',\n",
              "  'SB1.d Plan and carry out investigations to determine the role of cellular transport (e.g., active, passive, and osmosis) in maintaining homeostasis.',\n",
              "  'SB1.e Ask questions to investigate and provide explanations about the roles of photosynthesis and respiration in the cycling of matter and flow of energy within the cell (SB1.eg., single-celled alga). (Clarification statement: Instruction should focus on understanding the inputs, outputs, and functions of photosynthesis and respiration and the functions of the major sub-processes of each including glycolysis, Krebs cycle, electron transport chain, light reactions, and Calvin cyclSB1.e)'],\n",
              " ['SB2. Obtain, evaluate, and communicate information to analyze how genetic information is expressed in cells.',\n",
              "  'SB2.a Construct an explanation of how the structures of DNA and RNA lead to the expression of information within the cell via the processes of replication, transcription, and translation.',\n",
              "  'SB2.b Construct an argument based on evidence to support the claim that inheritable genetic variations may result from: \\uf0b7 new genetic combinations through meiosis (crossing over, nondisjunction); \\uf0b7 non-lethal errors occurring during replication (insertions, deletions, substitutions); and/or \\uf0b7 heritable mutations caused by environmental factors (radiation, chemicals, and viruses).',\n",
              "  'SB2.c Ask questions to gather and communicate information about the use and ethical considerations of biotechnology in forensics, medicine, and agriculture. (Clarification statement: The element is intended to include advancements in technology relating to economics and society such as advancements may include Genetically Modified Organisms.)'],\n",
              " ['SB3. Obtain, evaluate, and communicate information to analyze how biological traits are passed on to successive generations.',\n",
              "  'SB3.a Use Mendel’s laws (segregation and independent assortment) to ask questions and define problems that explain the role of meiosis in reproductive variability.',\n",
              "  'SB3.b Use mathematical models to predict and explain patterns of inheritance. (Clarification statement: Students should be able to use Punnett squares (monohybrid and dihybrid crosses) and/or rules of probability, to analyze the following inheritance patterns: dominance, codominance, incomplete dominance.)',\n",
              "  'SB3.c Construct an argument to support a claim about the relative advantages and disadvantages of sexual and asexual reproduction.'],\n",
              " ['SB4. Obtain, evaluate, and communicate information to illustrate the organization of interacting systems within single-celled and multi-celled organisms.',\n",
              "  \"SB4.a Construct an argument supported by scientific information to explain patterns in structures and function among clades of organisms, including the origin of eukaryotes by endosymbiosis. Clades should include: \\uf0a7 archaea \\uf0a7 bacteria \\uf0a7 eukaryotes \\uf0b7 fungi \\uf0b7 plants \\uf0b7 animals (Clarification statement: This is reflective of 21st century classification schemes and nested hierarchy of clades and is intended to develop a foundation for comparing major groups of organisms. The term 'protist' is useful in describing those eukaryotes that are not within the animal, fungal or plant clades but the term does not describe a well-defined clade or a natural taxonomic group.)\",\n",
              "  'SB4.b Analyze and interpret data to develop models (i.e., cladograms and phylogenetic trees) based on patterns of common ancestry and the theory of evolution to determine relationships among major groups of organisms.',\n",
              "  'SB4.c Construct an argument supported by empirical evidence to compare and contrast the characteristics of viruses and organisms.'],\n",
              " ['SB5. Obtain, evaluate, and communicate information to assess the interdependence of all organisms on one another and their environment.',\n",
              "  'SB5.a Plan and carry out investigations and analyze data to support explanations about factors affecting biodiversity and populations in ecosystems. (Clarification statement: Factors include population size, carrying capacity, response to limiting factors, and keystone species.)',\n",
              "  'SB5.b Develop and use models to analyze the cycling of matter and flow of energy within ecosystems through the processes of photosynthesis and respiration. \\uf0b7 Arranging components of a food web according to energy flow. \\uf0b7 Comparing the quantity of energy in the steps of an energy pyramid. \\uf0b7 Explaining the need for cycling of major biochemical elements (C, O, N, P, and H).',\n",
              "  'SB5.c Construct an argument to predict the impact of environmental change on the stability of an ecosystem.',\n",
              "  'SB5.d Design a solution to reduce the impact of a human activity on the environment. (Clarification statement: Human activities may include chemical use, natural resources consumption, introduction of non-native species, greenhouse gas production.)',\n",
              "  'SB5.e Construct explanations that predict an organism’s ability to survive within changing environmental limits (SB5.eg., temperature, pH, drought, fire).'],\n",
              " ['SB6. Obtain, evaluate, and communicate information to assess the theory of evolution.',\n",
              "  'SB6.a Construct an explanation of how new understandings of Earth’s history, the emergence of new species from pre-existing species, and our understanding of genetics have influenced our understanding of biology.',\n",
              "  'SB6.b Analyze and interpret data to explain patterns in biodiversity that result from speciation.',\n",
              "  'SB6.c Construct an argument using valid and reliable sources to support the claim that evidence from comparative morphology (analogous vs. homologous structures), embryology, biochemistry (protein sequence) and genetics support the theory that all living organisms are related by way of common descent.',\n",
              "  'SB6.d Develop and use mathematical models to support explanations of how undirected genetic changes in natural selection and genetic drift have led to changes in populations of organisms. (Clarification statement: Element is intended to focus on basic statistical and graphic analysis. Hardy Weinberg would be an optional application to address this element.)',\n",
              "  'SB6.e Develop a model to explain the role natural selection plays in causing biological resistance (SB6.eg., pesticides, antibiotic resistance, and influenza vaccines).']]"
            ]
          },
          "metadata": {
            "tags": []
          },
          "execution_count": 8
        }
      ]
    },
    {
      "cell_type": "code",
      "metadata": {
        "id": "-51Qgkx5rrhJ",
        "colab_type": "code",
        "outputId": "d3433768-8995-4d86-e4ef-1c895b16380a",
        "colab": {
          "base_uri": "https://localhost:8080/",
          "height": 326
        }
      },
      "source": [
        "import pandas as pd\n",
        "columns = ['main', 'a', 'b', 'c', 'd', 'e']\n",
        "index = ['SB1', 'SB2', 'SB3', 'SB4', 'SB5', 'SB6']\n",
        "df = pd.DataFrame(data, columns=columns, index=index)\n",
        "df"
      ],
      "execution_count": 0,
      "outputs": [
        {
          "output_type": "execute_result",
          "data": {
            "text/html": [
              "<div>\n",
              "<style scoped>\n",
              "    .dataframe tbody tr th:only-of-type {\n",
              "        vertical-align: middle;\n",
              "    }\n",
              "\n",
              "    .dataframe tbody tr th {\n",
              "        vertical-align: top;\n",
              "    }\n",
              "\n",
              "    .dataframe thead th {\n",
              "        text-align: right;\n",
              "    }\n",
              "</style>\n",
              "<table border=\"1\" class=\"dataframe\">\n",
              "  <thead>\n",
              "    <tr style=\"text-align: right;\">\n",
              "      <th></th>\n",
              "      <th>main</th>\n",
              "      <th>a</th>\n",
              "      <th>b</th>\n",
              "      <th>c</th>\n",
              "      <th>d</th>\n",
              "      <th>e</th>\n",
              "    </tr>\n",
              "  </thead>\n",
              "  <tbody>\n",
              "    <tr>\n",
              "      <th>SB1</th>\n",
              "      <td>SB1. Obtain, evaluate, and communicate informa...</td>\n",
              "      <td>SB1.a Construct an explanation of how cell str...</td>\n",
              "      <td>SB1.b Develop and use models to explain the ro...</td>\n",
              "      <td>SB1.c Construct arguments supported by evidenc...</td>\n",
              "      <td>SB1.d Plan and carry out investigations to det...</td>\n",
              "      <td>SB1.e Ask questions to investigate and provide...</td>\n",
              "    </tr>\n",
              "    <tr>\n",
              "      <th>SB2</th>\n",
              "      <td>SB2. Obtain, evaluate, and communicate informa...</td>\n",
              "      <td>SB2.a Construct an explanation of how the stru...</td>\n",
              "      <td>SB2.b Construct an argument based on evidence ...</td>\n",
              "      <td>SB2.c Ask questions to gather and communicate ...</td>\n",
              "      <td>None</td>\n",
              "      <td>None</td>\n",
              "    </tr>\n",
              "    <tr>\n",
              "      <th>SB3</th>\n",
              "      <td>SB3. Obtain, evaluate, and communicate informa...</td>\n",
              "      <td>SB3.a Use Mendel’s laws (segregation and indep...</td>\n",
              "      <td>SB3.b Use mathematical models to predict and e...</td>\n",
              "      <td>SB3.c Construct an argument to support a claim...</td>\n",
              "      <td>None</td>\n",
              "      <td>None</td>\n",
              "    </tr>\n",
              "    <tr>\n",
              "      <th>SB4</th>\n",
              "      <td>SB4. Obtain, evaluate, and communicate informa...</td>\n",
              "      <td>SB4.a Construct an argument supported by scien...</td>\n",
              "      <td>SB4.b Analyze and interpret data to develop mo...</td>\n",
              "      <td>SB4.c Construct an argument supported by empir...</td>\n",
              "      <td>None</td>\n",
              "      <td>None</td>\n",
              "    </tr>\n",
              "    <tr>\n",
              "      <th>SB5</th>\n",
              "      <td>SB5. Obtain, evaluate, and communicate informa...</td>\n",
              "      <td>SB5.a Plan and carry out investigations and an...</td>\n",
              "      <td>SB5.b Develop and use models to analyze the cy...</td>\n",
              "      <td>SB5.c Construct an argument to predict the imp...</td>\n",
              "      <td>SB5.d Design a solution to reduce the impact o...</td>\n",
              "      <td>SB5.e Construct explanations that predict an o...</td>\n",
              "    </tr>\n",
              "    <tr>\n",
              "      <th>SB6</th>\n",
              "      <td>SB6. Obtain, evaluate, and communicate informa...</td>\n",
              "      <td>SB6.a Construct an explanation of how new unde...</td>\n",
              "      <td>SB6.b Analyze and interpret data to explain pa...</td>\n",
              "      <td>SB6.c Construct an argument using valid and re...</td>\n",
              "      <td>SB6.d Develop and use mathematical models to s...</td>\n",
              "      <td>SB6.e Develop a model to explain the role natu...</td>\n",
              "    </tr>\n",
              "  </tbody>\n",
              "</table>\n",
              "</div>"
            ],
            "text/plain": [
              "                                                  main  ...                                                  e\n",
              "SB1  SB1. Obtain, evaluate, and communicate informa...  ...  SB1.e Ask questions to investigate and provide...\n",
              "SB2  SB2. Obtain, evaluate, and communicate informa...  ...                                               None\n",
              "SB3  SB3. Obtain, evaluate, and communicate informa...  ...                                               None\n",
              "SB4  SB4. Obtain, evaluate, and communicate informa...  ...                                               None\n",
              "SB5  SB5. Obtain, evaluate, and communicate informa...  ...  SB5.e Construct explanations that predict an o...\n",
              "SB6  SB6. Obtain, evaluate, and communicate informa...  ...  SB6.e Develop a model to explain the role natu...\n",
              "\n",
              "[6 rows x 6 columns]"
            ]
          },
          "metadata": {
            "tags": []
          },
          "execution_count": 9
        }
      ]
    },
    {
      "cell_type": "code",
      "metadata": {
        "id": "IFhMFdV_raRg",
        "colab_type": "code",
        "outputId": "d3cd9212-b988-4dcc-bf95-ac4104208488",
        "colab": {
          "base_uri": "https://localhost:8080/",
          "height": 326
        }
      },
      "source": [
        "df = df.T\n",
        "df"
      ],
      "execution_count": 0,
      "outputs": [
        {
          "output_type": "execute_result",
          "data": {
            "text/html": [
              "<div>\n",
              "<style scoped>\n",
              "    .dataframe tbody tr th:only-of-type {\n",
              "        vertical-align: middle;\n",
              "    }\n",
              "\n",
              "    .dataframe tbody tr th {\n",
              "        vertical-align: top;\n",
              "    }\n",
              "\n",
              "    .dataframe thead th {\n",
              "        text-align: right;\n",
              "    }\n",
              "</style>\n",
              "<table border=\"1\" class=\"dataframe\">\n",
              "  <thead>\n",
              "    <tr style=\"text-align: right;\">\n",
              "      <th></th>\n",
              "      <th>SB1</th>\n",
              "      <th>SB2</th>\n",
              "      <th>SB3</th>\n",
              "      <th>SB4</th>\n",
              "      <th>SB5</th>\n",
              "      <th>SB6</th>\n",
              "    </tr>\n",
              "  </thead>\n",
              "  <tbody>\n",
              "    <tr>\n",
              "      <th>main</th>\n",
              "      <td>SB1. Obtain, evaluate, and communicate informa...</td>\n",
              "      <td>SB2. Obtain, evaluate, and communicate informa...</td>\n",
              "      <td>SB3. Obtain, evaluate, and communicate informa...</td>\n",
              "      <td>SB4. Obtain, evaluate, and communicate informa...</td>\n",
              "      <td>SB5. Obtain, evaluate, and communicate informa...</td>\n",
              "      <td>SB6. Obtain, evaluate, and communicate informa...</td>\n",
              "    </tr>\n",
              "    <tr>\n",
              "      <th>a</th>\n",
              "      <td>SB1.a Construct an explanation of how cell str...</td>\n",
              "      <td>SB2.a Construct an explanation of how the stru...</td>\n",
              "      <td>SB3.a Use Mendel’s laws (segregation and indep...</td>\n",
              "      <td>SB4.a Construct an argument supported by scien...</td>\n",
              "      <td>SB5.a Plan and carry out investigations and an...</td>\n",
              "      <td>SB6.a Construct an explanation of how new unde...</td>\n",
              "    </tr>\n",
              "    <tr>\n",
              "      <th>b</th>\n",
              "      <td>SB1.b Develop and use models to explain the ro...</td>\n",
              "      <td>SB2.b Construct an argument based on evidence ...</td>\n",
              "      <td>SB3.b Use mathematical models to predict and e...</td>\n",
              "      <td>SB4.b Analyze and interpret data to develop mo...</td>\n",
              "      <td>SB5.b Develop and use models to analyze the cy...</td>\n",
              "      <td>SB6.b Analyze and interpret data to explain pa...</td>\n",
              "    </tr>\n",
              "    <tr>\n",
              "      <th>c</th>\n",
              "      <td>SB1.c Construct arguments supported by evidenc...</td>\n",
              "      <td>SB2.c Ask questions to gather and communicate ...</td>\n",
              "      <td>SB3.c Construct an argument to support a claim...</td>\n",
              "      <td>SB4.c Construct an argument supported by empir...</td>\n",
              "      <td>SB5.c Construct an argument to predict the imp...</td>\n",
              "      <td>SB6.c Construct an argument using valid and re...</td>\n",
              "    </tr>\n",
              "    <tr>\n",
              "      <th>d</th>\n",
              "      <td>SB1.d Plan and carry out investigations to det...</td>\n",
              "      <td>None</td>\n",
              "      <td>None</td>\n",
              "      <td>None</td>\n",
              "      <td>SB5.d Design a solution to reduce the impact o...</td>\n",
              "      <td>SB6.d Develop and use mathematical models to s...</td>\n",
              "    </tr>\n",
              "    <tr>\n",
              "      <th>e</th>\n",
              "      <td>SB1.e Ask questions to investigate and provide...</td>\n",
              "      <td>None</td>\n",
              "      <td>None</td>\n",
              "      <td>None</td>\n",
              "      <td>SB5.e Construct explanations that predict an o...</td>\n",
              "      <td>SB6.e Develop a model to explain the role natu...</td>\n",
              "    </tr>\n",
              "  </tbody>\n",
              "</table>\n",
              "</div>"
            ],
            "text/plain": [
              "                                                    SB1  ...                                                SB6\n",
              "main  SB1. Obtain, evaluate, and communicate informa...  ...  SB6. Obtain, evaluate, and communicate informa...\n",
              "a     SB1.a Construct an explanation of how cell str...  ...  SB6.a Construct an explanation of how new unde...\n",
              "b     SB1.b Develop and use models to explain the ro...  ...  SB6.b Analyze and interpret data to explain pa...\n",
              "c     SB1.c Construct arguments supported by evidenc...  ...  SB6.c Construct an argument using valid and re...\n",
              "d     SB1.d Plan and carry out investigations to det...  ...  SB6.d Develop and use mathematical models to s...\n",
              "e     SB1.e Ask questions to investigate and provide...  ...  SB6.e Develop a model to explain the role natu...\n",
              "\n",
              "[6 rows x 6 columns]"
            ]
          },
          "metadata": {
            "tags": []
          },
          "execution_count": 10
        }
      ]
    },
    {
      "cell_type": "code",
      "metadata": {
        "id": "NRMuA-_vr9y4",
        "colab_type": "code",
        "colab": {}
      },
      "source": [
        "# Run this just once\n",
        "# df.to_csv('biology.csv')"
      ],
      "execution_count": 0,
      "outputs": []
    }
  ]
}
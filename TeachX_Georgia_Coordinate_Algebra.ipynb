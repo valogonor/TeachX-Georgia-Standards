{
  "nbformat": 4,
  "nbformat_minor": 0,
  "metadata": {
    "colab": {
      "name": "TeachX Georgia Coordinate Algebra.ipynb",
      "provenance": [],
      "include_colab_link": true
    },
    "kernelspec": {
      "name": "python3",
      "display_name": "Python 3"
    }
  },
  "cells": [
    {
      "cell_type": "markdown",
      "metadata": {
        "id": "view-in-github",
        "colab_type": "text"
      },
      "source": [
        "<a href=\"https://colab.research.google.com/github/valogonor/TeachX-Georgia-Standards/blob/master/TeachX_Georgia_Coordinate_Algebra.ipynb\" target=\"_parent\"><img src=\"https://colab.research.google.com/assets/colab-badge.svg\" alt=\"Open In Colab\"/></a>"
      ]
    },
    {
      "cell_type": "code",
      "metadata": {
        "id": "ZLyzzQ-nDYIl",
        "colab_type": "code",
        "outputId": "86a4a4a7-b69f-4e9e-d915-52ff9a1e295b",
        "colab": {
          "base_uri": "https://localhost:8080/",
          "height": 54
        }
      },
      "source": [
        "with open('Coordinate-Algebra-Standards.txt') as text:\n",
        "    string = text.read()\n",
        "string[:500]"
      ],
      "execution_count": 1,
      "outputs": [
        {
          "output_type": "execute_result",
          "data": {
            "text/plain": [
              "'Georgia\\nStandards of Excellence\\n\\nMathematics\\n\\nStandards\\nGSE Coordinate Algebra\\n\\n\\x0cGeorgia Department of Education\\n\\nK-12 Mathematics Introduction\\nGeorgia Mathematics focuses on actively engaging the student in the development of mathematical\\nunderstanding by working independently and cooperatively to solve problems, estimating and computing\\nefficiently, using appropriate tools, concrete models and a variety of representations, and conducting\\ninvestigations and recording findings. There is a shift '"
            ]
          },
          "metadata": {
            "tags": []
          },
          "execution_count": 1
        }
      ]
    },
    {
      "cell_type": "code",
      "metadata": {
        "id": "2sqrYrAqDv4a",
        "colab_type": "code",
        "outputId": "e1023978-5c4e-4a78-c738-6c1e9c3f9c63",
        "colab": {
          "base_uri": "https://localhost:8080/",
          "height": 34
        }
      },
      "source": [
        "import re\n",
        "regex = r\"\\nMGSE\"\n",
        "len(re.findall(regex, string))"
      ],
      "execution_count": 2,
      "outputs": [
        {
          "output_type": "execute_result",
          "data": {
            "text/plain": [
              "57"
            ]
          },
          "metadata": {
            "tags": []
          },
          "execution_count": 2
        }
      ]
    },
    {
      "cell_type": "code",
      "metadata": {
        "id": "Ncwj6lsTFVww",
        "colab_type": "code",
        "outputId": "ac464662-6011-431f-cfea-5c2307c95829",
        "colab": {
          "base_uri": "https://localhost:8080/",
          "height": 205
        }
      },
      "source": [
        "text = string.split('\\nMGSE')\n",
        "text = text[1:]\n",
        "text[:10]"
      ],
      "execution_count": 3,
      "outputs": [
        {
          "output_type": "execute_result",
          "data": {
            "text/plain": [
              "['9-12.N.Q.1 Use units of measure (linear, area, capacity, rates, and time) as a way to understand\\nproblems:\\na. Identify, use, and record appropriate units of measure within context, within data displays, and on\\ngraphs;\\nb. Convert units and rates using dimensional analysis (English-to-English and Metric-to-Metric without\\nconversion factor provided and between English and Metric with conversion factor);\\nc. Use units within multi-step problems and formulas; interpret units of input and resulting units of output.',\n",
              " '9-12.N.Q.2 Define appropriate quantities for the purpose of descriptive modeling. Given a situation,\\ncontext, or problem, students will determine, identify, and use appropriate quantities for representing the\\nsituation.',\n",
              " '9-12.N.Q.3 Choose a level of accuracy appropriate to limitations on measurement when reporting\\nquantities. For example, money situations are generally reported to the nearest cent (hundredth). Also, an\\nanswers’ precision is limited to the precision of the data given.\\n\\nSeeing Structure in Expressions\\n\\nA.SSE\\n\\nInterpret the structure of expressions',\n",
              " '9-12.A.SSE.1 Interpret expressions that represent a quantity in terms of its context.',\n",
              " '9-12.A.SSE.1a Interpret parts of an expression, such as terms, factors, and coefficients, in context.\\n\\nRichard Woods, State School Superintendent\\nJuly 2016 • Page 5 of 10\\nAll Rights Reserved\\n\\n\\x0cGeorgia Department of Education\\n',\n",
              " '9-12.A.SSE.1b Given situations which utilize formulas or expressions with multiple terms and/or\\nfactors, interpret the meaning (in context) of individual terms or factors.\\nCreating Equations\\n\\nA.CED\\n\\nCreate equations that describe numbers or relationships',\n",
              " '9-12.A.CED.1 Create equations and inequalities in one variable and use them to solve problems. Include\\nequations arising from linear, quadratic, simple rational, and exponential functions (integer inputs only).',\n",
              " '9-12.A.CED.2 Create linear, quadratic, and exponential equations in two or more variables to represent\\nrelationships between quantities; graph equations on coordinate axes with labels and scales. (The phrase “in two\\nor more variables” refers to formulas like the compound interest formula, in which A = P(1 + r/n)nt has multiple\\nvariables.)',\n",
              " '9-12.A.CED.3 Represent constraints by equations or inequalities, and by systems of equations and/or\\ninequalities, and interpret data points as possible (i.e. a solution) or not possible (i.e. a non-solution) under the\\nestablished constraints.',\n",
              " '9-12.A.CED.4 Rearrange formulas to highlight a quantity of interest using the same reasoning as in\\nsolving equations. Examples: Rearrange Ohm’s law V = IR to highlight resistance R; Rearrange area of a\\ncircle formula A = π r2 to highlight the radius r.\\nReasoning with Equations and Inequalities\\n\\nA.REI\\n\\nUnderstand solving equations as a process of reasoning and explain the reasoning']"
            ]
          },
          "metadata": {
            "tags": []
          },
          "execution_count": 3
        }
      ]
    },
    {
      "cell_type": "code",
      "metadata": {
        "id": "2NRmmdfIFqwW",
        "colab_type": "code",
        "outputId": "7145c2e6-b9e0-452e-a05e-15a5e2fb2d77",
        "colab": {
          "base_uri": "https://localhost:8080/",
          "height": 34
        }
      },
      "source": [
        "len(text)"
      ],
      "execution_count": 4,
      "outputs": [
        {
          "output_type": "execute_result",
          "data": {
            "text/plain": [
              "57"
            ]
          },
          "metadata": {
            "tags": []
          },
          "execution_count": 4
        }
      ]
    },
    {
      "cell_type": "code",
      "metadata": {
        "id": "Ql9_rRA4pboH",
        "colab_type": "code",
        "colab": {
          "base_uri": "https://localhost:8080/",
          "height": 134
        },
        "outputId": "083bfe71-ed51-47ac-9f45-e1ecf28befd7"
      },
      "source": [
        "text[0]\n",
        "t = text[0].split('\\n')\n",
        "t"
      ],
      "execution_count": 5,
      "outputs": [
        {
          "output_type": "execute_result",
          "data": {
            "text/plain": [
              "['9-12.N.Q.1 Use units of measure (linear, area, capacity, rates, and time) as a way to understand',\n",
              " 'problems:',\n",
              " 'a. Identify, use, and record appropriate units of measure within context, within data displays, and on',\n",
              " 'graphs;',\n",
              " 'b. Convert units and rates using dimensional analysis (English-to-English and Metric-to-Metric without',\n",
              " 'conversion factor provided and between English and Metric with conversion factor);',\n",
              " 'c. Use units within multi-step problems and formulas; interpret units of input and resulting units of output.']"
            ]
          },
          "metadata": {
            "tags": []
          },
          "execution_count": 5
        }
      ]
    },
    {
      "cell_type": "code",
      "metadata": {
        "id": "Dt1L6ExatXBa",
        "colab_type": "code",
        "colab": {
          "base_uri": "https://localhost:8080/",
          "height": 34
        },
        "outputId": "2d015080-3a68-4332-e108-26a813379de7"
      },
      "source": [
        "len(t)"
      ],
      "execution_count": 6,
      "outputs": [
        {
          "output_type": "execute_result",
          "data": {
            "text/plain": [
              "7"
            ]
          },
          "metadata": {
            "tags": []
          },
          "execution_count": 6
        }
      ]
    },
    {
      "cell_type": "code",
      "metadata": {
        "id": "Yq-vT6N6tZ3B",
        "colab_type": "code",
        "colab": {
          "base_uri": "https://localhost:8080/",
          "height": 104
        },
        "outputId": "3dedbabc-16e3-4132-c798-bb8e57271e7a"
      },
      "source": [
        "i = 0\n",
        "while i < len(t):\n",
        "    if t[i][1] != '.' and t[i][4] != '.':\n",
        "        t[i-1] += ' ' + t[i]\n",
        "        del t[i]\n",
        "    i += 1\n",
        "t"
      ],
      "execution_count": 7,
      "outputs": [
        {
          "output_type": "execute_result",
          "data": {
            "text/plain": [
              "['9-12.N.Q.1 Use units of measure (linear, area, capacity, rates, and time) as a way to understand problems:',\n",
              " 'a. Identify, use, and record appropriate units of measure within context, within data displays, and on graphs;',\n",
              " 'b. Convert units and rates using dimensional analysis (English-to-English and Metric-to-Metric without conversion factor provided and between English and Metric with conversion factor);',\n",
              " 'c. Use units within multi-step problems and formulas; interpret units of input and resulting units of output.']"
            ]
          },
          "metadata": {
            "tags": []
          },
          "execution_count": 7
        }
      ]
    },
    {
      "cell_type": "code",
      "metadata": {
        "id": "ms0EHTz6pvGl",
        "colab_type": "code",
        "colab": {
          "base_uri": "https://localhost:8080/",
          "height": 205
        },
        "outputId": "7e0a4841-3b46-4346-d8ff-6d2bc315da60"
      },
      "source": [
        "text[0] = t[0]\n",
        "for i in range(1, len(t)):\n",
        "    text.insert(i, t[i])\n",
        "text[:10]"
      ],
      "execution_count": 8,
      "outputs": [
        {
          "output_type": "execute_result",
          "data": {
            "text/plain": [
              "['9-12.N.Q.1 Use units of measure (linear, area, capacity, rates, and time) as a way to understand problems:',\n",
              " 'a. Identify, use, and record appropriate units of measure within context, within data displays, and on graphs;',\n",
              " 'b. Convert units and rates using dimensional analysis (English-to-English and Metric-to-Metric without conversion factor provided and between English and Metric with conversion factor);',\n",
              " 'c. Use units within multi-step problems and formulas; interpret units of input and resulting units of output.',\n",
              " '9-12.N.Q.2 Define appropriate quantities for the purpose of descriptive modeling. Given a situation,\\ncontext, or problem, students will determine, identify, and use appropriate quantities for representing the\\nsituation.',\n",
              " '9-12.N.Q.3 Choose a level of accuracy appropriate to limitations on measurement when reporting\\nquantities. For example, money situations are generally reported to the nearest cent (hundredth). Also, an\\nanswers’ precision is limited to the precision of the data given.\\n\\nSeeing Structure in Expressions\\n\\nA.SSE\\n\\nInterpret the structure of expressions',\n",
              " '9-12.A.SSE.1 Interpret expressions that represent a quantity in terms of its context.',\n",
              " '9-12.A.SSE.1a Interpret parts of an expression, such as terms, factors, and coefficients, in context.\\n\\nRichard Woods, State School Superintendent\\nJuly 2016 • Page 5 of 10\\nAll Rights Reserved\\n\\n\\x0cGeorgia Department of Education\\n',\n",
              " '9-12.A.SSE.1b Given situations which utilize formulas or expressions with multiple terms and/or\\nfactors, interpret the meaning (in context) of individual terms or factors.\\nCreating Equations\\n\\nA.CED\\n\\nCreate equations that describe numbers or relationships',\n",
              " '9-12.A.CED.1 Create equations and inequalities in one variable and use them to solve problems. Include\\nequations arising from linear, quadratic, simple rational, and exponential functions (integer inputs only).']"
            ]
          },
          "metadata": {
            "tags": []
          },
          "execution_count": 8
        }
      ]
    },
    {
      "cell_type": "code",
      "metadata": {
        "id": "8LO3bD1hr1A4",
        "colab_type": "code",
        "colab": {
          "base_uri": "https://localhost:8080/",
          "height": 205
        },
        "outputId": "7f0fa41b-e7e3-4116-e4d6-ba3bda870e66"
      },
      "source": [
        "idx = text[0].index(' ')\n",
        "for i in range(1, len(t)):\n",
        "    text[i] = text[i].replace(text[i][:2], text[0][:idx] + text[i][:1])\n",
        "text[:10]"
      ],
      "execution_count": 9,
      "outputs": [
        {
          "output_type": "execute_result",
          "data": {
            "text/plain": [
              "['9-12.N.Q.1 Use units of measure (linear, area, capacity, rates, and time) as a way to understand problems:',\n",
              " '9-12.N.Q.1a Identify, use, and record appropriate units of measure within context, within data displays, and on graphs;',\n",
              " '9-12.N.Q.1b Convert units and rates using dimensional analysis (English-to-English and Metric-to-Metric without conversion factor provided and between English and Metric with conversion factor);',\n",
              " '9-12.N.Q.1c Use units within multi-step problems and formulas; interpret units of input and resulting units of output.',\n",
              " '9-12.N.Q.2 Define appropriate quantities for the purpose of descriptive modeling. Given a situation,\\ncontext, or problem, students will determine, identify, and use appropriate quantities for representing the\\nsituation.',\n",
              " '9-12.N.Q.3 Choose a level of accuracy appropriate to limitations on measurement when reporting\\nquantities. For example, money situations are generally reported to the nearest cent (hundredth). Also, an\\nanswers’ precision is limited to the precision of the data given.\\n\\nSeeing Structure in Expressions\\n\\nA.SSE\\n\\nInterpret the structure of expressions',\n",
              " '9-12.A.SSE.1 Interpret expressions that represent a quantity in terms of its context.',\n",
              " '9-12.A.SSE.1a Interpret parts of an expression, such as terms, factors, and coefficients, in context.\\n\\nRichard Woods, State School Superintendent\\nJuly 2016 • Page 5 of 10\\nAll Rights Reserved\\n\\n\\x0cGeorgia Department of Education\\n',\n",
              " '9-12.A.SSE.1b Given situations which utilize formulas or expressions with multiple terms and/or\\nfactors, interpret the meaning (in context) of individual terms or factors.\\nCreating Equations\\n\\nA.CED\\n\\nCreate equations that describe numbers or relationships',\n",
              " '9-12.A.CED.1 Create equations and inequalities in one variable and use them to solve problems. Include\\nequations arising from linear, quadratic, simple rational, and exponential functions (integer inputs only).']"
            ]
          },
          "metadata": {
            "tags": []
          },
          "execution_count": 9
        }
      ]
    },
    {
      "cell_type": "code",
      "metadata": {
        "id": "wS1skCbrPQql",
        "colab_type": "code",
        "colab": {
          "base_uri": "https://localhost:8080/",
          "height": 34
        },
        "outputId": "842a9299-8215-4bcb-8ab6-e9997a489487"
      },
      "source": [
        "len(text)"
      ],
      "execution_count": 10,
      "outputs": [
        {
          "output_type": "execute_result",
          "data": {
            "text/plain": [
              "60"
            ]
          },
          "metadata": {
            "tags": []
          },
          "execution_count": 10
        }
      ]
    },
    {
      "cell_type": "code",
      "metadata": {
        "id": "6jJ_esOZwO83",
        "colab_type": "code",
        "colab": {
          "base_uri": "https://localhost:8080/",
          "height": 34
        },
        "outputId": "edcc535f-863a-4a46-9167-0d43f15b9669"
      },
      "source": [
        "mn = float('inf')\n",
        "for i in range(len(text)):\n",
        "    idx = text[i].index(' ')\n",
        "    if idx < mn:\n",
        "        mn = idx\n",
        "mn"
      ],
      "execution_count": 11,
      "outputs": [
        {
          "output_type": "execute_result",
          "data": {
            "text/plain": [
              "10"
            ]
          },
          "metadata": {
            "tags": []
          },
          "execution_count": 11
        }
      ]
    },
    {
      "cell_type": "code",
      "metadata": {
        "id": "3fjaIiAHxVYK",
        "colab_type": "code",
        "colab": {
          "base_uri": "https://localhost:8080/",
          "height": 205
        },
        "outputId": "f4267922-ad7c-4f67-c62a-7a94db6b7412"
      },
      "source": [
        "text[-10:]"
      ],
      "execution_count": 12,
      "outputs": [
        {
          "output_type": "execute_result",
          "data": {
            "text/plain": [
              "['9-12.S.ID.1 Represent data with plots on the real number line (dot plots, histograms, and box plots).',\n",
              " '9-12.S.ID.2 Use statistics appropriate to the shape of the data distribution to compare center (median,\\nmean) and spread (interquartile range, mean absolute deviation, standard deviation) of two or more different\\ndata sets.',\n",
              " '9-12.S.ID.3 Interpret differences in shape, center, and spread in the context of the data sets, accounting\\nfor possible effects of extreme data points (outliers).\\nSummarize, represent, and interpret data on two categorical and quantitative variables',\n",
              " '9-12.S.ID.5 Summarize categorical data for two categories in two-way frequency tables. Interpret\\nrelative frequencies in the context of the data (including joint, marginal, and conditional relative frequencies).\\nRecognize possible associations and trends in the data.',\n",
              " '9-12.S.ID.6 Represent data on two quantitative variables on a scatter plot, and describe how the variables\\nare related.',\n",
              " '9-12.S.ID.6a Decide which type of function is most appropriate by observing graphed data, charted\\ndata, or by analysis of context to generate a viable (rough) function of best fit. Use this function to solve\\nproblems in context. Emphasize linear, quadratic and exponential models.',\n",
              " '9-12.S.ID.6c Using given or collected bivariate data, fit a linear function for a scatter plot that\\nsuggests a linear association.\\nInterpret linear models',\n",
              " '9-12.S.ID.7 Interpret the slope (rate of change) and the intercept (constant term) of a linear model in the\\ncontext of the data.',\n",
              " '9-12.S.ID.8 Compute (using technology) and interpret the correlation coefficient “r” of a linear fit. (For\\ninstance, by looking at a scatterplot, students should be able to tell if the correlation coefficient is positive or\\nnegative and give a reasonable estimate of the “r” value.) After calculating the line of best fit using technology,\\nstudents should be able to describe how strong the goodness of fit of the regression is, using “r”.',\n",
              " '9-12.S.ID.9 Distinguish between correlation and causation.\\n\\nRichard Woods, State School Superintendent\\nJuly 2016 • Page 10 of 10\\nAll Rights Reserved\\n\\n\\x0c']"
            ]
          },
          "metadata": {
            "tags": []
          },
          "execution_count": 12
        }
      ]
    },
    {
      "cell_type": "code",
      "metadata": {
        "id": "tm5AFBcbF0Jn",
        "colab_type": "code",
        "outputId": "18dddfaf-32fa-4eef-bf96-771aeaa2c7d6",
        "colab": {
          "base_uri": "https://localhost:8080/",
          "height": 877
        }
      },
      "source": [
        "data = []\n",
        "row = text[0].split('\\n\\n')\n",
        "res = [row[0]]\n",
        "for i in range(1, len(text)):\n",
        "    row = text[i].split('\\n\\n')\n",
        "    if not res or row[0][:9] == res[-1][:9]:\n",
        "        res.append(row[0])\n",
        "    else:\n",
        "        data.append(res)\n",
        "        res = [row[0]]\n",
        "data"
      ],
      "execution_count": 13,
      "outputs": [
        {
          "output_type": "execute_result",
          "data": {
            "text/plain": [
              "[['9-12.N.Q.1 Use units of measure (linear, area, capacity, rates, and time) as a way to understand problems:',\n",
              "  '9-12.N.Q.1a Identify, use, and record appropriate units of measure within context, within data displays, and on graphs;',\n",
              "  '9-12.N.Q.1b Convert units and rates using dimensional analysis (English-to-English and Metric-to-Metric without conversion factor provided and between English and Metric with conversion factor);',\n",
              "  '9-12.N.Q.1c Use units within multi-step problems and formulas; interpret units of input and resulting units of output.',\n",
              "  '9-12.N.Q.2 Define appropriate quantities for the purpose of descriptive modeling. Given a situation,\\ncontext, or problem, students will determine, identify, and use appropriate quantities for representing the\\nsituation.',\n",
              "  '9-12.N.Q.3 Choose a level of accuracy appropriate to limitations on measurement when reporting\\nquantities. For example, money situations are generally reported to the nearest cent (hundredth). Also, an\\nanswers’ precision is limited to the precision of the data given.'],\n",
              " ['9-12.A.SSE.1 Interpret expressions that represent a quantity in terms of its context.',\n",
              "  '9-12.A.SSE.1a Interpret parts of an expression, such as terms, factors, and coefficients, in context.',\n",
              "  '9-12.A.SSE.1b Given situations which utilize formulas or expressions with multiple terms and/or\\nfactors, interpret the meaning (in context) of individual terms or factors.\\nCreating Equations'],\n",
              " ['9-12.A.CED.1 Create equations and inequalities in one variable and use them to solve problems. Include\\nequations arising from linear, quadratic, simple rational, and exponential functions (integer inputs only).',\n",
              "  '9-12.A.CED.2 Create linear, quadratic, and exponential equations in two or more variables to represent\\nrelationships between quantities; graph equations on coordinate axes with labels and scales. (The phrase “in two\\nor more variables” refers to formulas like the compound interest formula, in which A = P(1 + r/n)nt has multiple\\nvariables.)',\n",
              "  '9-12.A.CED.3 Represent constraints by equations or inequalities, and by systems of equations and/or\\ninequalities, and interpret data points as possible (i.e. a solution) or not possible (i.e. a non-solution) under the\\nestablished constraints.',\n",
              "  '9-12.A.CED.4 Rearrange formulas to highlight a quantity of interest using the same reasoning as in\\nsolving equations. Examples: Rearrange Ohm’s law V = IR to highlight resistance R; Rearrange area of a\\ncircle formula A = π r2 to highlight the radius r.\\nReasoning with Equations and Inequalities'],\n",
              " ['9-12.A.REI.1 Using algebraic properties and the properties of real numbers, justify the steps of a simple,\\none-solution equation. Students should justify their own steps, or if given two or more steps of an equation,\\nexplain the progression from one step to the next using properties.\\nSolve equations and inequalities in one variable',\n",
              "  '9-12.A.REI.3 Solve linear equations and inequalities in one variable including equations with\\ncoefficients represented by letters. For example, given ax + 3 = 7, solve for x.\\nSolve systems of equations',\n",
              "  '9-12.A.REI.5 Show and explain why the elimination method works to solve a system of two-variable\\nequations.',\n",
              "  '9-12.A.REI.6 Solve systems of linear equations exactly and approximately (e.g., with graphs), focusing\\non pairs of linear equations in two variables.\\nRepresent and solve equations and inequalities graphically',\n",
              "  '9-12.A.REI.10 Understand that the graph of an equation in two variables is the set of all its solutions\\nplotted in the coordinate plane.',\n",
              "  '9-12.A.REI.11 Using graphs, tables, or successive approximations, show that the solution to the\\nequation f(x) = g(x) is the x-value where the y-values of f(x) and g(x) are the same.',\n",
              "  '9-12.A.REI.12 Graph the solution set to a linear inequality in two variables.'],\n",
              " ['9-12.F.IF.1 Understand that a function from one set (the input, called the domain) to another set (the\\noutput, called the range) assigns to each element of the domain exactly one element of the range, i.e. each input\\nvalue maps to exactly one output value. If f is a function, x is the input (an element of the domain), and f(x) is\\nthe output (an element of the range). Graphically, the graph is y = f(x).',\n",
              "  '9-12.F.IF.2 Use function notation, evaluate functions for inputs in their domains, and interpret\\nstatements that use function notation in terms of a context.',\n",
              "  '9-12.F.IF.3 Recognize that sequences are functions, sometimes defined recursively, whose domain is a\\nsubset of the integers. (Generally, the scope of high school math defines this subset as the set of natural\\nnumbers 1,2,3,4...) By graphing or calculating terms, students should be able to show how the recursive\\nsequence a1=7, an=an-1 +2; the sequence sn = 2(n-1) + 7; and the function f(x) = 2x + 5 (when x is a natural\\nnumber) all define the same sequence.\\nInterpret functions that arise in applications in terms of the context',\n",
              "  '9-12.F.IF.4 Using tables, graphs, and verbal descriptions, interpret the key characteristics of a function\\nwhich models the relationship between two quantities. Sketch a graph showing key features including:\\nintercepts; interval where the function is increasing, decreasing, positive, or negative; relative maximums and\\nminimums; symmetries; end behavior; and periodicity.',\n",
              "  '9-12.F.IF.5 Relate the domain of a function to its graph and, where applicable, to the quantitative\\nrelationship it describes. For example, if the function h(n) gives the number of person-hours it takes to assemble\\nn engines in a factory, then the positive integers would be an appropriate domain for the function.',\n",
              "  '9-12.F.IF.6 Calculate and interpret the average rate of change of a function (presented symbolically or as\\na table) over a specified interval. Estimate the rate of change from a graph.\\nAnalyze functions using different representations',\n",
              "  '9-12.F.IF.7 Graph functions expressed algebraically and show key features of the graph both by hand\\nand by using technology.',\n",
              "  '9-12.F.IF.7a Graph linear and quadratic functions and show intercepts, maxima, and minima (as\\ndetermined by the function or by context).',\n",
              "  '9-12.F.IF.7e Graph exponential and logarithmic functions, showing intercepts and end behavior, and\\ntrigonometric functions, showing period, midline, and amplitude.',\n",
              "  '9-12.F.IF.9 Compare properties of two functions each represented in a different way (algebraically,\\ngraphically, numerically in tables, or by verbal descriptions). For example, given a graph of one function and an\\nalgebraic expression for another, say which has the larger maximum.'],\n",
              " ['9-12.F.BF.1 Write a function that describes a relationship between two quantities.',\n",
              "  '9-12.F.BF.1a Determine an explicit expression and the recursive process (steps for calculation) from\\ncontext. For example, if Jimmy starts out with $15 and earns $2 a day, the explicit expression “2x+15” can\\nbe described recursively (either in writing or verbally) as “to find out how much money Jimmy will have\\ntomorrow, you add $2 to his total today.” J n = J n −1 + 2, J 0 = 15',\n",
              "  '9-12.F.BF.2 Write arithmetic and geometric sequences recursively and explicitly, use them to model\\nsituations, and translate between the two forms. Connect arithmetic sequences to linear functions and geometric\\nsequences to exponential functions.\\nBuild new functions from existing functions',\n",
              "  '9-12.F.BF.3 Identify the effect on the graph of replacing f(x) by f(x) + k, k f(x), f(kx), and f(x + k) for\\nspecific values of k (both positive and negative); find the value of k given the graphs. Experiment with cases\\nand illustrate an explanation of the effects on the graph using technology. Include recognizing even and odd\\nfunctions from their graphs and algebraic expressions for them.'],\n",
              " ['9-12.F.LE.1 Distinguish between situations that can be modeled with linear functions and with\\nexponential functions.',\n",
              "  '9-12.F.LE.1a Show that linear functions grow by equal differences over equal intervals and that\\nexponential functions grow by equal factors over equal intervals. (This can be shown by algebraic proof, with\\na table showing differences, or by calculating average rates of change over equal intervals).',\n",
              "  '9-12.F.LE.1b Recognize situations in which one quantity changes at a constant rate per unit interval\\nrelative to another.',\n",
              "  '9-12.F.LE.1c Recognize situations in which a quantity grows or decays by a constant percent rate per\\nunit interval relative to another.',\n",
              "  '9-12.F.LE.2 Construct linear and exponential functions, including arithmetic and geometric sequences,\\ngiven a graph, a description of a relationship, or two input-output pairs (include reading these from a table).',\n",
              "  '9-12.F.LE.3 Observe using graphs and tables that a quantity increasing exponentially eventually exceeds\\na quantity increasing linearly, quadratically, or (more generally) as a polynomial function.',\n",
              "  '9-12.F.LE.5 Interpret the parameters in a linear (f(x) = mx + b) and exponential (f(x) = a•d x) function in\\nterms of context. (In the functions above, “m” and “b” are the parameters of the linear function, and “a” and “d”\\nare the parameters of the exponential function.) In context, students should describe what these parameters mean\\nin terms of change and starting value.'],\n",
              " ['9-12.G.CO.1 Know precise definitions of angle, circle, perpendicular line, parallel line, and line\\nsegment, based on the undefined notions of point, line, distance along a line, and distance around a circular arc.',\n",
              "  '9-12.G.CO.2 Represent transformations in the plane using, e.g., transparencies and geometry software;\\ndescribe transformations as functions that take points in the plane as inputs and give other points as outputs.\\nCompare transformations that preserve distance and angle to those that do not\\n(e.g., translation versus horizontal stretch).',\n",
              "  '9-12.G.CO.3 Given a rectangle, parallelogram, trapezoid, or regular polygon, describe the rotations and\\nreflections that carry it onto itself.',\n",
              "  '9-12.G.CO.4 Develop definitions of rotations, reflections, and translations in terms of angles, circles,\\nperpendicular lines, parallel lines, and line segments.',\n",
              "  '9-12.G.CO.5 Given a geometric figure and a rotation, reflection, or translation, draw the transformed\\nfigure using, e.g., graph paper, tracing paper, or geometry software. Specify a sequence of transformations that\\nwill carry a given figure onto another.'],\n",
              " ['9-12.G.GPE.4 Use coordinates to prove simple geometric theorems algebraically. For example, prove\\nor disprove that a figure defined by four given points in the coordinate plane is a rectangle; prove or disprove\\nthat the point (1, √3) lies on the circle centered at the origin and containing the point (0,2).\\n(Focus on quadrilaterals, right triangles, and circles.)',\n",
              "  '9-12.G.GPE.5 Prove the slope criteria for parallel and perpendicular lines and use them to solve\\ngeometric problems (e.g., find the equation of a line parallel or perpendicular to a given line that passes through\\na given point).',\n",
              "  '9-12.G.GPE.6 Find the point on a directed line segment between two given points that partitions the\\nsegment in a given ratio.',\n",
              "  '9-12.G.GPE.7 Use coordinates to compute perimeters of polygons and areas of triangles and rectangles,\\ne.g., using the distance formula.']]"
            ]
          },
          "metadata": {
            "tags": []
          },
          "execution_count": 13
        }
      ]
    },
    {
      "cell_type": "code",
      "metadata": {
        "id": "bI_91cpq4sff",
        "colab_type": "code",
        "colab": {
          "base_uri": "https://localhost:8080/",
          "height": 34
        },
        "outputId": "575d559d-f96b-49cc-c2df-e2b8ab491b85"
      },
      "source": [
        "len(data)"
      ],
      "execution_count": 14,
      "outputs": [
        {
          "output_type": "execute_result",
          "data": {
            "text/plain": [
              "9"
            ]
          },
          "metadata": {
            "tags": []
          },
          "execution_count": 14
        }
      ]
    },
    {
      "cell_type": "code",
      "metadata": {
        "id": "cUlS9EBNGBwA",
        "colab_type": "code",
        "outputId": "ef1cfbe0-64aa-4323-83a0-e34c5c84173b",
        "colab": {
          "base_uri": "https://localhost:8080/",
          "height": 877
        }
      },
      "source": [
        "for i in range(len(data)):\n",
        "    n = len(data[i])\n",
        "    idx = data[i][0].index('.')\n",
        "    num = data[i][0][:idx]\n",
        "    for j in range(n):\n",
        "        line = data[i][j]\n",
        "        idx = data[i][j].index('.')\n",
        "        if line[:idx].isnumeric():\n",
        "            line = line.replace(line[:idx], 'MGSE' + num)\n",
        "            data[i][j] = line\n",
        "        else:\n",
        "            line = line.replace(line[:2], 'MGSE' + num + '.' + line[0])\n",
        "            data[i][j] = line\n",
        "data"
      ],
      "execution_count": 15,
      "outputs": [
        {
          "output_type": "execute_result",
          "data": {
            "text/plain": [
              "[['MGSE9-12.912.N.Q.1 Use units of measure (linear, area, capacity, rates, and time) as a way to understand problems:',\n",
              "  'MGSE9-12.912.N.Q.1a Identify, use, and record appropriate units of measure within context, within data displays, and on graphs;',\n",
              "  'MGSE9-12.912.N.Q.1b Convert units and rates using dimensional analysis (English-to-English and Metric-to-Metric without conversion factor provided and between English and Metric with conversion factor);',\n",
              "  'MGSE9-12.912.N.Q.1c Use units within multi-step problems and formulas; interpret units of input and resulting units of output.',\n",
              "  'MGSE9-12.912.N.Q.2 Define appropriate quantities for the purpose of descriptive modeling. Given a situation,\\ncontext, or problem, students will determine, identify, and use appropriate quantities for representing the\\nsituation.',\n",
              "  'MGSE9-12.912.N.Q.3 Choose a level of accuracy appropriate to limitations on measurement when reporting\\nquantities. For example, money situations are generally reported to the nearest cent (hundredth). Also, an\\nanswers’ precision is limited to the precision of the data given.'],\n",
              " ['MGSE9-12.912.A.SSE.1 Interpret expressions that represent a quantity in terms of its context.',\n",
              "  'MGSE9-12.912.A.SSE.1a Interpret parts of an expression, such as terms, factors, and coefficients, in context.',\n",
              "  'MGSE9-12.912.A.SSE.1b Given situations which utilize formulas or expressions with multiple terms and/or\\nfactors, interpret the meaning (in context) of individual terms or factors.\\nCreating Equations'],\n",
              " ['MGSE9-12.912.A.CED.1 Create equations and inequalities in one variable and use them to solve problems. Include\\nequations arising from linear, quadratic, simple rational, and exponential functions (integer inputs only).',\n",
              "  'MGSE9-12.912.A.CED.2 Create linear, quadratic, and exponential equations in two or more variables to represent\\nrelationships between quantities; graph equations on coordinate axes with labels and scales. (The phrase “in two\\nor more variables” refers to formulas like the compound interest formula, in which A = P(1 + r/n)nt has multiple\\nvariables.)',\n",
              "  'MGSE9-12.912.A.CED.3 Represent constraints by equations or inequalities, and by systems of equations and/or\\ninequalities, and interpret data points as possible (i.e. a solution) or not possible (i.e. a non-solution) under the\\nestablished constraints.',\n",
              "  'MGSE9-12.912.A.CED.4 Rearrange formulas to highlight a quantity of interest using the same reasoning as in\\nsolving equations. Examples: Rearrange Ohm’s law V = IR to highlight resistance R; Rearrange area of a\\ncircle formula A = π r2 to highlight the radius r.\\nReasoning with Equations and Inequalities'],\n",
              " ['MGSE9-12.912.A.REI.1 Using algebraic properties and the properties of real numbers, justify the steps of a simple,\\none-solution equation. Students should justify their own steps, or if given two or more steps of an equation,\\nexplain the progression from one step to the next using properties.\\nSolve equations and inequalities in one variable',\n",
              "  'MGSE9-12.912.A.REI.3 Solve linear equations and inequalities in one variable including equations with\\ncoefficients represented by letters. For example, given ax + 3 = 7, solve for x.\\nSolve systems of equations',\n",
              "  'MGSE9-12.912.A.REI.5 Show and explain why the elimination method works to solve a system of two-variable\\nequations.',\n",
              "  'MGSE9-12.912.A.REI.6 Solve systems of linear equations exactly and approximately (e.g., with graphs), focusing\\non pairs of linear equations in two variables.\\nRepresent and solve equations and inequalities graphically',\n",
              "  'MGSE9-12.912.A.REI.10 Understand that the graph of an equation in two variables is the set of all its solutions\\nplotted in the coordinate plane.',\n",
              "  'MGSE9-12.912.A.REI.11 Using graphs, tables, or successive approximations, show that the solution to the\\nequation f(x) = g(x) is the x-value where the y-values of f(x) and g(x) are the same.',\n",
              "  'MGSE9-12.912.A.REI.12 Graph the solution set to a linear inequality in two variables.'],\n",
              " ['MGSE9-12.912.F.IF.1 Understand that a function from one set (the input, called the domain) to another set (the\\noutput, called the range) assigns to each element of the domain exactly one element of the range, i.e. each input\\nvalue maps to exactly one output value. If f is a function, x is the input (an element of the domain), and f(x) is\\nthe output (an element of the range). Graphically, the graph is y = f(x).',\n",
              "  'MGSE9-12.912.F.IF.2 Use function notation, evaluate functions for inputs in their domains, and interpret\\nstatements that use function notation in terms of a context.',\n",
              "  'MGSE9-12.912.F.IF.3 Recognize that sequences are functions, sometimes defined recursively, whose domain is a\\nsubset of the integers. (Generally, the scope of high school math defines this subset as the set of natural\\nnumbers 1,2,3,4...) By graphing or calculating terms, students should be able to show how the recursive\\nsequence a1=7, an=an-1 +2; the sequence sn = 2(n-1) + 7; and the function f(x) = 2x + 5 (when x is a natural\\nnumber) all define the same sequence.\\nInterpret functions that arise in applications in terms of the context',\n",
              "  'MGSE9-12.912.F.IF.4 Using tables, graphs, and verbal descriptions, interpret the key characteristics of a function\\nwhich models the relationship between two quantities. Sketch a graph showing key features including:\\nintercepts; interval where the function is increasing, decreasing, positive, or negative; relative maximums and\\nminimums; symmetries; end behavior; and periodicity.',\n",
              "  'MGSE9-12.912.F.IF.5 Relate the domain of a function to its graph and, where applicable, to the quantitative\\nrelationship it describes. For example, if the function h(n) gives the number of person-hours it takes to assemble\\nn engines in a factory, then the positive integers would be an appropriate domain for the function.',\n",
              "  'MGSE9-12.912.F.IF.6 Calculate and interpret the average rate of change of a function (presented symbolically or as\\na table) over a specified interval. Estimate the rate of change from a graph.\\nAnalyze functions using different representations',\n",
              "  'MGSE9-12.912.F.IF.7 Graph functions expressed algebraically and show key features of the graph both by hand\\nand by using technology.',\n",
              "  'MGSE9-12.912.F.IF.7a Graph linear and quadratic functions and show intercepts, maxima, and minima (as\\ndetermined by the function or by context).',\n",
              "  'MGSE9-12.912.F.IF.7e Graph exponential and logarithmic functions, showing intercepts and end behavior, and\\ntrigonometric functions, showing period, midline, and amplitude.',\n",
              "  'MGSE9-12.912.F.IF.9 Compare properties of two functions each represented in a different way (algebraically,\\ngraphically, numerically in tables, or by verbal descriptions). For example, given a graph of one function and an\\nalgebraic expression for another, say which has the larger maximum.'],\n",
              " ['MGSE9-12.912.F.BF.1 Write a function that describes a relationship between two quantities.',\n",
              "  'MGSE9-12.912.F.BF.1a Determine an explicit expression and the recursive process (steps for calculation) from\\ncontext. For example, if Jimmy starts out with $15 and earns $2 a day, the explicit expression “2x+15” can\\nbe described recursively (either in writing or verbally) as “to find out how much money Jimmy will have\\ntomorrow, you add $2 to his total today.” J n = J n −1 + 2, J 0 = 15',\n",
              "  'MGSE9-12.912.F.BF.2 Write arithmetic and geometric sequences recursively and explicitly, use them to model\\nsituations, and translate between the two forms. Connect arithmetic sequences to linear functions and geometric\\nsequences to exponential functions.\\nBuild new functions from existing functions',\n",
              "  'MGSE9-12.912.F.BF.3 Identify the effect on the graph of replacing f(x) by f(x) + k, k f(x), f(kx), and f(x + k) for\\nspecific values of k (both positive and negative); find the value of k given the graphs. Experiment with cases\\nand illustrate an explanation of the effects on the graph using technology. Include recognizing even and odd\\nfunctions from their graphs and algebraic expressions for them.'],\n",
              " ['MGSE9-12.912.F.LE.1 Distinguish between situations that can be modeled with linear functions and with\\nexponential functions.',\n",
              "  'MGSE9-12.912.F.LE.1a Show that linear functions grow by equal differences over equal intervals and that\\nexponential functions grow by equal factors over equal intervals. (This can be shown by algebraic proof, with\\na table showing differences, or by calculating average rates of change over equal intervals).',\n",
              "  'MGSE9-12.912.F.LE.1b Recognize situations in which one quantity changes at a constant rate per unit interval\\nrelative to another.',\n",
              "  'MGSE9-12.912.F.LE.1c Recognize situations in which a quantity grows or decays by a constant percent rate per\\nunit interval relative to another.',\n",
              "  'MGSE9-12.912.F.LE.2 Construct linear and exponential functions, including arithmetic and geometric sequences,\\ngiven a graph, a description of a relationship, or two input-output pairs (include reading these from a table).',\n",
              "  'MGSE9-12.912.F.LE.3 Observe using graphs and tables that a quantity increasing exponentially eventually exceeds\\na quantity increasing linearly, quadratically, or (more generally) as a polynomial function.',\n",
              "  'MGSE9-12.912.F.LE.5 Interpret the parameters in a linear (f(x) = mx + b) and exponential (f(x) = a•d x) function in\\nterms of context. (In the functions above, “m” and “b” are the parameters of the linear function, and “a” and “d”\\nare the parameters of the exponential function.) In context, students should describe what these parameters mean\\nin terms of change and starting value.'],\n",
              " ['MGSE9-12.912.G.CO.1 Know precise definitions of angle, circle, perpendicular line, parallel line, and line\\nsegment, based on the undefined notions of point, line, distance along a line, and distance around a circular arc.',\n",
              "  'MGSE9-12.912.G.CO.2 Represent transformations in the plane using, e.g., transparencies and geometry software;\\ndescribe transformations as functions that take points in the plane as inputs and give other points as outputs.\\nCompare transformations that preserve distance and angle to those that do not\\n(e.g., translation versus horizontal stretch).',\n",
              "  'MGSE9-12.912.G.CO.3 Given a rectangle, parallelogram, trapezoid, or regular polygon, describe the rotations and\\nreflections that carry it onto itself.',\n",
              "  'MGSE9-12.912.G.CO.4 Develop definitions of rotations, reflections, and translations in terms of angles, circles,\\nperpendicular lines, parallel lines, and line segments.',\n",
              "  'MGSE9-12.912.G.CO.5 Given a geometric figure and a rotation, reflection, or translation, draw the transformed\\nfigure using, e.g., graph paper, tracing paper, or geometry software. Specify a sequence of transformations that\\nwill carry a given figure onto another.'],\n",
              " ['MGSE9-12.912.G.GPE.4 Use coordinates to prove simple geometric theorems algebraically. For example, prove\\nor disprove that a figure defined by four given points in the coordinate plane is a rectangle; prove or disprove\\nthat the point (1, √3) lies on the circle centered at the origin and containing the point (0,2).\\n(Focus on quadrilaterals, right triangles, and circles.)',\n",
              "  'MGSE9-12.912.G.GPE.5 Prove the slope criteria for parallel and perpendicular lines and use them to solve\\ngeometric problems (e.g., find the equation of a line parallel or perpendicular to a given line that passes through\\na given point).',\n",
              "  'MGSE9-12.912.G.GPE.6 Find the point on a directed line segment between two given points that partitions the\\nsegment in a given ratio.',\n",
              "  'MGSE9-12.912.G.GPE.7 Use coordinates to compute perimeters of polygons and areas of triangles and rectangles,\\ne.g., using the distance formula.']]"
            ]
          },
          "metadata": {
            "tags": []
          },
          "execution_count": 15
        }
      ]
    },
    {
      "cell_type": "code",
      "metadata": {
        "id": "ct6sY1kBGRsz",
        "colab_type": "code",
        "outputId": "0d8d3f9e-b964-4a70-dc8f-fab673775dbe",
        "colab": {
          "base_uri": "https://localhost:8080/",
          "height": 784
        }
      },
      "source": [
        "import pandas as pd\n",
        "index = ['MGSE9-12.912.N.Q', 'MGSE9-12.912.A.SSE', 'MGSE9-12.912.A.CED', 'MGSE9-12.912.A.REI', 'MGSE9-12.912.F.IF', 'MGSE9-12.912.F.BF', 'MGSE9-12.912.F.LE', 'MGSE9-12.912.G.CO', 'MGSE9-12.912.G.GPE']\n",
        "df = pd.DataFrame(data, index=index)\n",
        "df"
      ],
      "execution_count": 16,
      "outputs": [
        {
          "output_type": "execute_result",
          "data": {
            "text/html": [
              "<div>\n",
              "<style scoped>\n",
              "    .dataframe tbody tr th:only-of-type {\n",
              "        vertical-align: middle;\n",
              "    }\n",
              "\n",
              "    .dataframe tbody tr th {\n",
              "        vertical-align: top;\n",
              "    }\n",
              "\n",
              "    .dataframe thead th {\n",
              "        text-align: right;\n",
              "    }\n",
              "</style>\n",
              "<table border=\"1\" class=\"dataframe\">\n",
              "  <thead>\n",
              "    <tr style=\"text-align: right;\">\n",
              "      <th></th>\n",
              "      <th>0</th>\n",
              "      <th>1</th>\n",
              "      <th>2</th>\n",
              "      <th>3</th>\n",
              "      <th>4</th>\n",
              "      <th>5</th>\n",
              "      <th>6</th>\n",
              "      <th>7</th>\n",
              "      <th>8</th>\n",
              "      <th>9</th>\n",
              "    </tr>\n",
              "  </thead>\n",
              "  <tbody>\n",
              "    <tr>\n",
              "      <th>MGSE9-12.912.N.Q</th>\n",
              "      <td>MGSE9-12.912.N.Q.1 Use units of measure (linea...</td>\n",
              "      <td>MGSE9-12.912.N.Q.1a Identify, use, and record ...</td>\n",
              "      <td>MGSE9-12.912.N.Q.1b Convert units and rates us...</td>\n",
              "      <td>MGSE9-12.912.N.Q.1c Use units within multi-ste...</td>\n",
              "      <td>MGSE9-12.912.N.Q.2 Define appropriate quantiti...</td>\n",
              "      <td>MGSE9-12.912.N.Q.3 Choose a level of accuracy ...</td>\n",
              "      <td>None</td>\n",
              "      <td>None</td>\n",
              "      <td>None</td>\n",
              "      <td>None</td>\n",
              "    </tr>\n",
              "    <tr>\n",
              "      <th>MGSE9-12.912.A.SSE</th>\n",
              "      <td>MGSE9-12.912.A.SSE.1 Interpret expressions tha...</td>\n",
              "      <td>MGSE9-12.912.A.SSE.1a Interpret parts of an ex...</td>\n",
              "      <td>MGSE9-12.912.A.SSE.1b Given situations which u...</td>\n",
              "      <td>None</td>\n",
              "      <td>None</td>\n",
              "      <td>None</td>\n",
              "      <td>None</td>\n",
              "      <td>None</td>\n",
              "      <td>None</td>\n",
              "      <td>None</td>\n",
              "    </tr>\n",
              "    <tr>\n",
              "      <th>MGSE9-12.912.A.CED</th>\n",
              "      <td>MGSE9-12.912.A.CED.1 Create equations and ineq...</td>\n",
              "      <td>MGSE9-12.912.A.CED.2 Create linear, quadratic,...</td>\n",
              "      <td>MGSE9-12.912.A.CED.3 Represent constraints by ...</td>\n",
              "      <td>MGSE9-12.912.A.CED.4 Rearrange formulas to hig...</td>\n",
              "      <td>None</td>\n",
              "      <td>None</td>\n",
              "      <td>None</td>\n",
              "      <td>None</td>\n",
              "      <td>None</td>\n",
              "      <td>None</td>\n",
              "    </tr>\n",
              "    <tr>\n",
              "      <th>MGSE9-12.912.A.REI</th>\n",
              "      <td>MGSE9-12.912.A.REI.1 Using algebraic propertie...</td>\n",
              "      <td>MGSE9-12.912.A.REI.3 Solve linear equations an...</td>\n",
              "      <td>MGSE9-12.912.A.REI.5 Show and explain why the ...</td>\n",
              "      <td>MGSE9-12.912.A.REI.6 Solve systems of linear e...</td>\n",
              "      <td>MGSE9-12.912.A.REI.10 Understand that the grap...</td>\n",
              "      <td>MGSE9-12.912.A.REI.11 Using graphs, tables, or...</td>\n",
              "      <td>MGSE9-12.912.A.REI.12 Graph the solution set t...</td>\n",
              "      <td>None</td>\n",
              "      <td>None</td>\n",
              "      <td>None</td>\n",
              "    </tr>\n",
              "    <tr>\n",
              "      <th>MGSE9-12.912.F.IF</th>\n",
              "      <td>MGSE9-12.912.F.IF.1 Understand that a function...</td>\n",
              "      <td>MGSE9-12.912.F.IF.2 Use function notation, eva...</td>\n",
              "      <td>MGSE9-12.912.F.IF.3 Recognize that sequences a...</td>\n",
              "      <td>MGSE9-12.912.F.IF.4 Using tables, graphs, and ...</td>\n",
              "      <td>MGSE9-12.912.F.IF.5 Relate the domain of a fun...</td>\n",
              "      <td>MGSE9-12.912.F.IF.6 Calculate and interpret th...</td>\n",
              "      <td>MGSE9-12.912.F.IF.7 Graph functions expressed ...</td>\n",
              "      <td>MGSE9-12.912.F.IF.7a Graph linear and quadrati...</td>\n",
              "      <td>MGSE9-12.912.F.IF.7e Graph exponential and log...</td>\n",
              "      <td>MGSE9-12.912.F.IF.9 Compare properties of two ...</td>\n",
              "    </tr>\n",
              "    <tr>\n",
              "      <th>MGSE9-12.912.F.BF</th>\n",
              "      <td>MGSE9-12.912.F.BF.1 Write a function that desc...</td>\n",
              "      <td>MGSE9-12.912.F.BF.1a Determine an explicit exp...</td>\n",
              "      <td>MGSE9-12.912.F.BF.2 Write arithmetic and geome...</td>\n",
              "      <td>MGSE9-12.912.F.BF.3 Identify the effect on the...</td>\n",
              "      <td>None</td>\n",
              "      <td>None</td>\n",
              "      <td>None</td>\n",
              "      <td>None</td>\n",
              "      <td>None</td>\n",
              "      <td>None</td>\n",
              "    </tr>\n",
              "    <tr>\n",
              "      <th>MGSE9-12.912.F.LE</th>\n",
              "      <td>MGSE9-12.912.F.LE.1 Distinguish between situat...</td>\n",
              "      <td>MGSE9-12.912.F.LE.1a Show that linear function...</td>\n",
              "      <td>MGSE9-12.912.F.LE.1b Recognize situations in w...</td>\n",
              "      <td>MGSE9-12.912.F.LE.1c Recognize situations in w...</td>\n",
              "      <td>MGSE9-12.912.F.LE.2 Construct linear and expon...</td>\n",
              "      <td>MGSE9-12.912.F.LE.3 Observe using graphs and t...</td>\n",
              "      <td>MGSE9-12.912.F.LE.5 Interpret the parameters i...</td>\n",
              "      <td>None</td>\n",
              "      <td>None</td>\n",
              "      <td>None</td>\n",
              "    </tr>\n",
              "    <tr>\n",
              "      <th>MGSE9-12.912.G.CO</th>\n",
              "      <td>MGSE9-12.912.G.CO.1 Know precise definitions o...</td>\n",
              "      <td>MGSE9-12.912.G.CO.2 Represent transformations ...</td>\n",
              "      <td>MGSE9-12.912.G.CO.3 Given a rectangle, paralle...</td>\n",
              "      <td>MGSE9-12.912.G.CO.4 Develop definitions of rot...</td>\n",
              "      <td>MGSE9-12.912.G.CO.5 Given a geometric figure a...</td>\n",
              "      <td>None</td>\n",
              "      <td>None</td>\n",
              "      <td>None</td>\n",
              "      <td>None</td>\n",
              "      <td>None</td>\n",
              "    </tr>\n",
              "    <tr>\n",
              "      <th>MGSE9-12.912.G.GPE</th>\n",
              "      <td>MGSE9-12.912.G.GPE.4 Use coordinates to prove ...</td>\n",
              "      <td>MGSE9-12.912.G.GPE.5 Prove the slope criteria ...</td>\n",
              "      <td>MGSE9-12.912.G.GPE.6 Find the point on a direc...</td>\n",
              "      <td>MGSE9-12.912.G.GPE.7 Use coordinates to comput...</td>\n",
              "      <td>None</td>\n",
              "      <td>None</td>\n",
              "      <td>None</td>\n",
              "      <td>None</td>\n",
              "      <td>None</td>\n",
              "      <td>None</td>\n",
              "    </tr>\n",
              "  </tbody>\n",
              "</table>\n",
              "</div>"
            ],
            "text/plain": [
              "                                                                    0  ...                                                  9\n",
              "MGSE9-12.912.N.Q    MGSE9-12.912.N.Q.1 Use units of measure (linea...  ...                                               None\n",
              "MGSE9-12.912.A.SSE  MGSE9-12.912.A.SSE.1 Interpret expressions tha...  ...                                               None\n",
              "MGSE9-12.912.A.CED  MGSE9-12.912.A.CED.1 Create equations and ineq...  ...                                               None\n",
              "MGSE9-12.912.A.REI  MGSE9-12.912.A.REI.1 Using algebraic propertie...  ...                                               None\n",
              "MGSE9-12.912.F.IF   MGSE9-12.912.F.IF.1 Understand that a function...  ...  MGSE9-12.912.F.IF.9 Compare properties of two ...\n",
              "MGSE9-12.912.F.BF   MGSE9-12.912.F.BF.1 Write a function that desc...  ...                                               None\n",
              "MGSE9-12.912.F.LE   MGSE9-12.912.F.LE.1 Distinguish between situat...  ...                                               None\n",
              "MGSE9-12.912.G.CO   MGSE9-12.912.G.CO.1 Know precise definitions o...  ...                                               None\n",
              "MGSE9-12.912.G.GPE  MGSE9-12.912.G.GPE.4 Use coordinates to prove ...  ...                                               None\n",
              "\n",
              "[9 rows x 10 columns]"
            ]
          },
          "metadata": {
            "tags": []
          },
          "execution_count": 16
        }
      ]
    },
    {
      "cell_type": "code",
      "metadata": {
        "id": "9gmcKYHMHpl6",
        "colab_type": "code",
        "colab": {
          "base_uri": "https://localhost:8080/",
          "height": 814
        },
        "outputId": "c1d5f48e-15fc-4144-8ba3-5c9b72d470f4"
      },
      "source": [
        "df = df.T\n",
        "df"
      ],
      "execution_count": 17,
      "outputs": [
        {
          "output_type": "execute_result",
          "data": {
            "text/html": [
              "<div>\n",
              "<style scoped>\n",
              "    .dataframe tbody tr th:only-of-type {\n",
              "        vertical-align: middle;\n",
              "    }\n",
              "\n",
              "    .dataframe tbody tr th {\n",
              "        vertical-align: top;\n",
              "    }\n",
              "\n",
              "    .dataframe thead th {\n",
              "        text-align: right;\n",
              "    }\n",
              "</style>\n",
              "<table border=\"1\" class=\"dataframe\">\n",
              "  <thead>\n",
              "    <tr style=\"text-align: right;\">\n",
              "      <th></th>\n",
              "      <th>MGSE9-12.912.N.Q</th>\n",
              "      <th>MGSE9-12.912.A.SSE</th>\n",
              "      <th>MGSE9-12.912.A.CED</th>\n",
              "      <th>MGSE9-12.912.A.REI</th>\n",
              "      <th>MGSE9-12.912.F.IF</th>\n",
              "      <th>MGSE9-12.912.F.BF</th>\n",
              "      <th>MGSE9-12.912.F.LE</th>\n",
              "      <th>MGSE9-12.912.G.CO</th>\n",
              "      <th>MGSE9-12.912.G.GPE</th>\n",
              "    </tr>\n",
              "  </thead>\n",
              "  <tbody>\n",
              "    <tr>\n",
              "      <th>0</th>\n",
              "      <td>MGSE9-12.912.N.Q.1 Use units of measure (linea...</td>\n",
              "      <td>MGSE9-12.912.A.SSE.1 Interpret expressions tha...</td>\n",
              "      <td>MGSE9-12.912.A.CED.1 Create equations and ineq...</td>\n",
              "      <td>MGSE9-12.912.A.REI.1 Using algebraic propertie...</td>\n",
              "      <td>MGSE9-12.912.F.IF.1 Understand that a function...</td>\n",
              "      <td>MGSE9-12.912.F.BF.1 Write a function that desc...</td>\n",
              "      <td>MGSE9-12.912.F.LE.1 Distinguish between situat...</td>\n",
              "      <td>MGSE9-12.912.G.CO.1 Know precise definitions o...</td>\n",
              "      <td>MGSE9-12.912.G.GPE.4 Use coordinates to prove ...</td>\n",
              "    </tr>\n",
              "    <tr>\n",
              "      <th>1</th>\n",
              "      <td>MGSE9-12.912.N.Q.1a Identify, use, and record ...</td>\n",
              "      <td>MGSE9-12.912.A.SSE.1a Interpret parts of an ex...</td>\n",
              "      <td>MGSE9-12.912.A.CED.2 Create linear, quadratic,...</td>\n",
              "      <td>MGSE9-12.912.A.REI.3 Solve linear equations an...</td>\n",
              "      <td>MGSE9-12.912.F.IF.2 Use function notation, eva...</td>\n",
              "      <td>MGSE9-12.912.F.BF.1a Determine an explicit exp...</td>\n",
              "      <td>MGSE9-12.912.F.LE.1a Show that linear function...</td>\n",
              "      <td>MGSE9-12.912.G.CO.2 Represent transformations ...</td>\n",
              "      <td>MGSE9-12.912.G.GPE.5 Prove the slope criteria ...</td>\n",
              "    </tr>\n",
              "    <tr>\n",
              "      <th>2</th>\n",
              "      <td>MGSE9-12.912.N.Q.1b Convert units and rates us...</td>\n",
              "      <td>MGSE9-12.912.A.SSE.1b Given situations which u...</td>\n",
              "      <td>MGSE9-12.912.A.CED.3 Represent constraints by ...</td>\n",
              "      <td>MGSE9-12.912.A.REI.5 Show and explain why the ...</td>\n",
              "      <td>MGSE9-12.912.F.IF.3 Recognize that sequences a...</td>\n",
              "      <td>MGSE9-12.912.F.BF.2 Write arithmetic and geome...</td>\n",
              "      <td>MGSE9-12.912.F.LE.1b Recognize situations in w...</td>\n",
              "      <td>MGSE9-12.912.G.CO.3 Given a rectangle, paralle...</td>\n",
              "      <td>MGSE9-12.912.G.GPE.6 Find the point on a direc...</td>\n",
              "    </tr>\n",
              "    <tr>\n",
              "      <th>3</th>\n",
              "      <td>MGSE9-12.912.N.Q.1c Use units within multi-ste...</td>\n",
              "      <td>None</td>\n",
              "      <td>MGSE9-12.912.A.CED.4 Rearrange formulas to hig...</td>\n",
              "      <td>MGSE9-12.912.A.REI.6 Solve systems of linear e...</td>\n",
              "      <td>MGSE9-12.912.F.IF.4 Using tables, graphs, and ...</td>\n",
              "      <td>MGSE9-12.912.F.BF.3 Identify the effect on the...</td>\n",
              "      <td>MGSE9-12.912.F.LE.1c Recognize situations in w...</td>\n",
              "      <td>MGSE9-12.912.G.CO.4 Develop definitions of rot...</td>\n",
              "      <td>MGSE9-12.912.G.GPE.7 Use coordinates to comput...</td>\n",
              "    </tr>\n",
              "    <tr>\n",
              "      <th>4</th>\n",
              "      <td>MGSE9-12.912.N.Q.2 Define appropriate quantiti...</td>\n",
              "      <td>None</td>\n",
              "      <td>None</td>\n",
              "      <td>MGSE9-12.912.A.REI.10 Understand that the grap...</td>\n",
              "      <td>MGSE9-12.912.F.IF.5 Relate the domain of a fun...</td>\n",
              "      <td>None</td>\n",
              "      <td>MGSE9-12.912.F.LE.2 Construct linear and expon...</td>\n",
              "      <td>MGSE9-12.912.G.CO.5 Given a geometric figure a...</td>\n",
              "      <td>None</td>\n",
              "    </tr>\n",
              "    <tr>\n",
              "      <th>5</th>\n",
              "      <td>MGSE9-12.912.N.Q.3 Choose a level of accuracy ...</td>\n",
              "      <td>None</td>\n",
              "      <td>None</td>\n",
              "      <td>MGSE9-12.912.A.REI.11 Using graphs, tables, or...</td>\n",
              "      <td>MGSE9-12.912.F.IF.6 Calculate and interpret th...</td>\n",
              "      <td>None</td>\n",
              "      <td>MGSE9-12.912.F.LE.3 Observe using graphs and t...</td>\n",
              "      <td>None</td>\n",
              "      <td>None</td>\n",
              "    </tr>\n",
              "    <tr>\n",
              "      <th>6</th>\n",
              "      <td>None</td>\n",
              "      <td>None</td>\n",
              "      <td>None</td>\n",
              "      <td>MGSE9-12.912.A.REI.12 Graph the solution set t...</td>\n",
              "      <td>MGSE9-12.912.F.IF.7 Graph functions expressed ...</td>\n",
              "      <td>None</td>\n",
              "      <td>MGSE9-12.912.F.LE.5 Interpret the parameters i...</td>\n",
              "      <td>None</td>\n",
              "      <td>None</td>\n",
              "    </tr>\n",
              "    <tr>\n",
              "      <th>7</th>\n",
              "      <td>None</td>\n",
              "      <td>None</td>\n",
              "      <td>None</td>\n",
              "      <td>None</td>\n",
              "      <td>MGSE9-12.912.F.IF.7a Graph linear and quadrati...</td>\n",
              "      <td>None</td>\n",
              "      <td>None</td>\n",
              "      <td>None</td>\n",
              "      <td>None</td>\n",
              "    </tr>\n",
              "    <tr>\n",
              "      <th>8</th>\n",
              "      <td>None</td>\n",
              "      <td>None</td>\n",
              "      <td>None</td>\n",
              "      <td>None</td>\n",
              "      <td>MGSE9-12.912.F.IF.7e Graph exponential and log...</td>\n",
              "      <td>None</td>\n",
              "      <td>None</td>\n",
              "      <td>None</td>\n",
              "      <td>None</td>\n",
              "    </tr>\n",
              "    <tr>\n",
              "      <th>9</th>\n",
              "      <td>None</td>\n",
              "      <td>None</td>\n",
              "      <td>None</td>\n",
              "      <td>None</td>\n",
              "      <td>MGSE9-12.912.F.IF.9 Compare properties of two ...</td>\n",
              "      <td>None</td>\n",
              "      <td>None</td>\n",
              "      <td>None</td>\n",
              "      <td>None</td>\n",
              "    </tr>\n",
              "  </tbody>\n",
              "</table>\n",
              "</div>"
            ],
            "text/plain": [
              "                                    MGSE9-12.912.N.Q  ...                                 MGSE9-12.912.G.GPE\n",
              "0  MGSE9-12.912.N.Q.1 Use units of measure (linea...  ...  MGSE9-12.912.G.GPE.4 Use coordinates to prove ...\n",
              "1  MGSE9-12.912.N.Q.1a Identify, use, and record ...  ...  MGSE9-12.912.G.GPE.5 Prove the slope criteria ...\n",
              "2  MGSE9-12.912.N.Q.1b Convert units and rates us...  ...  MGSE9-12.912.G.GPE.6 Find the point on a direc...\n",
              "3  MGSE9-12.912.N.Q.1c Use units within multi-ste...  ...  MGSE9-12.912.G.GPE.7 Use coordinates to comput...\n",
              "4  MGSE9-12.912.N.Q.2 Define appropriate quantiti...  ...                                               None\n",
              "5  MGSE9-12.912.N.Q.3 Choose a level of accuracy ...  ...                                               None\n",
              "6                                               None  ...                                               None\n",
              "7                                               None  ...                                               None\n",
              "8                                               None  ...                                               None\n",
              "9                                               None  ...                                               None\n",
              "\n",
              "[10 rows x 9 columns]"
            ]
          },
          "metadata": {
            "tags": []
          },
          "execution_count": 17
        }
      ]
    }
  ]
}
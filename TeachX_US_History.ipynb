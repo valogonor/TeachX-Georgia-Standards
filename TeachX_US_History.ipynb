{
  "nbformat": 4,
  "nbformat_minor": 0,
  "metadata": {
    "colab": {
      "name": "TeachX US History.ipynb",
      "provenance": [],
      "collapsed_sections": [],
      "mount_file_id": "1POvsxcoro0aHsUF7YdWMzUcsb0u7VGNF",
      "authorship_tag": "ABX9TyOwTCAQBAIiX7XNkqDpU1P5",
      "include_colab_link": true
    },
    "kernelspec": {
      "name": "python3",
      "display_name": "Python 3"
    }
  },
  "cells": [
    {
      "cell_type": "markdown",
      "metadata": {
        "id": "view-in-github",
        "colab_type": "text"
      },
      "source": [
        "<a href=\"https://colab.research.google.com/github/valogonor/TeachX-Georgia-Standards/blob/master/TeachX_US_History.ipynb\" target=\"_parent\"><img src=\"https://colab.research.google.com/assets/colab-badge.svg\" alt=\"Open In Colab\"/></a>"
      ]
    },
    {
      "cell_type": "code",
      "metadata": {
        "id": "I2KldHQF3tFQ",
        "colab_type": "code",
        "outputId": "8ac7aec5-6fb3-4d82-e08e-079178e0d2f9",
        "colab": {
          "base_uri": "https://localhost:8080/",
          "height": 151
        }
      },
      "source": [
        "! ls '/content/drive/My Drive/Colab Notebooks/TeachX Georgia Standards'"
      ],
      "execution_count": 1,
      "outputs": [
        {
          "output_type": "stream",
          "text": [
            " Social-Studies-United-States-History-Georgia-Standards.txt\n",
            "'TeachX Georgia Biology Standards.ipynb'\n",
            "'TeachX Georgia Chemistry Standards.ipynb'\n",
            "'TeachX Georgia Coordinate Algebra.ipynb'\n",
            "'TeachX Georgia Physical Science Standards.ipynb'\n",
            "'TeachX US History.ipynb'\n",
            " ushistory.csv\n",
            " util.ipynb\n"
          ],
          "name": "stdout"
        }
      ]
    },
    {
      "cell_type": "code",
      "metadata": {
        "id": "pNaQYe5Vt-UL",
        "colab_type": "code",
        "outputId": "0fac4393-9bcf-497d-87e6-8f5459ff9857",
        "colab": {
          "base_uri": "https://localhost:8080/",
          "height": 34
        }
      },
      "source": [
        "%cd /content/drive/My Drive/Colab Notebooks/TeachX Georgia Standards"
      ],
      "execution_count": 2,
      "outputs": [
        {
          "output_type": "stream",
          "text": [
            "/content/drive/My Drive/Colab Notebooks/TeachX Georgia Standards\n"
          ],
          "name": "stdout"
        }
      ]
    },
    {
      "cell_type": "code",
      "metadata": {
        "id": "w4Wr5PMH4fKq",
        "colab_type": "code",
        "outputId": "8c37cecb-4ad2-4378-8c54-688b38bcee10",
        "colab": {
          "base_uri": "https://localhost:8080/",
          "height": 34
        }
      },
      "source": [
        "! pwd"
      ],
      "execution_count": 3,
      "outputs": [
        {
          "output_type": "stream",
          "text": [
            "/content/drive/My Drive/Colab Notebooks/TeachX Georgia Standards\n"
          ],
          "name": "stdout"
        }
      ]
    },
    {
      "cell_type": "code",
      "metadata": {
        "id": "hAUlrmATzTC1",
        "colab_type": "code",
        "colab": {}
      },
      "source": [
        "f = 'Social-Studies-United-States-History-Georgia-Standards.txt'"
      ],
      "execution_count": 0,
      "outputs": []
    },
    {
      "cell_type": "code",
      "metadata": {
        "id": "FyoTSgF1DmHN",
        "colab_type": "code",
        "outputId": "83dc4978-6011-4de8-9232-7a5a22f8ad0f",
        "colab": {
          "base_uri": "https://localhost:8080/",
          "height": 54
        }
      },
      "source": [
        "with open(f) as text:\n",
        "    string = text.read()\n",
        "string[-1000:]"
      ],
      "execution_count": 5,
      "outputs": [
        {
          "output_type": "execute_result",
          "data": {
            "text/plain": [
              "'tion) or solve a problem; narrow or broaden the inquiry when appropriate; synthesize multiple sources on the subject,\\ndemonstrating understanding of the subject under investigation.\\nL11-12WHST8: Gather relevant information from multiple authoritative print and digital sources, using advanced searches\\neffectively; assess the strengths and limitations of each source in terms of the specific task, purpose, and audience; integrate\\ninformation into the text selectively to maintain the flow of ideas, avoiding plagiarism and overreliance on any one source and\\nfollowing a standard format for citation.\\nL11-12WHST9: Draw evidence from informational texts to support analysis, reflection, and research.\\n\\uf0d8 Range of Writing\\nL11-12WHST10: Write routinely over extended time frames (time for reflection and revision) and shorter time frames (a\\nsingle sitting or a day or two) for a range of discipline-specific tasks, purposes, and audiences.\\n\\nGeorgia Department of Education\\nJune 9, 2016 \\uf0b7 Page 13 of 13\\n\\n\\x0c'"
            ]
          },
          "metadata": {
            "tags": []
          },
          "execution_count": 5
        }
      ]
    },
    {
      "cell_type": "code",
      "metadata": {
        "id": "kBJc5aVpEFn5",
        "colab_type": "code",
        "outputId": "40a65374-2838-4cbb-f2a2-f2e48c19a211",
        "colab": {
          "base_uri": "https://localhost:8080/",
          "height": 34
        }
      },
      "source": [
        "idx = string.index('7 of 13')\n",
        "idx"
      ],
      "execution_count": 6,
      "outputs": [
        {
          "output_type": "execute_result",
          "data": {
            "text/plain": [
              "16367"
            ]
          },
          "metadata": {
            "tags": []
          },
          "execution_count": 6
        }
      ]
    },
    {
      "cell_type": "code",
      "metadata": {
        "id": "6egs6f3qHDwH",
        "colab_type": "code",
        "outputId": "bdb8dd81-dfd3-4309-bd7e-afeb1ad1f8bb",
        "colab": {
          "base_uri": "https://localhost:8080/",
          "height": 34
        }
      },
      "source": [
        "string[16367]"
      ],
      "execution_count": 7,
      "outputs": [
        {
          "output_type": "execute_result",
          "data": {
            "text/plain": [
              "'7'"
            ]
          },
          "metadata": {
            "tags": []
          },
          "execution_count": 7
        }
      ]
    },
    {
      "cell_type": "code",
      "metadata": {
        "id": "_8b_lS8RHLAI",
        "colab_type": "code",
        "outputId": "041276b9-4b40-4b64-e9b0-2ed98ea3b393",
        "colab": {
          "base_uri": "https://localhost:8080/",
          "height": 34
        }
      },
      "source": [
        "string[16373]"
      ],
      "execution_count": 8,
      "outputs": [
        {
          "output_type": "execute_result",
          "data": {
            "text/plain": [
              "'3'"
            ]
          },
          "metadata": {
            "tags": []
          },
          "execution_count": 8
        }
      ]
    },
    {
      "cell_type": "code",
      "metadata": {
        "id": "fnnzg18THhAY",
        "colab_type": "code",
        "outputId": "f38d8604-1885-42c2-9f9e-85e9a86af907",
        "colab": {
          "base_uri": "https://localhost:8080/",
          "height": 54
        }
      },
      "source": [
        "string1 = string[:16374]\n",
        "string1[-1000:]"
      ],
      "execution_count": 9,
      "outputs": [
        {
          "output_type": "execute_result",
          "data": {
            "text/plain": [
              "'avid Accords, and Carter’s\\nresponse to the 1979 Iranian Revolution and hostage crisis.\\nb. Connect major domestic issues to their social effects including the creation of the\\nEnvironmental Protection Agency, the emergence of the National Organization for\\nWomen, Nixon’s resignation due to the Watergate scandal, and his pardon by Ford.\\nSSUSH23 Assess the political, economic, and technological changes during the Reagan,\\nGeorge H.W. Bush, Clinton, George W. Bush, and Obama administrations.\\na. Analyze challenges faced by recent presidents including the collapse of the Soviet Union,\\nClinton’s impeachment, the attacks of September 11, 2001, and the war against terrorism.\\nb. Examine economic policies of recent presidents including Reaganomics.\\nc. Examine the influence of technological changes on society including the personal\\ncomputer, the Internet, and social media.\\nd. Examine the historic nature of the presidential election of 2008.\\n\\nGeorgia Department of Education\\nJune 9, 2016 \\uf0b7 Page 7 of 13'"
            ]
          },
          "metadata": {
            "tags": []
          },
          "execution_count": 9
        }
      ]
    },
    {
      "cell_type": "code",
      "metadata": {
        "id": "gFRz5CtOHsSO",
        "colab_type": "code",
        "outputId": "3ef499e1-a2fb-444e-95c8-eca0ad2a5e75",
        "colab": {
          "base_uri": "https://localhost:8080/",
          "height": 34
        }
      },
      "source": [
        "string[16377]"
      ],
      "execution_count": 10,
      "outputs": [
        {
          "output_type": "execute_result",
          "data": {
            "text/plain": [
              "'S'"
            ]
          },
          "metadata": {
            "tags": []
          },
          "execution_count": 10
        }
      ]
    },
    {
      "cell_type": "code",
      "metadata": {
        "id": "vc8PAzd15KkF",
        "colab_type": "code",
        "outputId": "fac77ded-be92-4a07-feb9-edfa12761ffc",
        "colab": {
          "base_uri": "https://localhost:8080/",
          "height": 54
        }
      },
      "source": [
        "text = string1.split('\\nSSUSH')\n",
        "text = text[1:]\n",
        "text[-1]"
      ],
      "execution_count": 11,
      "outputs": [
        {
          "output_type": "execute_result",
          "data": {
            "text/plain": [
              "'23 Assess the political, economic, and technological changes during the Reagan,\\nGeorge H.W. Bush, Clinton, George W. Bush, and Obama administrations.\\na. Analyze challenges faced by recent presidents including the collapse of the Soviet Union,\\nClinton’s impeachment, the attacks of September 11, 2001, and the war against terrorism.\\nb. Examine economic policies of recent presidents including Reaganomics.\\nc. Examine the influence of technological changes on society including the personal\\ncomputer, the Internet, and social media.\\nd. Examine the historic nature of the presidential election of 2008.\\n\\nGeorgia Department of Education\\nJune 9, 2016 \\uf0b7 Page 7 of 13'"
            ]
          },
          "metadata": {
            "tags": []
          },
          "execution_count": 11
        }
      ]
    },
    {
      "cell_type": "code",
      "metadata": {
        "id": "fXvQU5jjIPCM",
        "colab_type": "code",
        "outputId": "d9ccaa19-1d11-480b-d5fb-121cd311e8a3",
        "colab": {
          "base_uri": "https://localhost:8080/",
          "height": 121
        }
      },
      "source": [
        "data = []\n",
        "for j in range(len(text)):\n",
        "    sb = text[j].split('\\n')\n",
        "    if '' in sb:\n",
        "        idx = sb.index('')\n",
        "        sb = sb[:idx] + sb[idx+6:]\n",
        "    res = []\n",
        "    n = len(sb)\n",
        "    i = 1\n",
        "    res.append(sb[0])\n",
        "    while i < n:\n",
        "        if sb[i][1] != '.':\n",
        "            res[-1] += ' ' + sb[i]\n",
        "        elif sb[i][2] != ' ':\n",
        "            res[-1] += ' ' + sb[i]\n",
        "        else:\n",
        "            res.append(sb[i])\n",
        "        i += 1\n",
        "    data.append(res)\n",
        "data[-1]"
      ],
      "execution_count": 12,
      "outputs": [
        {
          "output_type": "execute_result",
          "data": {
            "text/plain": [
              "['23 Assess the political, economic, and technological changes during the Reagan, George H.W. Bush, Clinton, George W. Bush, and Obama administrations.',\n",
              " 'a. Analyze challenges faced by recent presidents including the collapse of the Soviet Union, Clinton’s impeachment, the attacks of September 11, 2001, and the war against terrorism.',\n",
              " 'b. Examine economic policies of recent presidents including Reaganomics.',\n",
              " 'c. Examine the influence of technological changes on society including the personal computer, the Internet, and social media.',\n",
              " 'd. Examine the historic nature of the presidential election of 2008.']"
            ]
          },
          "metadata": {
            "tags": []
          },
          "execution_count": 12
        }
      ]
    },
    {
      "cell_type": "code",
      "metadata": {
        "id": "gyFroLlse_Py",
        "colab_type": "code",
        "outputId": "9ac55ec9-8a10-463a-fab9-e535e2f8d95b",
        "colab": {
          "base_uri": "https://localhost:8080/",
          "height": 168
        }
      },
      "source": [
        "!pip install import_ipynb"
      ],
      "execution_count": 13,
      "outputs": [
        {
          "output_type": "stream",
          "text": [
            "Collecting import_ipynb\n",
            "  Downloading https://files.pythonhosted.org/packages/63/35/495e0021bfdcc924c7cdec4e9fbb87c88dd03b9b9b22419444dc370c8a45/import-ipynb-0.1.3.tar.gz\n",
            "Building wheels for collected packages: import-ipynb\n",
            "  Building wheel for import-ipynb (setup.py) ... \u001b[?25l\u001b[?25hdone\n",
            "  Created wheel for import-ipynb: filename=import_ipynb-0.1.3-cp36-none-any.whl size=2976 sha256=eb6d042df505a8259cbdd9b0e3fd52d69aff6fed62d115fe1c9fcdd1a774143f\n",
            "  Stored in directory: /root/.cache/pip/wheels/b4/7b/e9/a3a6e496115dffdb4e3085d0ae39ffe8a814eacc44bbf494b5\n",
            "Successfully built import-ipynb\n",
            "Installing collected packages: import-ipynb\n",
            "Successfully installed import-ipynb-0.1.3\n"
          ],
          "name": "stdout"
        }
      ]
    },
    {
      "cell_type": "code",
      "metadata": {
        "id": "2KrE38oGhLdd",
        "colab_type": "code",
        "colab": {}
      },
      "source": [
        "import import_ipynb"
      ],
      "execution_count": 0,
      "outputs": []
    },
    {
      "cell_type": "code",
      "metadata": {
        "id": "F7r76NzshH4K",
        "colab_type": "code",
        "outputId": "e9e5687a-2d58-4245-f65c-a030f297703b",
        "colab": {
          "base_uri": "https://localhost:8080/",
          "height": 34
        }
      },
      "source": [
        "from util import *"
      ],
      "execution_count": 15,
      "outputs": [
        {
          "output_type": "stream",
          "text": [
            "importing Jupyter notebook from util.ipynb\n"
          ],
          "name": "stdout"
        }
      ]
    },
    {
      "cell_type": "code",
      "metadata": {
        "id": "nbCLkN_-93P5",
        "colab_type": "code",
        "outputId": "604718c2-f1e4-48be-9961-df77223959d2",
        "colab": {
          "base_uri": "https://localhost:8080/",
          "height": 121
        }
      },
      "source": [
        "data = add_code(data, 'SSUSH')\n",
        "data[-1]"
      ],
      "execution_count": 16,
      "outputs": [
        {
          "output_type": "execute_result",
          "data": {
            "text/plain": [
              "['SSUSH23 Assess the political, economic, and technological changes during the Reagan, George H.W. Bush, Clinton, George W. Bush, and Obama administrations.',\n",
              " 'SSUSH23.a Analyze challenges faced by recent presidents including the collapse of the Soviet Union, Clinton’s impeachment, the attacks of September 11, 2001, and the war against terrorism.',\n",
              " 'SSUSH23.b Examine economic policies of recent presidents including Reaganomics.',\n",
              " 'SSUSH23.c Examine the influence of technological changes on society including the personal computer, the Internet, and social media.',\n",
              " 'SSUSH23.d Examine the historic nature of the presidential election of 2008.']"
            ]
          },
          "metadata": {
            "tags": []
          },
          "execution_count": 16
        }
      ]
    },
    {
      "cell_type": "code",
      "metadata": {
        "id": "0gqwgyjf-Cr_",
        "colab_type": "code",
        "outputId": "5c13cef7-892f-4e8d-ecad-76b474551db5",
        "colab": {
          "base_uri": "https://localhost:8080/",
          "height": 279
        }
      },
      "source": [
        "import pandas as pd\n",
        "df = pd.DataFrame(data)\n",
        "df.head()"
      ],
      "execution_count": 17,
      "outputs": [
        {
          "output_type": "execute_result",
          "data": {
            "text/html": [
              "<div>\n",
              "<style scoped>\n",
              "    .dataframe tbody tr th:only-of-type {\n",
              "        vertical-align: middle;\n",
              "    }\n",
              "\n",
              "    .dataframe tbody tr th {\n",
              "        vertical-align: top;\n",
              "    }\n",
              "\n",
              "    .dataframe thead th {\n",
              "        text-align: right;\n",
              "    }\n",
              "</style>\n",
              "<table border=\"1\" class=\"dataframe\">\n",
              "  <thead>\n",
              "    <tr style=\"text-align: right;\">\n",
              "      <th></th>\n",
              "      <th>0</th>\n",
              "      <th>1</th>\n",
              "      <th>2</th>\n",
              "      <th>3</th>\n",
              "      <th>4</th>\n",
              "      <th>5</th>\n",
              "      <th>6</th>\n",
              "    </tr>\n",
              "  </thead>\n",
              "  <tbody>\n",
              "    <tr>\n",
              "      <th>0</th>\n",
              "      <td>SSUSH1 Compare and contrast the development of...</td>\n",
              "      <td>SSUSH1.a Investigate how mercantilism and tran...</td>\n",
              "      <td>SSUSH1.b Explain the development of the Southe...</td>\n",
              "      <td>SSUSH1.c Explain the development of the New En...</td>\n",
              "      <td>SSUSH1.d Explain the development of the Mid-At...</td>\n",
              "      <td>None</td>\n",
              "      <td>None</td>\n",
              "    </tr>\n",
              "    <tr>\n",
              "      <th>1</th>\n",
              "      <td>SSUSH2 Describe the early English colonial soc...</td>\n",
              "      <td>SSUSH2.a Describe European cultural diversity ...</td>\n",
              "      <td>SSUSH2.b Describe the Middle Passage, the grow...</td>\n",
              "      <td>SSUSH2.c Describe different methods of colonia...</td>\n",
              "      <td>SSUSH2.d Explain the role of the Great Awakeni...</td>\n",
              "      <td>None</td>\n",
              "      <td>None</td>\n",
              "    </tr>\n",
              "    <tr>\n",
              "      <th>2</th>\n",
              "      <td>SSUSH3 Analyze the causes of the American Revo...</td>\n",
              "      <td>SSUSH3.a Explain how the French and Indian War...</td>\n",
              "      <td>SSUSH3.b Explain colonial response to the Proc...</td>\n",
              "      <td>SSUSH3.c Explain the importance of Thomas Pain...</td>\n",
              "      <td>None</td>\n",
              "      <td>None</td>\n",
              "      <td>None</td>\n",
              "    </tr>\n",
              "    <tr>\n",
              "      <th>3</th>\n",
              "      <td>SSUSH4 Analyze the ideological, military, soci...</td>\n",
              "      <td>SSUSH4.a Investigate the intellectual sources,...</td>\n",
              "      <td>SSUSH4.b Explain the reason for and significan...</td>\n",
              "      <td>SSUSH4.c Analyze George Washington as a milita...</td>\n",
              "      <td>SSUSH4.d Investigate the role of geography at ...</td>\n",
              "      <td>SSUSH4.e Examine the roles of women, American ...</td>\n",
              "      <td>SSUSH4.f Explain the significance of the Treat...</td>\n",
              "    </tr>\n",
              "    <tr>\n",
              "      <th>4</th>\n",
              "      <td>SSUSH5 Investigate specific events and key ide...</td>\n",
              "      <td>SSUSH5.a Examine the strengths of the Articles...</td>\n",
              "      <td>SSUSH5.b Evaluate how weaknesses in the Articl...</td>\n",
              "      <td>SSUSH5.c Explain the key features of the Const...</td>\n",
              "      <td>SSUSH5.d Evaluate the major arguments of the A...</td>\n",
              "      <td>SSUSH5.e Explain how objections to the ratific...</td>\n",
              "      <td>None</td>\n",
              "    </tr>\n",
              "  </tbody>\n",
              "</table>\n",
              "</div>"
            ],
            "text/plain": [
              "                                                   0  ...                                                  6\n",
              "0  SSUSH1 Compare and contrast the development of...  ...                                               None\n",
              "1  SSUSH2 Describe the early English colonial soc...  ...                                               None\n",
              "2  SSUSH3 Analyze the causes of the American Revo...  ...                                               None\n",
              "3  SSUSH4 Analyze the ideological, military, soci...  ...  SSUSH4.f Explain the significance of the Treat...\n",
              "4  SSUSH5 Investigate specific events and key ide...  ...                                               None\n",
              "\n",
              "[5 rows x 7 columns]"
            ]
          },
          "metadata": {
            "tags": []
          },
          "execution_count": 17
        }
      ]
    },
    {
      "cell_type": "code",
      "metadata": {
        "id": "3i73NmU6Fyy7",
        "colab_type": "code",
        "outputId": "ff91ca0d-d6ef-4127-9ab5-805d85449d12",
        "colab": {
          "base_uri": "https://localhost:8080/",
          "height": 330
        }
      },
      "source": [
        "import pandas as pd\n",
        "columns = col(data)\n",
        "index = index(data)\n",
        "df = pd.DataFrame(data, columns=columns, index=index)\n",
        "df.head()"
      ],
      "execution_count": 18,
      "outputs": [
        {
          "output_type": "execute_result",
          "data": {
            "text/html": [
              "<div>\n",
              "<style scoped>\n",
              "    .dataframe tbody tr th:only-of-type {\n",
              "        vertical-align: middle;\n",
              "    }\n",
              "\n",
              "    .dataframe tbody tr th {\n",
              "        vertical-align: top;\n",
              "    }\n",
              "\n",
              "    .dataframe thead th {\n",
              "        text-align: right;\n",
              "    }\n",
              "</style>\n",
              "<table border=\"1\" class=\"dataframe\">\n",
              "  <thead>\n",
              "    <tr style=\"text-align: right;\">\n",
              "      <th></th>\n",
              "      <th>main</th>\n",
              "      <th>a</th>\n",
              "      <th>b</th>\n",
              "      <th>c</th>\n",
              "      <th>d</th>\n",
              "      <th>e</th>\n",
              "      <th>f</th>\n",
              "    </tr>\n",
              "  </thead>\n",
              "  <tbody>\n",
              "    <tr>\n",
              "      <th>SSUSH1</th>\n",
              "      <td>SSUSH1 Compare and contrast the development of...</td>\n",
              "      <td>SSUSH1.a Investigate how mercantilism and tran...</td>\n",
              "      <td>SSUSH1.b Explain the development of the Southe...</td>\n",
              "      <td>SSUSH1.c Explain the development of the New En...</td>\n",
              "      <td>SSUSH1.d Explain the development of the Mid-At...</td>\n",
              "      <td>None</td>\n",
              "      <td>None</td>\n",
              "    </tr>\n",
              "    <tr>\n",
              "      <th>SSUSH2</th>\n",
              "      <td>SSUSH2 Describe the early English colonial soc...</td>\n",
              "      <td>SSUSH2.a Describe European cultural diversity ...</td>\n",
              "      <td>SSUSH2.b Describe the Middle Passage, the grow...</td>\n",
              "      <td>SSUSH2.c Describe different methods of colonia...</td>\n",
              "      <td>SSUSH2.d Explain the role of the Great Awakeni...</td>\n",
              "      <td>None</td>\n",
              "      <td>None</td>\n",
              "    </tr>\n",
              "    <tr>\n",
              "      <th>SSUSH3</th>\n",
              "      <td>SSUSH3 Analyze the causes of the American Revo...</td>\n",
              "      <td>SSUSH3.a Explain how the French and Indian War...</td>\n",
              "      <td>SSUSH3.b Explain colonial response to the Proc...</td>\n",
              "      <td>SSUSH3.c Explain the importance of Thomas Pain...</td>\n",
              "      <td>None</td>\n",
              "      <td>None</td>\n",
              "      <td>None</td>\n",
              "    </tr>\n",
              "    <tr>\n",
              "      <th>SSUSH4</th>\n",
              "      <td>SSUSH4 Analyze the ideological, military, soci...</td>\n",
              "      <td>SSUSH4.a Investigate the intellectual sources,...</td>\n",
              "      <td>SSUSH4.b Explain the reason for and significan...</td>\n",
              "      <td>SSUSH4.c Analyze George Washington as a milita...</td>\n",
              "      <td>SSUSH4.d Investigate the role of geography at ...</td>\n",
              "      <td>SSUSH4.e Examine the roles of women, American ...</td>\n",
              "      <td>SSUSH4.f Explain the significance of the Treat...</td>\n",
              "    </tr>\n",
              "    <tr>\n",
              "      <th>SSUSH5</th>\n",
              "      <td>SSUSH5 Investigate specific events and key ide...</td>\n",
              "      <td>SSUSH5.a Examine the strengths of the Articles...</td>\n",
              "      <td>SSUSH5.b Evaluate how weaknesses in the Articl...</td>\n",
              "      <td>SSUSH5.c Explain the key features of the Const...</td>\n",
              "      <td>SSUSH5.d Evaluate the major arguments of the A...</td>\n",
              "      <td>SSUSH5.e Explain how objections to the ratific...</td>\n",
              "      <td>None</td>\n",
              "    </tr>\n",
              "  </tbody>\n",
              "</table>\n",
              "</div>"
            ],
            "text/plain": [
              "                                                     main  ...                                                  f\n",
              "SSUSH1  SSUSH1 Compare and contrast the development of...  ...                                               None\n",
              "SSUSH2  SSUSH2 Describe the early English colonial soc...  ...                                               None\n",
              "SSUSH3  SSUSH3 Analyze the causes of the American Revo...  ...                                               None\n",
              "SSUSH4  SSUSH4 Analyze the ideological, military, soci...  ...  SSUSH4.f Explain the significance of the Treat...\n",
              "SSUSH5  SSUSH5 Investigate specific events and key ide...  ...                                               None\n",
              "\n",
              "[5 rows x 7 columns]"
            ]
          },
          "metadata": {
            "tags": []
          },
          "execution_count": 18
        }
      ]
    },
    {
      "cell_type": "code",
      "metadata": {
        "id": "99DuxJM0GUlQ",
        "colab_type": "code",
        "outputId": "86517bf6-f77c-41c6-959a-5191b27b3b81",
        "colab": {
          "base_uri": "https://localhost:8080/",
          "height": 652
        }
      },
      "source": [
        "df = df.T\n",
        "df.head()"
      ],
      "execution_count": 19,
      "outputs": [
        {
          "output_type": "execute_result",
          "data": {
            "text/html": [
              "<div>\n",
              "<style scoped>\n",
              "    .dataframe tbody tr th:only-of-type {\n",
              "        vertical-align: middle;\n",
              "    }\n",
              "\n",
              "    .dataframe tbody tr th {\n",
              "        vertical-align: top;\n",
              "    }\n",
              "\n",
              "    .dataframe thead th {\n",
              "        text-align: right;\n",
              "    }\n",
              "</style>\n",
              "<table border=\"1\" class=\"dataframe\">\n",
              "  <thead>\n",
              "    <tr style=\"text-align: right;\">\n",
              "      <th></th>\n",
              "      <th>SSUSH1</th>\n",
              "      <th>SSUSH2</th>\n",
              "      <th>SSUSH3</th>\n",
              "      <th>SSUSH4</th>\n",
              "      <th>SSUSH5</th>\n",
              "      <th>SSUSH6</th>\n",
              "      <th>SSUSH7</th>\n",
              "      <th>SSUSH8</th>\n",
              "      <th>SSUSH9</th>\n",
              "      <th>SSUSH10</th>\n",
              "      <th>SSUSH11</th>\n",
              "      <th>SSUSH12</th>\n",
              "      <th>SSUSH13</th>\n",
              "      <th>SSUSH14</th>\n",
              "      <th>SSUSH15</th>\n",
              "      <th>SSUSH16</th>\n",
              "      <th>SSUSH17</th>\n",
              "      <th>SSUSH18</th>\n",
              "      <th>SSUSH19</th>\n",
              "      <th>SSUSH20</th>\n",
              "      <th>SSUSH21</th>\n",
              "      <th>SSUSH22</th>\n",
              "      <th>SSUSH23</th>\n",
              "    </tr>\n",
              "  </thead>\n",
              "  <tbody>\n",
              "    <tr>\n",
              "      <th>main</th>\n",
              "      <td>SSUSH1 Compare and contrast the development of...</td>\n",
              "      <td>SSUSH2 Describe the early English colonial soc...</td>\n",
              "      <td>SSUSH3 Analyze the causes of the American Revo...</td>\n",
              "      <td>SSUSH4 Analyze the ideological, military, soci...</td>\n",
              "      <td>SSUSH5 Investigate specific events and key ide...</td>\n",
              "      <td>SSUSH6 Analyze the challenges faced by the fir...</td>\n",
              "      <td>SSUSH7 Investigate political, economic, and so...</td>\n",
              "      <td>SSUSH8 Explore the relationship between slaver...</td>\n",
              "      <td>SSUSH9 Evaluate key events, issues, and indivi...</td>\n",
              "      <td>SSUSH10 Identify legal, political, and social ...</td>\n",
              "      <td>SSUSH11 Examine connections between the rise o...</td>\n",
              "      <td>SSUSH12 Evaluate how westward expansion impact...</td>\n",
              "      <td>SSUSH13 Evaluate efforts to reform American so...</td>\n",
              "      <td>SSUSH14 Explain America’s evolving relationshi...</td>\n",
              "      <td>SSUSH15 Analyze the origins and impact of U.S....</td>\n",
              "      <td>SSUSH16 Investigate how political, economic, a...</td>\n",
              "      <td>SSUSH17 Analyze the causes and consequences of...</td>\n",
              "      <td>SSUSH18 Evaluate Franklin D. Roosevelt’s New D...</td>\n",
              "      <td>SSUSH19 Examine the origins, major development...</td>\n",
              "      <td>SSUSH20 Analyze U.S. international and domesti...</td>\n",
              "      <td>SSUSH21 Analyze U.S. international and domesti...</td>\n",
              "      <td>SSUSH22 Analyze U.S. international and domesti...</td>\n",
              "      <td>SSUSH23 Assess the political, economic, and te...</td>\n",
              "    </tr>\n",
              "    <tr>\n",
              "      <th>a</th>\n",
              "      <td>SSUSH1.a Investigate how mercantilism and tran...</td>\n",
              "      <td>SSUSH2.a Describe European cultural diversity ...</td>\n",
              "      <td>SSUSH3.a Explain how the French and Indian War...</td>\n",
              "      <td>SSUSH4.a Investigate the intellectual sources,...</td>\n",
              "      <td>SSUSH5.a Examine the strengths of the Articles...</td>\n",
              "      <td>SSUSH6.a Examine the presidency of Washington,...</td>\n",
              "      <td>SSUSH7.a Explain Jacksonian Democracy, includi...</td>\n",
              "      <td>SSUSH8.a Explain the impact of the Missouri Co...</td>\n",
              "      <td>SSUSH9.a Explain the importance of the growing...</td>\n",
              "      <td>SSUSH10.a Compare and contrast Presidential Re...</td>\n",
              "      <td>SSUSH11.a Explain the effects of railroads on ...</td>\n",
              "      <td>SSUSH12.a Examine the construction of the tran...</td>\n",
              "      <td>SSUSH13.a Describe the influence of muckrakers...</td>\n",
              "      <td>SSUSH14.a Describe how the Spanish-American Wa...</td>\n",
              "      <td>SSUSH15.a Describe the movement from U.S. neut...</td>\n",
              "      <td>SSUSH16.a Explain how fears of rising communis...</td>\n",
              "      <td>SSUSH17.a Describe the causes, including overp...</td>\n",
              "      <td>SSUSH18.a Describe Roosevelt’s attempts at rel...</td>\n",
              "      <td>SSUSH19.a Investigate the origins of U.S. invo...</td>\n",
              "      <td>SSUSH20.a Analyze the international policies a...</td>\n",
              "      <td>SSUSH21.a Analyze the international policies a...</td>\n",
              "      <td>SSUSH22.a Analyze the international policies a...</td>\n",
              "      <td>SSUSH23.a Analyze challenges faced by recent p...</td>\n",
              "    </tr>\n",
              "    <tr>\n",
              "      <th>b</th>\n",
              "      <td>SSUSH1.b Explain the development of the Southe...</td>\n",
              "      <td>SSUSH2.b Describe the Middle Passage, the grow...</td>\n",
              "      <td>SSUSH3.b Explain colonial response to the Proc...</td>\n",
              "      <td>SSUSH4.b Explain the reason for and significan...</td>\n",
              "      <td>SSUSH5.b Evaluate how weaknesses in the Articl...</td>\n",
              "      <td>SSUSH6.b Explain the presidency of John Adams ...</td>\n",
              "      <td>SSUSH7.b Explain how the North, South, and Wes...</td>\n",
              "      <td>SSUSH8.b Examine James K. Polk’s presidency in...</td>\n",
              "      <td>SSUSH9.b Discuss Lincoln’s purpose in using em...</td>\n",
              "      <td>SSUSH10.b Investigate the efforts of the Burea...</td>\n",
              "      <td>SSUSH11.b Examine the significance of John D. ...</td>\n",
              "      <td>SSUSH12.b Evaluate how the growth of the weste...</td>\n",
              "      <td>SSUSH13.b Examine and explain the roles of wom...</td>\n",
              "      <td>SSUSH14.b Examine U.S. involvement in Latin Am...</td>\n",
              "      <td>SSUSH15.b Explain the domestic impact of World...</td>\n",
              "      <td>SSUSH16.b Describe the effects of the Eighteen...</td>\n",
              "      <td>SSUSH17.b Explain factors (include over-farmin...</td>\n",
              "      <td>SSUSH18.b Explain the passage of the Social Se...</td>\n",
              "      <td>SSUSH19.b Examine the Pacific Theater includin...</td>\n",
              "      <td>SSUSH20.b Connect major domestic issues to the...</td>\n",
              "      <td>SSUSH21.b Connect major domestic issues to the...</td>\n",
              "      <td>SSUSH22.b Connect major domestic issues to the...</td>\n",
              "      <td>SSUSH23.b Examine economic policies of recent ...</td>\n",
              "    </tr>\n",
              "    <tr>\n",
              "      <th>c</th>\n",
              "      <td>SSUSH1.c Explain the development of the New En...</td>\n",
              "      <td>SSUSH2.c Describe different methods of colonia...</td>\n",
              "      <td>SSUSH3.c Explain the importance of Thomas Pain...</td>\n",
              "      <td>SSUSH4.c Analyze George Washington as a milita...</td>\n",
              "      <td>SSUSH5.c Explain the key features of the Const...</td>\n",
              "      <td>SSUSH6.c Explore Jefferson’s expansion of pres...</td>\n",
              "      <td>SSUSH7.c Explain the influence of the Second G...</td>\n",
              "      <td>SSUSH8.c Analyze the impact of the Mexican War...</td>\n",
              "      <td>SSUSH9.c Examine the influences of Ulysses S. ...</td>\n",
              "      <td>SSUSH10.c Describe the significance of the Thi...</td>\n",
              "      <td>SSUSH11.c Examine the influence of key inventi...</td>\n",
              "      <td>SSUSH12.c Explain the Plains Indians’ resistan...</td>\n",
              "      <td>SSUSH13.c Connect the decision of Plessy v. Fe...</td>\n",
              "      <td>None</td>\n",
              "      <td>SSUSH15.c Explain Wilson’s Fourteen Points and...</td>\n",
              "      <td>SSUSH16.c Examine how mass production and adve...</td>\n",
              "      <td>SSUSH17.c Explain the social and political imp...</td>\n",
              "      <td>SSUSH18.c Analyze political challenges to Roos...</td>\n",
              "      <td>SSUSH19.c Examine the European Theater includi...</td>\n",
              "      <td>SSUSH20.c Examine the influence of Sputnik on ...</td>\n",
              "      <td>SSUSH21.c Describe the impact of television on...</td>\n",
              "      <td>None</td>\n",
              "      <td>SSUSH23.c Examine the influence of technologic...</td>\n",
              "    </tr>\n",
              "    <tr>\n",
              "      <th>d</th>\n",
              "      <td>SSUSH1.d Explain the development of the Mid-At...</td>\n",
              "      <td>SSUSH2.d Explain the role of the Great Awakeni...</td>\n",
              "      <td>None</td>\n",
              "      <td>SSUSH4.d Investigate the role of geography at ...</td>\n",
              "      <td>SSUSH5.d Evaluate the major arguments of the A...</td>\n",
              "      <td>SSUSH6.d Explain James Madison’s presidency in...</td>\n",
              "      <td>SSUSH7.d Explain how the significance of slave...</td>\n",
              "      <td>SSUSH8.d Explain how the Compromise of 1850 ar...</td>\n",
              "      <td>SSUSH9.d Explain the importance of Fort Sumter...</td>\n",
              "      <td>SSUSH10.d Explain the Black Codes, the Ku Klux...</td>\n",
              "      <td>SSUSH11.d Describe Ellis and Angel Islands, th...</td>\n",
              "      <td>None</td>\n",
              "      <td>SSUSH13.d Describe Progressive legislative act...</td>\n",
              "      <td>None</td>\n",
              "      <td>None</td>\n",
              "      <td>SSUSH16.d Describe the impact of radio and mov...</td>\n",
              "      <td>None</td>\n",
              "      <td>SSUSH18.d Examine how Eleanor Roosevelt change...</td>\n",
              "      <td>SSUSH19.d Investigate the domestic impact of t...</td>\n",
              "      <td>None</td>\n",
              "      <td>SSUSH21.d Investigate the growth, influence, a...</td>\n",
              "      <td>None</td>\n",
              "      <td>SSUSH23.d Examine the historic nature of the p...</td>\n",
              "    </tr>\n",
              "  </tbody>\n",
              "</table>\n",
              "</div>"
            ],
            "text/plain": [
              "                                                 SSUSH1  ...                                            SSUSH23\n",
              "main  SSUSH1 Compare and contrast the development of...  ...  SSUSH23 Assess the political, economic, and te...\n",
              "a     SSUSH1.a Investigate how mercantilism and tran...  ...  SSUSH23.a Analyze challenges faced by recent p...\n",
              "b     SSUSH1.b Explain the development of the Southe...  ...  SSUSH23.b Examine economic policies of recent ...\n",
              "c     SSUSH1.c Explain the development of the New En...  ...  SSUSH23.c Examine the influence of technologic...\n",
              "d     SSUSH1.d Explain the development of the Mid-At...  ...  SSUSH23.d Examine the historic nature of the p...\n",
              "\n",
              "[5 rows x 23 columns]"
            ]
          },
          "metadata": {
            "tags": []
          },
          "execution_count": 19
        }
      ]
    },
    {
      "cell_type": "code",
      "metadata": {
        "id": "7xfLXWmpGe6W",
        "colab_type": "code",
        "colab": {}
      },
      "source": [
        "# Run this just once\n",
        "# df.to_csv('ushistory.csv')"
      ],
      "execution_count": 0,
      "outputs": []
    }
  ]
}
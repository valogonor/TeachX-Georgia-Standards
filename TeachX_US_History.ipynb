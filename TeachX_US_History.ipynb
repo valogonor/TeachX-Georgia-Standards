{
  "nbformat": 4,
  "nbformat_minor": 0,
  "metadata": {
    "colab": {
      "name": "TeachX US History.ipynb",
      "provenance": [],
      "mount_file_id": "1POvsxcoro0aHsUF7YdWMzUcsb0u7VGNF",
      "authorship_tag": "ABX9TyMuOqeRSpRzYiBiMOYrST1h",
      "include_colab_link": true
    },
    "kernelspec": {
      "name": "python3",
      "display_name": "Python 3"
    }
  },
  "cells": [
    {
      "cell_type": "markdown",
      "metadata": {
        "id": "view-in-github",
        "colab_type": "text"
      },
      "source": [
        "<a href=\"https://colab.research.google.com/github/valogonor/TeachX-Georgia-Standards/blob/master/TeachX_US_History.ipynb\" target=\"_parent\"><img src=\"https://colab.research.google.com/assets/colab-badge.svg\" alt=\"Open In Colab\"/></a>"
      ]
    },
    {
      "cell_type": "code",
      "metadata": {
        "id": "I2KldHQF3tFQ",
        "colab_type": "code",
        "colab": {
          "base_uri": "https://localhost:8080/",
          "height": 151
        },
        "outputId": "ec77475e-3281-457c-c6ee-f479b8169cc7"
      },
      "source": [
        "! ls '/content/drive/My Drive/Colab Notebooks/TeachX Georgia Standards'"
      ],
      "execution_count": 1,
      "outputs": [
        {
          "output_type": "stream",
          "text": [
            " Social-Studies-United-States-History-Georgia-Standards.txt\n",
            "'TeachX Georgia Biology Standards.ipynb'\n",
            "'TeachX Georgia Chemistry Standards.ipynb'\n",
            "'TeachX Georgia Coordinate Algebra.ipynb'\n",
            "'TeachX Georgia Physical Science Standards.ipynb'\n",
            "'TeachX US History.ipynb'\n",
            " ushistory.csv\n",
            " util.ipynb\n"
          ],
          "name": "stdout"
        }
      ]
    },
    {
      "cell_type": "code",
      "metadata": {
        "id": "pNaQYe5Vt-UL",
        "colab_type": "code",
        "outputId": "014e6b3e-5648-4c00-dd49-81b52f093cdf",
        "colab": {
          "base_uri": "https://localhost:8080/",
          "height": 34
        }
      },
      "source": [
        "%cd /content/drive/My Drive/Colab Notebooks/TeachX Georgia Standards"
      ],
      "execution_count": 2,
      "outputs": [
        {
          "output_type": "stream",
          "text": [
            "/content/drive/My Drive/Colab Notebooks/TeachX Georgia Standards\n"
          ],
          "name": "stdout"
        }
      ]
    },
    {
      "cell_type": "code",
      "metadata": {
        "id": "w4Wr5PMH4fKq",
        "colab_type": "code",
        "colab": {
          "base_uri": "https://localhost:8080/",
          "height": 34
        },
        "outputId": "41c29fdd-892b-4ce1-dbb6-cfb1e9de827b"
      },
      "source": [
        "! pwd"
      ],
      "execution_count": 3,
      "outputs": [
        {
          "output_type": "stream",
          "text": [
            "/content/drive/My Drive/Colab Notebooks/TeachX Georgia Standards\n"
          ],
          "name": "stdout"
        }
      ]
    },
    {
      "cell_type": "code",
      "metadata": {
        "id": "hAUlrmATzTC1",
        "colab_type": "code",
        "colab": {}
      },
      "source": [
        "f = 'Social-Studies-United-States-History-Georgia-Standards.txt'"
      ],
      "execution_count": 0,
      "outputs": []
    },
    {
      "cell_type": "code",
      "metadata": {
        "id": "FyoTSgF1DmHN",
        "colab_type": "code",
        "outputId": "457120aa-a658-4c4f-bfb2-9e8b48038f4f",
        "colab": {
          "base_uri": "https://localhost:8080/",
          "height": 54
        }
      },
      "source": [
        "with open(f) as text:\n",
        "    string = text.read()\n",
        "string[-1000:]"
      ],
      "execution_count": 5,
      "outputs": [
        {
          "output_type": "execute_result",
          "data": {
            "text/plain": [
              "'tion) or solve a problem; narrow or broaden the inquiry when appropriate; synthesize multiple sources on the subject,\\ndemonstrating understanding of the subject under investigation.\\nL11-12WHST8: Gather relevant information from multiple authoritative print and digital sources, using advanced searches\\neffectively; assess the strengths and limitations of each source in terms of the specific task, purpose, and audience; integrate\\ninformation into the text selectively to maintain the flow of ideas, avoiding plagiarism and overreliance on any one source and\\nfollowing a standard format for citation.\\nL11-12WHST9: Draw evidence from informational texts to support analysis, reflection, and research.\\n\\uf0d8 Range of Writing\\nL11-12WHST10: Write routinely over extended time frames (time for reflection and revision) and shorter time frames (a\\nsingle sitting or a day or two) for a range of discipline-specific tasks, purposes, and audiences.\\n\\nGeorgia Department of Education\\nJune 9, 2016 \\uf0b7 Page 13 of 13\\n\\n\\x0c'"
            ]
          },
          "metadata": {
            "tags": []
          },
          "execution_count": 5
        }
      ]
    },
    {
      "cell_type": "code",
      "metadata": {
        "id": "kBJc5aVpEFn5",
        "colab_type": "code",
        "outputId": "ad18ab37-0023-4c66-ea2d-6c288951da8c",
        "colab": {
          "base_uri": "https://localhost:8080/",
          "height": 34
        }
      },
      "source": [
        "idx = string.index('7 of 13')\n",
        "idx"
      ],
      "execution_count": 6,
      "outputs": [
        {
          "output_type": "execute_result",
          "data": {
            "text/plain": [
              "16367"
            ]
          },
          "metadata": {
            "tags": []
          },
          "execution_count": 6
        }
      ]
    },
    {
      "cell_type": "code",
      "metadata": {
        "id": "6egs6f3qHDwH",
        "colab_type": "code",
        "outputId": "0a296919-0739-44ae-e424-b284f0c002f4",
        "colab": {
          "base_uri": "https://localhost:8080/",
          "height": 34
        }
      },
      "source": [
        "string[16367]"
      ],
      "execution_count": 7,
      "outputs": [
        {
          "output_type": "execute_result",
          "data": {
            "text/plain": [
              "'7'"
            ]
          },
          "metadata": {
            "tags": []
          },
          "execution_count": 7
        }
      ]
    },
    {
      "cell_type": "code",
      "metadata": {
        "id": "_8b_lS8RHLAI",
        "colab_type": "code",
        "outputId": "fe278c7a-7654-4973-e966-94205dfde5bd",
        "colab": {
          "base_uri": "https://localhost:8080/",
          "height": 34
        }
      },
      "source": [
        "string[16373]"
      ],
      "execution_count": 8,
      "outputs": [
        {
          "output_type": "execute_result",
          "data": {
            "text/plain": [
              "'3'"
            ]
          },
          "metadata": {
            "tags": []
          },
          "execution_count": 8
        }
      ]
    },
    {
      "cell_type": "code",
      "metadata": {
        "id": "fnnzg18THhAY",
        "colab_type": "code",
        "outputId": "52c1903b-2864-4873-ad46-5f7a1ee6d239",
        "colab": {
          "base_uri": "https://localhost:8080/",
          "height": 54
        }
      },
      "source": [
        "string1 = string[:16374]\n",
        "string1[-1000:]"
      ],
      "execution_count": 9,
      "outputs": [
        {
          "output_type": "execute_result",
          "data": {
            "text/plain": [
              "'avid Accords, and Carter’s\\nresponse to the 1979 Iranian Revolution and hostage crisis.\\nb. Connect major domestic issues to their social effects including the creation of the\\nEnvironmental Protection Agency, the emergence of the National Organization for\\nWomen, Nixon’s resignation due to the Watergate scandal, and his pardon by Ford.\\nSSUSH23 Assess the political, economic, and technological changes during the Reagan,\\nGeorge H.W. Bush, Clinton, George W. Bush, and Obama administrations.\\na. Analyze challenges faced by recent presidents including the collapse of the Soviet Union,\\nClinton’s impeachment, the attacks of September 11, 2001, and the war against terrorism.\\nb. Examine economic policies of recent presidents including Reaganomics.\\nc. Examine the influence of technological changes on society including the personal\\ncomputer, the Internet, and social media.\\nd. Examine the historic nature of the presidential election of 2008.\\n\\nGeorgia Department of Education\\nJune 9, 2016 \\uf0b7 Page 7 of 13'"
            ]
          },
          "metadata": {
            "tags": []
          },
          "execution_count": 9
        }
      ]
    },
    {
      "cell_type": "code",
      "metadata": {
        "id": "gFRz5CtOHsSO",
        "colab_type": "code",
        "outputId": "5323cdfa-818c-471c-a94c-1c89a9e208f7",
        "colab": {
          "base_uri": "https://localhost:8080/",
          "height": 34
        }
      },
      "source": [
        "string[16377]"
      ],
      "execution_count": 10,
      "outputs": [
        {
          "output_type": "execute_result",
          "data": {
            "text/plain": [
              "'S'"
            ]
          },
          "metadata": {
            "tags": []
          },
          "execution_count": 10
        }
      ]
    },
    {
      "cell_type": "code",
      "metadata": {
        "id": "vc8PAzd15KkF",
        "colab_type": "code",
        "outputId": "48eb08c7-d604-4935-c771-b9cdccbfb045",
        "colab": {
          "base_uri": "https://localhost:8080/",
          "height": 54
        }
      },
      "source": [
        "text = string1.split('\\nSSUSH')\n",
        "text = text[1:]\n",
        "text[-1]"
      ],
      "execution_count": 11,
      "outputs": [
        {
          "output_type": "execute_result",
          "data": {
            "text/plain": [
              "'23 Assess the political, economic, and technological changes during the Reagan,\\nGeorge H.W. Bush, Clinton, George W. Bush, and Obama administrations.\\na. Analyze challenges faced by recent presidents including the collapse of the Soviet Union,\\nClinton’s impeachment, the attacks of September 11, 2001, and the war against terrorism.\\nb. Examine economic policies of recent presidents including Reaganomics.\\nc. Examine the influence of technological changes on society including the personal\\ncomputer, the Internet, and social media.\\nd. Examine the historic nature of the presidential election of 2008.\\n\\nGeorgia Department of Education\\nJune 9, 2016 \\uf0b7 Page 7 of 13'"
            ]
          },
          "metadata": {
            "tags": []
          },
          "execution_count": 11
        }
      ]
    },
    {
      "cell_type": "code",
      "metadata": {
        "id": "fXvQU5jjIPCM",
        "colab_type": "code",
        "outputId": "07c7145e-a518-49e4-e4fc-443de320c0fb",
        "colab": {
          "base_uri": "https://localhost:8080/",
          "height": 121
        }
      },
      "source": [
        "data = []\n",
        "for j in range(len(text)):\n",
        "    sb = text[j].split('\\n')\n",
        "    if '' in sb:\n",
        "        idx = sb.index('')\n",
        "        sb = sb[:idx] + sb[idx+6:]\n",
        "    res = []\n",
        "    n = len(sb)\n",
        "    i = 1\n",
        "    res.append(sb[0])\n",
        "    while i < n:\n",
        "        if sb[i][1] != '.':\n",
        "            res[-1] += ' ' + sb[i]\n",
        "        elif sb[i][2] != ' ':\n",
        "            res[-1] += ' ' + sb[i]\n",
        "        else:\n",
        "            res.append(sb[i])\n",
        "        i += 1\n",
        "    data.append(res)\n",
        "data[-1]"
      ],
      "execution_count": 12,
      "outputs": [
        {
          "output_type": "execute_result",
          "data": {
            "text/plain": [
              "['23 Assess the political, economic, and technological changes during the Reagan, George H.W. Bush, Clinton, George W. Bush, and Obama administrations.',\n",
              " 'a. Analyze challenges faced by recent presidents including the collapse of the Soviet Union, Clinton’s impeachment, the attacks of September 11, 2001, and the war against terrorism.',\n",
              " 'b. Examine economic policies of recent presidents including Reaganomics.',\n",
              " 'c. Examine the influence of technological changes on society including the personal computer, the Internet, and social media.',\n",
              " 'd. Examine the historic nature of the presidential election of 2008.']"
            ]
          },
          "metadata": {
            "tags": []
          },
          "execution_count": 12
        }
      ]
    },
    {
      "cell_type": "code",
      "metadata": {
        "id": "OBUKWT-O9UND",
        "colab_type": "code",
        "colab": {}
      },
      "source": [
        "def add_code(data, code):\n",
        "    for i in range(len(data)):\n",
        "        n = len(data[i])\n",
        "        idx = data[i][0].index(' ')\n",
        "        num = data[i][0][:idx]\n",
        "        for j in range(n):\n",
        "            line = data[i][j]\n",
        "            if line[0].isnumeric():\n",
        "                line = line.replace(line[:idx], code + num)\n",
        "                data[i][j] = line\n",
        "            else:\n",
        "                line = line.replace(line[:2], code + num + '.' + line[0])\n",
        "                data[i][j] = line\n",
        "    return data"
      ],
      "execution_count": 0,
      "outputs": []
    },
    {
      "cell_type": "code",
      "metadata": {
        "id": "nbCLkN_-93P5",
        "colab_type": "code",
        "colab": {
          "base_uri": "https://localhost:8080/",
          "height": 121
        },
        "outputId": "04f0077e-147f-43b1-b1d4-1aa123ab06a6"
      },
      "source": [
        "data = add_code(data, 'SSUSH')\n",
        "data[-1]"
      ],
      "execution_count": 14,
      "outputs": [
        {
          "output_type": "execute_result",
          "data": {
            "text/plain": [
              "['SSUSH23 Assess the political, economic, and technological changes during the Reagan, George H.W. Bush, Clinton, George W. Bush, and Obama administrations.',\n",
              " 'SSUSH23.a Analyze challenges faced by recent presidents including the collapse of the Soviet Union, Clinton’s impeachment, the attacks of September 11, 2001, and the war against terrorism.',\n",
              " 'SSUSH23.b Examine economic policies of recent presidents including Reaganomics.',\n",
              " 'SSUSH23.c Examine the influence of technological changes on society including the personal computer, the Internet, and social media.',\n",
              " 'SSUSH23.d Examine the historic nature of the presidential election of 2008.']"
            ]
          },
          "metadata": {
            "tags": []
          },
          "execution_count": 14
        }
      ]
    },
    {
      "cell_type": "code",
      "metadata": {
        "id": "0gqwgyjf-Cr_",
        "colab_type": "code",
        "colab": {
          "base_uri": "https://localhost:8080/",
          "height": 1000
        },
        "outputId": "03bf212d-5649-4647-d8f0-49000f04060b"
      },
      "source": [
        "import pandas as pd\n",
        "# columns = ['main', 'a', 'b', 'c', 'd', 'e']\n",
        "# index = ['SB1', 'SB2', 'SB3', 'SB4', 'SB5', 'SB6']\n",
        "df = pd.DataFrame(data)\n",
        "df"
      ],
      "execution_count": 15,
      "outputs": [
        {
          "output_type": "execute_result",
          "data": {
            "text/html": [
              "<div>\n",
              "<style scoped>\n",
              "    .dataframe tbody tr th:only-of-type {\n",
              "        vertical-align: middle;\n",
              "    }\n",
              "\n",
              "    .dataframe tbody tr th {\n",
              "        vertical-align: top;\n",
              "    }\n",
              "\n",
              "    .dataframe thead th {\n",
              "        text-align: right;\n",
              "    }\n",
              "</style>\n",
              "<table border=\"1\" class=\"dataframe\">\n",
              "  <thead>\n",
              "    <tr style=\"text-align: right;\">\n",
              "      <th></th>\n",
              "      <th>0</th>\n",
              "      <th>1</th>\n",
              "      <th>2</th>\n",
              "      <th>3</th>\n",
              "      <th>4</th>\n",
              "      <th>5</th>\n",
              "      <th>6</th>\n",
              "    </tr>\n",
              "  </thead>\n",
              "  <tbody>\n",
              "    <tr>\n",
              "      <th>0</th>\n",
              "      <td>SSUSH1 Compare and contrast the development of...</td>\n",
              "      <td>SSUSH1.a Investigate how mercantilism and tran...</td>\n",
              "      <td>SSUSH1.b Explain the development of the Southe...</td>\n",
              "      <td>SSUSH1.c Explain the development of the New En...</td>\n",
              "      <td>SSUSH1.d Explain the development of the Mid-At...</td>\n",
              "      <td>None</td>\n",
              "      <td>None</td>\n",
              "    </tr>\n",
              "    <tr>\n",
              "      <th>1</th>\n",
              "      <td>SSUSH2 Describe the early English colonial soc...</td>\n",
              "      <td>SSUSH2.a Describe European cultural diversity ...</td>\n",
              "      <td>SSUSH2.b Describe the Middle Passage, the grow...</td>\n",
              "      <td>SSUSH2.c Describe different methods of colonia...</td>\n",
              "      <td>SSUSH2.d Explain the role of the Great Awakeni...</td>\n",
              "      <td>None</td>\n",
              "      <td>None</td>\n",
              "    </tr>\n",
              "    <tr>\n",
              "      <th>2</th>\n",
              "      <td>SSUSH3 Analyze the causes of the American Revo...</td>\n",
              "      <td>SSUSH3.a Explain how the French and Indian War...</td>\n",
              "      <td>SSUSH3.b Explain colonial response to the Proc...</td>\n",
              "      <td>SSUSH3.c Explain the importance of Thomas Pain...</td>\n",
              "      <td>None</td>\n",
              "      <td>None</td>\n",
              "      <td>None</td>\n",
              "    </tr>\n",
              "    <tr>\n",
              "      <th>3</th>\n",
              "      <td>SSUSH4 Analyze the ideological, military, soci...</td>\n",
              "      <td>SSUSH4.a Investigate the intellectual sources,...</td>\n",
              "      <td>SSUSH4.b Explain the reason for and significan...</td>\n",
              "      <td>SSUSH4.c Analyze George Washington as a milita...</td>\n",
              "      <td>SSUSH4.d Investigate the role of geography at ...</td>\n",
              "      <td>SSUSH4.e Examine the roles of women, American ...</td>\n",
              "      <td>SSUSH4.f Explain the significance of the Treat...</td>\n",
              "    </tr>\n",
              "    <tr>\n",
              "      <th>4</th>\n",
              "      <td>SSUSH5 Investigate specific events and key ide...</td>\n",
              "      <td>SSUSH5.a Examine the strengths of the Articles...</td>\n",
              "      <td>SSUSH5.b Evaluate how weaknesses in the Articl...</td>\n",
              "      <td>SSUSH5.c Explain the key features of the Const...</td>\n",
              "      <td>SSUSH5.d Evaluate the major arguments of the A...</td>\n",
              "      <td>SSUSH5.e Explain how objections to the ratific...</td>\n",
              "      <td>None</td>\n",
              "    </tr>\n",
              "    <tr>\n",
              "      <th>5</th>\n",
              "      <td>SSUSH6 Analyze the challenges faced by the fir...</td>\n",
              "      <td>SSUSH6.a Examine the presidency of Washington,...</td>\n",
              "      <td>SSUSH6.b Explain the presidency of John Adams ...</td>\n",
              "      <td>SSUSH6.c Explore Jefferson’s expansion of pres...</td>\n",
              "      <td>SSUSH6.d Explain James Madison’s presidency in...</td>\n",
              "      <td>SSUSH6.e Explain James Monroe’s presidency in ...</td>\n",
              "      <td>None</td>\n",
              "    </tr>\n",
              "    <tr>\n",
              "      <th>6</th>\n",
              "      <td>SSUSH7 Investigate political, economic, and so...</td>\n",
              "      <td>SSUSH7.a Explain Jacksonian Democracy, includi...</td>\n",
              "      <td>SSUSH7.b Explain how the North, South, and Wes...</td>\n",
              "      <td>SSUSH7.c Explain the influence of the Second G...</td>\n",
              "      <td>SSUSH7.d Explain how the significance of slave...</td>\n",
              "      <td>None</td>\n",
              "      <td>None</td>\n",
              "    </tr>\n",
              "    <tr>\n",
              "      <th>7</th>\n",
              "      <td>SSUSH8 Explore the relationship between slaver...</td>\n",
              "      <td>SSUSH8.a Explain the impact of the Missouri Co...</td>\n",
              "      <td>SSUSH8.b Examine James K. Polk’s presidency in...</td>\n",
              "      <td>SSUSH8.c Analyze the impact of the Mexican War...</td>\n",
              "      <td>SSUSH8.d Explain how the Compromise of 1850 ar...</td>\n",
              "      <td>SSUSH8.e Evaluate the Kansas-Nebraska Act, the...</td>\n",
              "      <td>None</td>\n",
              "    </tr>\n",
              "    <tr>\n",
              "      <th>8</th>\n",
              "      <td>SSUSH9 Evaluate key events, issues, and indivi...</td>\n",
              "      <td>SSUSH9.a Explain the importance of the growing...</td>\n",
              "      <td>SSUSH9.b Discuss Lincoln’s purpose in using em...</td>\n",
              "      <td>SSUSH9.c Examine the influences of Ulysses S. ...</td>\n",
              "      <td>SSUSH9.d Explain the importance of Fort Sumter...</td>\n",
              "      <td>None</td>\n",
              "      <td>None</td>\n",
              "    </tr>\n",
              "    <tr>\n",
              "      <th>9</th>\n",
              "      <td>SSUSH10 Identify legal, political, and social ...</td>\n",
              "      <td>SSUSH10.a Compare and contrast Presidential Re...</td>\n",
              "      <td>SSUSH10.b Investigate the efforts of the Burea...</td>\n",
              "      <td>SSUSH10.c Describe the significance of the Thi...</td>\n",
              "      <td>SSUSH10.d Explain the Black Codes, the Ku Klux...</td>\n",
              "      <td>SSUSH10.e Analyze how the Presidential Electio...</td>\n",
              "      <td>None</td>\n",
              "    </tr>\n",
              "    <tr>\n",
              "      <th>10</th>\n",
              "      <td>SSUSH11 Examine connections between the rise o...</td>\n",
              "      <td>SSUSH11.a Explain the effects of railroads on ...</td>\n",
              "      <td>SSUSH11.b Examine the significance of John D. ...</td>\n",
              "      <td>SSUSH11.c Examine the influence of key inventi...</td>\n",
              "      <td>SSUSH11.d Describe Ellis and Angel Islands, th...</td>\n",
              "      <td>SSUSH11.e Discuss the origins, growth, influen...</td>\n",
              "      <td>None</td>\n",
              "    </tr>\n",
              "    <tr>\n",
              "      <th>11</th>\n",
              "      <td>SSUSH12 Evaluate how westward expansion impact...</td>\n",
              "      <td>SSUSH12.a Examine the construction of the tran...</td>\n",
              "      <td>SSUSH12.b Evaluate how the growth of the weste...</td>\n",
              "      <td>SSUSH12.c Explain the Plains Indians’ resistan...</td>\n",
              "      <td>None</td>\n",
              "      <td>None</td>\n",
              "      <td>None</td>\n",
              "    </tr>\n",
              "    <tr>\n",
              "      <th>12</th>\n",
              "      <td>SSUSH13 Evaluate efforts to reform American so...</td>\n",
              "      <td>SSUSH13.a Describe the influence of muckrakers...</td>\n",
              "      <td>SSUSH13.b Examine and explain the roles of wom...</td>\n",
              "      <td>SSUSH13.c Connect the decision of Plessy v. Fe...</td>\n",
              "      <td>SSUSH13.d Describe Progressive legislative act...</td>\n",
              "      <td>None</td>\n",
              "      <td>None</td>\n",
              "    </tr>\n",
              "    <tr>\n",
              "      <th>13</th>\n",
              "      <td>SSUSH14 Explain America’s evolving relationshi...</td>\n",
              "      <td>SSUSH14.a Describe how the Spanish-American Wa...</td>\n",
              "      <td>SSUSH14.b Examine U.S. involvement in Latin Am...</td>\n",
              "      <td>None</td>\n",
              "      <td>None</td>\n",
              "      <td>None</td>\n",
              "      <td>None</td>\n",
              "    </tr>\n",
              "    <tr>\n",
              "      <th>14</th>\n",
              "      <td>SSUSH15 Analyze the origins and impact of U.S....</td>\n",
              "      <td>SSUSH15.a Describe the movement from U.S. neut...</td>\n",
              "      <td>SSUSH15.b Explain the domestic impact of World...</td>\n",
              "      <td>SSUSH15.c Explain Wilson’s Fourteen Points and...</td>\n",
              "      <td>None</td>\n",
              "      <td>None</td>\n",
              "      <td>None</td>\n",
              "    </tr>\n",
              "    <tr>\n",
              "      <th>15</th>\n",
              "      <td>SSUSH16 Investigate how political, economic, a...</td>\n",
              "      <td>SSUSH16.a Explain how fears of rising communis...</td>\n",
              "      <td>SSUSH16.b Describe the effects of the Eighteen...</td>\n",
              "      <td>SSUSH16.c Examine how mass production and adve...</td>\n",
              "      <td>SSUSH16.d Describe the impact of radio and mov...</td>\n",
              "      <td>SSUSH16.e Describe the emergence of modern for...</td>\n",
              "      <td>None</td>\n",
              "    </tr>\n",
              "    <tr>\n",
              "      <th>16</th>\n",
              "      <td>SSUSH17 Analyze the causes and consequences of...</td>\n",
              "      <td>SSUSH17.a Describe the causes, including overp...</td>\n",
              "      <td>SSUSH17.b Explain factors (include over-farmin...</td>\n",
              "      <td>SSUSH17.c Explain the social and political imp...</td>\n",
              "      <td>None</td>\n",
              "      <td>None</td>\n",
              "      <td>None</td>\n",
              "    </tr>\n",
              "    <tr>\n",
              "      <th>17</th>\n",
              "      <td>SSUSH18 Evaluate Franklin D. Roosevelt’s New D...</td>\n",
              "      <td>SSUSH18.a Describe Roosevelt’s attempts at rel...</td>\n",
              "      <td>SSUSH18.b Explain the passage of the Social Se...</td>\n",
              "      <td>SSUSH18.c Analyze political challenges to Roos...</td>\n",
              "      <td>SSUSH18.d Examine how Eleanor Roosevelt change...</td>\n",
              "      <td>None</td>\n",
              "      <td>None</td>\n",
              "    </tr>\n",
              "    <tr>\n",
              "      <th>18</th>\n",
              "      <td>SSUSH19 Examine the origins, major development...</td>\n",
              "      <td>SSUSH19.a Investigate the origins of U.S. invo...</td>\n",
              "      <td>SSUSH19.b Examine the Pacific Theater includin...</td>\n",
              "      <td>SSUSH19.c Examine the European Theater includi...</td>\n",
              "      <td>SSUSH19.d Investigate the domestic impact of t...</td>\n",
              "      <td>SSUSH19.e Examine Roosevelt’s use of executive...</td>\n",
              "      <td>None</td>\n",
              "    </tr>\n",
              "    <tr>\n",
              "      <th>19</th>\n",
              "      <td>SSUSH20 Analyze U.S. international and domesti...</td>\n",
              "      <td>SSUSH20.a Analyze the international policies a...</td>\n",
              "      <td>SSUSH20.b Connect major domestic issues to the...</td>\n",
              "      <td>SSUSH20.c Examine the influence of Sputnik on ...</td>\n",
              "      <td>None</td>\n",
              "      <td>None</td>\n",
              "      <td>None</td>\n",
              "    </tr>\n",
              "    <tr>\n",
              "      <th>20</th>\n",
              "      <td>SSUSH21 Analyze U.S. international and domesti...</td>\n",
              "      <td>SSUSH21.a Analyze the international policies a...</td>\n",
              "      <td>SSUSH21.b Connect major domestic issues to the...</td>\n",
              "      <td>SSUSH21.c Describe the impact of television on...</td>\n",
              "      <td>SSUSH21.d Investigate the growth, influence, a...</td>\n",
              "      <td>SSUSH21.e Describe the social and political tu...</td>\n",
              "      <td>None</td>\n",
              "    </tr>\n",
              "    <tr>\n",
              "      <th>21</th>\n",
              "      <td>SSUSH22 Analyze U.S. international and domesti...</td>\n",
              "      <td>SSUSH22.a Analyze the international policies a...</td>\n",
              "      <td>SSUSH22.b Connect major domestic issues to the...</td>\n",
              "      <td>None</td>\n",
              "      <td>None</td>\n",
              "      <td>None</td>\n",
              "      <td>None</td>\n",
              "    </tr>\n",
              "    <tr>\n",
              "      <th>22</th>\n",
              "      <td>SSUSH23 Assess the political, economic, and te...</td>\n",
              "      <td>SSUSH23.a Analyze challenges faced by recent p...</td>\n",
              "      <td>SSUSH23.b Examine economic policies of recent ...</td>\n",
              "      <td>SSUSH23.c Examine the influence of technologic...</td>\n",
              "      <td>SSUSH23.d Examine the historic nature of the p...</td>\n",
              "      <td>None</td>\n",
              "      <td>None</td>\n",
              "    </tr>\n",
              "  </tbody>\n",
              "</table>\n",
              "</div>"
            ],
            "text/plain": [
              "                                                    0  ...                                                  6\n",
              "0   SSUSH1 Compare and contrast the development of...  ...                                               None\n",
              "1   SSUSH2 Describe the early English colonial soc...  ...                                               None\n",
              "2   SSUSH3 Analyze the causes of the American Revo...  ...                                               None\n",
              "3   SSUSH4 Analyze the ideological, military, soci...  ...  SSUSH4.f Explain the significance of the Treat...\n",
              "4   SSUSH5 Investigate specific events and key ide...  ...                                               None\n",
              "5   SSUSH6 Analyze the challenges faced by the fir...  ...                                               None\n",
              "6   SSUSH7 Investigate political, economic, and so...  ...                                               None\n",
              "7   SSUSH8 Explore the relationship between slaver...  ...                                               None\n",
              "8   SSUSH9 Evaluate key events, issues, and indivi...  ...                                               None\n",
              "9   SSUSH10 Identify legal, political, and social ...  ...                                               None\n",
              "10  SSUSH11 Examine connections between the rise o...  ...                                               None\n",
              "11  SSUSH12 Evaluate how westward expansion impact...  ...                                               None\n",
              "12  SSUSH13 Evaluate efforts to reform American so...  ...                                               None\n",
              "13  SSUSH14 Explain America’s evolving relationshi...  ...                                               None\n",
              "14  SSUSH15 Analyze the origins and impact of U.S....  ...                                               None\n",
              "15  SSUSH16 Investigate how political, economic, a...  ...                                               None\n",
              "16  SSUSH17 Analyze the causes and consequences of...  ...                                               None\n",
              "17  SSUSH18 Evaluate Franklin D. Roosevelt’s New D...  ...                                               None\n",
              "18  SSUSH19 Examine the origins, major development...  ...                                               None\n",
              "19  SSUSH20 Analyze U.S. international and domesti...  ...                                               None\n",
              "20  SSUSH21 Analyze U.S. international and domesti...  ...                                               None\n",
              "21  SSUSH22 Analyze U.S. international and domesti...  ...                                               None\n",
              "22  SSUSH23 Assess the political, economic, and te...  ...                                               None\n",
              "\n",
              "[23 rows x 7 columns]"
            ]
          },
          "metadata": {
            "tags": []
          },
          "execution_count": 15
        }
      ]
    },
    {
      "cell_type": "code",
      "metadata": {
        "id": "n4SRT0dODLbg",
        "colab_type": "code",
        "colab": {}
      },
      "source": [
        "def col(data):\n",
        "    mx = 0\n",
        "    for row in data:\n",
        "        if len(row) > mx:\n",
        "            mx = len(row)\n",
        "    cols = [chr(97+i) for i in range(mx-1)]\n",
        "    cols = ['main'] + cols\n",
        "    return cols"
      ],
      "execution_count": 0,
      "outputs": []
    },
    {
      "cell_type": "code",
      "metadata": {
        "id": "l7vdHuE_EeN5",
        "colab_type": "code",
        "colab": {}
      },
      "source": [
        "def index(data):\n",
        "    res = []\n",
        "    for i in range(len(data)):\n",
        "        idx = data[i][0].index(' ')\n",
        "        res.append(data[i][0][:idx])\n",
        "    return res"
      ],
      "execution_count": 0,
      "outputs": []
    },
    {
      "cell_type": "code",
      "metadata": {
        "id": "3i73NmU6Fyy7",
        "colab_type": "code",
        "colab": {
          "base_uri": "https://localhost:8080/",
          "height": 1000
        },
        "outputId": "40e607eb-705c-4916-832f-c9d72fa4dab7"
      },
      "source": [
        "import pandas as pd\n",
        "columns = col(data)\n",
        "index = index(data)\n",
        "df = pd.DataFrame(data, columns=columns, index=index)\n",
        "df"
      ],
      "execution_count": 18,
      "outputs": [
        {
          "output_type": "execute_result",
          "data": {
            "text/html": [
              "<div>\n",
              "<style scoped>\n",
              "    .dataframe tbody tr th:only-of-type {\n",
              "        vertical-align: middle;\n",
              "    }\n",
              "\n",
              "    .dataframe tbody tr th {\n",
              "        vertical-align: top;\n",
              "    }\n",
              "\n",
              "    .dataframe thead th {\n",
              "        text-align: right;\n",
              "    }\n",
              "</style>\n",
              "<table border=\"1\" class=\"dataframe\">\n",
              "  <thead>\n",
              "    <tr style=\"text-align: right;\">\n",
              "      <th></th>\n",
              "      <th>main</th>\n",
              "      <th>a</th>\n",
              "      <th>b</th>\n",
              "      <th>c</th>\n",
              "      <th>d</th>\n",
              "      <th>e</th>\n",
              "      <th>f</th>\n",
              "    </tr>\n",
              "  </thead>\n",
              "  <tbody>\n",
              "    <tr>\n",
              "      <th>SSUSH1</th>\n",
              "      <td>SSUSH1 Compare and contrast the development of...</td>\n",
              "      <td>SSUSH1.a Investigate how mercantilism and tran...</td>\n",
              "      <td>SSUSH1.b Explain the development of the Southe...</td>\n",
              "      <td>SSUSH1.c Explain the development of the New En...</td>\n",
              "      <td>SSUSH1.d Explain the development of the Mid-At...</td>\n",
              "      <td>None</td>\n",
              "      <td>None</td>\n",
              "    </tr>\n",
              "    <tr>\n",
              "      <th>SSUSH2</th>\n",
              "      <td>SSUSH2 Describe the early English colonial soc...</td>\n",
              "      <td>SSUSH2.a Describe European cultural diversity ...</td>\n",
              "      <td>SSUSH2.b Describe the Middle Passage, the grow...</td>\n",
              "      <td>SSUSH2.c Describe different methods of colonia...</td>\n",
              "      <td>SSUSH2.d Explain the role of the Great Awakeni...</td>\n",
              "      <td>None</td>\n",
              "      <td>None</td>\n",
              "    </tr>\n",
              "    <tr>\n",
              "      <th>SSUSH3</th>\n",
              "      <td>SSUSH3 Analyze the causes of the American Revo...</td>\n",
              "      <td>SSUSH3.a Explain how the French and Indian War...</td>\n",
              "      <td>SSUSH3.b Explain colonial response to the Proc...</td>\n",
              "      <td>SSUSH3.c Explain the importance of Thomas Pain...</td>\n",
              "      <td>None</td>\n",
              "      <td>None</td>\n",
              "      <td>None</td>\n",
              "    </tr>\n",
              "    <tr>\n",
              "      <th>SSUSH4</th>\n",
              "      <td>SSUSH4 Analyze the ideological, military, soci...</td>\n",
              "      <td>SSUSH4.a Investigate the intellectual sources,...</td>\n",
              "      <td>SSUSH4.b Explain the reason for and significan...</td>\n",
              "      <td>SSUSH4.c Analyze George Washington as a milita...</td>\n",
              "      <td>SSUSH4.d Investigate the role of geography at ...</td>\n",
              "      <td>SSUSH4.e Examine the roles of women, American ...</td>\n",
              "      <td>SSUSH4.f Explain the significance of the Treat...</td>\n",
              "    </tr>\n",
              "    <tr>\n",
              "      <th>SSUSH5</th>\n",
              "      <td>SSUSH5 Investigate specific events and key ide...</td>\n",
              "      <td>SSUSH5.a Examine the strengths of the Articles...</td>\n",
              "      <td>SSUSH5.b Evaluate how weaknesses in the Articl...</td>\n",
              "      <td>SSUSH5.c Explain the key features of the Const...</td>\n",
              "      <td>SSUSH5.d Evaluate the major arguments of the A...</td>\n",
              "      <td>SSUSH5.e Explain how objections to the ratific...</td>\n",
              "      <td>None</td>\n",
              "    </tr>\n",
              "    <tr>\n",
              "      <th>SSUSH6</th>\n",
              "      <td>SSUSH6 Analyze the challenges faced by the fir...</td>\n",
              "      <td>SSUSH6.a Examine the presidency of Washington,...</td>\n",
              "      <td>SSUSH6.b Explain the presidency of John Adams ...</td>\n",
              "      <td>SSUSH6.c Explore Jefferson’s expansion of pres...</td>\n",
              "      <td>SSUSH6.d Explain James Madison’s presidency in...</td>\n",
              "      <td>SSUSH6.e Explain James Monroe’s presidency in ...</td>\n",
              "      <td>None</td>\n",
              "    </tr>\n",
              "    <tr>\n",
              "      <th>SSUSH7</th>\n",
              "      <td>SSUSH7 Investigate political, economic, and so...</td>\n",
              "      <td>SSUSH7.a Explain Jacksonian Democracy, includi...</td>\n",
              "      <td>SSUSH7.b Explain how the North, South, and Wes...</td>\n",
              "      <td>SSUSH7.c Explain the influence of the Second G...</td>\n",
              "      <td>SSUSH7.d Explain how the significance of slave...</td>\n",
              "      <td>None</td>\n",
              "      <td>None</td>\n",
              "    </tr>\n",
              "    <tr>\n",
              "      <th>SSUSH8</th>\n",
              "      <td>SSUSH8 Explore the relationship between slaver...</td>\n",
              "      <td>SSUSH8.a Explain the impact of the Missouri Co...</td>\n",
              "      <td>SSUSH8.b Examine James K. Polk’s presidency in...</td>\n",
              "      <td>SSUSH8.c Analyze the impact of the Mexican War...</td>\n",
              "      <td>SSUSH8.d Explain how the Compromise of 1850 ar...</td>\n",
              "      <td>SSUSH8.e Evaluate the Kansas-Nebraska Act, the...</td>\n",
              "      <td>None</td>\n",
              "    </tr>\n",
              "    <tr>\n",
              "      <th>SSUSH9</th>\n",
              "      <td>SSUSH9 Evaluate key events, issues, and indivi...</td>\n",
              "      <td>SSUSH9.a Explain the importance of the growing...</td>\n",
              "      <td>SSUSH9.b Discuss Lincoln’s purpose in using em...</td>\n",
              "      <td>SSUSH9.c Examine the influences of Ulysses S. ...</td>\n",
              "      <td>SSUSH9.d Explain the importance of Fort Sumter...</td>\n",
              "      <td>None</td>\n",
              "      <td>None</td>\n",
              "    </tr>\n",
              "    <tr>\n",
              "      <th>SSUSH10</th>\n",
              "      <td>SSUSH10 Identify legal, political, and social ...</td>\n",
              "      <td>SSUSH10.a Compare and contrast Presidential Re...</td>\n",
              "      <td>SSUSH10.b Investigate the efforts of the Burea...</td>\n",
              "      <td>SSUSH10.c Describe the significance of the Thi...</td>\n",
              "      <td>SSUSH10.d Explain the Black Codes, the Ku Klux...</td>\n",
              "      <td>SSUSH10.e Analyze how the Presidential Electio...</td>\n",
              "      <td>None</td>\n",
              "    </tr>\n",
              "    <tr>\n",
              "      <th>SSUSH11</th>\n",
              "      <td>SSUSH11 Examine connections between the rise o...</td>\n",
              "      <td>SSUSH11.a Explain the effects of railroads on ...</td>\n",
              "      <td>SSUSH11.b Examine the significance of John D. ...</td>\n",
              "      <td>SSUSH11.c Examine the influence of key inventi...</td>\n",
              "      <td>SSUSH11.d Describe Ellis and Angel Islands, th...</td>\n",
              "      <td>SSUSH11.e Discuss the origins, growth, influen...</td>\n",
              "      <td>None</td>\n",
              "    </tr>\n",
              "    <tr>\n",
              "      <th>SSUSH12</th>\n",
              "      <td>SSUSH12 Evaluate how westward expansion impact...</td>\n",
              "      <td>SSUSH12.a Examine the construction of the tran...</td>\n",
              "      <td>SSUSH12.b Evaluate how the growth of the weste...</td>\n",
              "      <td>SSUSH12.c Explain the Plains Indians’ resistan...</td>\n",
              "      <td>None</td>\n",
              "      <td>None</td>\n",
              "      <td>None</td>\n",
              "    </tr>\n",
              "    <tr>\n",
              "      <th>SSUSH13</th>\n",
              "      <td>SSUSH13 Evaluate efforts to reform American so...</td>\n",
              "      <td>SSUSH13.a Describe the influence of muckrakers...</td>\n",
              "      <td>SSUSH13.b Examine and explain the roles of wom...</td>\n",
              "      <td>SSUSH13.c Connect the decision of Plessy v. Fe...</td>\n",
              "      <td>SSUSH13.d Describe Progressive legislative act...</td>\n",
              "      <td>None</td>\n",
              "      <td>None</td>\n",
              "    </tr>\n",
              "    <tr>\n",
              "      <th>SSUSH14</th>\n",
              "      <td>SSUSH14 Explain America’s evolving relationshi...</td>\n",
              "      <td>SSUSH14.a Describe how the Spanish-American Wa...</td>\n",
              "      <td>SSUSH14.b Examine U.S. involvement in Latin Am...</td>\n",
              "      <td>None</td>\n",
              "      <td>None</td>\n",
              "      <td>None</td>\n",
              "      <td>None</td>\n",
              "    </tr>\n",
              "    <tr>\n",
              "      <th>SSUSH15</th>\n",
              "      <td>SSUSH15 Analyze the origins and impact of U.S....</td>\n",
              "      <td>SSUSH15.a Describe the movement from U.S. neut...</td>\n",
              "      <td>SSUSH15.b Explain the domestic impact of World...</td>\n",
              "      <td>SSUSH15.c Explain Wilson’s Fourteen Points and...</td>\n",
              "      <td>None</td>\n",
              "      <td>None</td>\n",
              "      <td>None</td>\n",
              "    </tr>\n",
              "    <tr>\n",
              "      <th>SSUSH16</th>\n",
              "      <td>SSUSH16 Investigate how political, economic, a...</td>\n",
              "      <td>SSUSH16.a Explain how fears of rising communis...</td>\n",
              "      <td>SSUSH16.b Describe the effects of the Eighteen...</td>\n",
              "      <td>SSUSH16.c Examine how mass production and adve...</td>\n",
              "      <td>SSUSH16.d Describe the impact of radio and mov...</td>\n",
              "      <td>SSUSH16.e Describe the emergence of modern for...</td>\n",
              "      <td>None</td>\n",
              "    </tr>\n",
              "    <tr>\n",
              "      <th>SSUSH17</th>\n",
              "      <td>SSUSH17 Analyze the causes and consequences of...</td>\n",
              "      <td>SSUSH17.a Describe the causes, including overp...</td>\n",
              "      <td>SSUSH17.b Explain factors (include over-farmin...</td>\n",
              "      <td>SSUSH17.c Explain the social and political imp...</td>\n",
              "      <td>None</td>\n",
              "      <td>None</td>\n",
              "      <td>None</td>\n",
              "    </tr>\n",
              "    <tr>\n",
              "      <th>SSUSH18</th>\n",
              "      <td>SSUSH18 Evaluate Franklin D. Roosevelt’s New D...</td>\n",
              "      <td>SSUSH18.a Describe Roosevelt’s attempts at rel...</td>\n",
              "      <td>SSUSH18.b Explain the passage of the Social Se...</td>\n",
              "      <td>SSUSH18.c Analyze political challenges to Roos...</td>\n",
              "      <td>SSUSH18.d Examine how Eleanor Roosevelt change...</td>\n",
              "      <td>None</td>\n",
              "      <td>None</td>\n",
              "    </tr>\n",
              "    <tr>\n",
              "      <th>SSUSH19</th>\n",
              "      <td>SSUSH19 Examine the origins, major development...</td>\n",
              "      <td>SSUSH19.a Investigate the origins of U.S. invo...</td>\n",
              "      <td>SSUSH19.b Examine the Pacific Theater includin...</td>\n",
              "      <td>SSUSH19.c Examine the European Theater includi...</td>\n",
              "      <td>SSUSH19.d Investigate the domestic impact of t...</td>\n",
              "      <td>SSUSH19.e Examine Roosevelt’s use of executive...</td>\n",
              "      <td>None</td>\n",
              "    </tr>\n",
              "    <tr>\n",
              "      <th>SSUSH20</th>\n",
              "      <td>SSUSH20 Analyze U.S. international and domesti...</td>\n",
              "      <td>SSUSH20.a Analyze the international policies a...</td>\n",
              "      <td>SSUSH20.b Connect major domestic issues to the...</td>\n",
              "      <td>SSUSH20.c Examine the influence of Sputnik on ...</td>\n",
              "      <td>None</td>\n",
              "      <td>None</td>\n",
              "      <td>None</td>\n",
              "    </tr>\n",
              "    <tr>\n",
              "      <th>SSUSH21</th>\n",
              "      <td>SSUSH21 Analyze U.S. international and domesti...</td>\n",
              "      <td>SSUSH21.a Analyze the international policies a...</td>\n",
              "      <td>SSUSH21.b Connect major domestic issues to the...</td>\n",
              "      <td>SSUSH21.c Describe the impact of television on...</td>\n",
              "      <td>SSUSH21.d Investigate the growth, influence, a...</td>\n",
              "      <td>SSUSH21.e Describe the social and political tu...</td>\n",
              "      <td>None</td>\n",
              "    </tr>\n",
              "    <tr>\n",
              "      <th>SSUSH22</th>\n",
              "      <td>SSUSH22 Analyze U.S. international and domesti...</td>\n",
              "      <td>SSUSH22.a Analyze the international policies a...</td>\n",
              "      <td>SSUSH22.b Connect major domestic issues to the...</td>\n",
              "      <td>None</td>\n",
              "      <td>None</td>\n",
              "      <td>None</td>\n",
              "      <td>None</td>\n",
              "    </tr>\n",
              "    <tr>\n",
              "      <th>SSUSH23</th>\n",
              "      <td>SSUSH23 Assess the political, economic, and te...</td>\n",
              "      <td>SSUSH23.a Analyze challenges faced by recent p...</td>\n",
              "      <td>SSUSH23.b Examine economic policies of recent ...</td>\n",
              "      <td>SSUSH23.c Examine the influence of technologic...</td>\n",
              "      <td>SSUSH23.d Examine the historic nature of the p...</td>\n",
              "      <td>None</td>\n",
              "      <td>None</td>\n",
              "    </tr>\n",
              "  </tbody>\n",
              "</table>\n",
              "</div>"
            ],
            "text/plain": [
              "                                                      main  ...                                                  f\n",
              "SSUSH1   SSUSH1 Compare and contrast the development of...  ...                                               None\n",
              "SSUSH2   SSUSH2 Describe the early English colonial soc...  ...                                               None\n",
              "SSUSH3   SSUSH3 Analyze the causes of the American Revo...  ...                                               None\n",
              "SSUSH4   SSUSH4 Analyze the ideological, military, soci...  ...  SSUSH4.f Explain the significance of the Treat...\n",
              "SSUSH5   SSUSH5 Investigate specific events and key ide...  ...                                               None\n",
              "SSUSH6   SSUSH6 Analyze the challenges faced by the fir...  ...                                               None\n",
              "SSUSH7   SSUSH7 Investigate political, economic, and so...  ...                                               None\n",
              "SSUSH8   SSUSH8 Explore the relationship between slaver...  ...                                               None\n",
              "SSUSH9   SSUSH9 Evaluate key events, issues, and indivi...  ...                                               None\n",
              "SSUSH10  SSUSH10 Identify legal, political, and social ...  ...                                               None\n",
              "SSUSH11  SSUSH11 Examine connections between the rise o...  ...                                               None\n",
              "SSUSH12  SSUSH12 Evaluate how westward expansion impact...  ...                                               None\n",
              "SSUSH13  SSUSH13 Evaluate efforts to reform American so...  ...                                               None\n",
              "SSUSH14  SSUSH14 Explain America’s evolving relationshi...  ...                                               None\n",
              "SSUSH15  SSUSH15 Analyze the origins and impact of U.S....  ...                                               None\n",
              "SSUSH16  SSUSH16 Investigate how political, economic, a...  ...                                               None\n",
              "SSUSH17  SSUSH17 Analyze the causes and consequences of...  ...                                               None\n",
              "SSUSH18  SSUSH18 Evaluate Franklin D. Roosevelt’s New D...  ...                                               None\n",
              "SSUSH19  SSUSH19 Examine the origins, major development...  ...                                               None\n",
              "SSUSH20  SSUSH20 Analyze U.S. international and domesti...  ...                                               None\n",
              "SSUSH21  SSUSH21 Analyze U.S. international and domesti...  ...                                               None\n",
              "SSUSH22  SSUSH22 Analyze U.S. international and domesti...  ...                                               None\n",
              "SSUSH23  SSUSH23 Assess the political, economic, and te...  ...                                               None\n",
              "\n",
              "[23 rows x 7 columns]"
            ]
          },
          "metadata": {
            "tags": []
          },
          "execution_count": 18
        }
      ]
    },
    {
      "cell_type": "code",
      "metadata": {
        "id": "99DuxJM0GUlQ",
        "colab_type": "code",
        "colab": {
          "base_uri": "https://localhost:8080/",
          "height": 862
        },
        "outputId": "29bc53df-0a26-4572-df42-f4c47edb3736"
      },
      "source": [
        "df = df.T\n",
        "df"
      ],
      "execution_count": 19,
      "outputs": [
        {
          "output_type": "execute_result",
          "data": {
            "text/html": [
              "<div>\n",
              "<style scoped>\n",
              "    .dataframe tbody tr th:only-of-type {\n",
              "        vertical-align: middle;\n",
              "    }\n",
              "\n",
              "    .dataframe tbody tr th {\n",
              "        vertical-align: top;\n",
              "    }\n",
              "\n",
              "    .dataframe thead th {\n",
              "        text-align: right;\n",
              "    }\n",
              "</style>\n",
              "<table border=\"1\" class=\"dataframe\">\n",
              "  <thead>\n",
              "    <tr style=\"text-align: right;\">\n",
              "      <th></th>\n",
              "      <th>SSUSH1</th>\n",
              "      <th>SSUSH2</th>\n",
              "      <th>SSUSH3</th>\n",
              "      <th>SSUSH4</th>\n",
              "      <th>SSUSH5</th>\n",
              "      <th>SSUSH6</th>\n",
              "      <th>SSUSH7</th>\n",
              "      <th>SSUSH8</th>\n",
              "      <th>SSUSH9</th>\n",
              "      <th>SSUSH10</th>\n",
              "      <th>SSUSH11</th>\n",
              "      <th>SSUSH12</th>\n",
              "      <th>SSUSH13</th>\n",
              "      <th>SSUSH14</th>\n",
              "      <th>SSUSH15</th>\n",
              "      <th>SSUSH16</th>\n",
              "      <th>SSUSH17</th>\n",
              "      <th>SSUSH18</th>\n",
              "      <th>SSUSH19</th>\n",
              "      <th>SSUSH20</th>\n",
              "      <th>SSUSH21</th>\n",
              "      <th>SSUSH22</th>\n",
              "      <th>SSUSH23</th>\n",
              "    </tr>\n",
              "  </thead>\n",
              "  <tbody>\n",
              "    <tr>\n",
              "      <th>main</th>\n",
              "      <td>SSUSH1 Compare and contrast the development of...</td>\n",
              "      <td>SSUSH2 Describe the early English colonial soc...</td>\n",
              "      <td>SSUSH3 Analyze the causes of the American Revo...</td>\n",
              "      <td>SSUSH4 Analyze the ideological, military, soci...</td>\n",
              "      <td>SSUSH5 Investigate specific events and key ide...</td>\n",
              "      <td>SSUSH6 Analyze the challenges faced by the fir...</td>\n",
              "      <td>SSUSH7 Investigate political, economic, and so...</td>\n",
              "      <td>SSUSH8 Explore the relationship between slaver...</td>\n",
              "      <td>SSUSH9 Evaluate key events, issues, and indivi...</td>\n",
              "      <td>SSUSH10 Identify legal, political, and social ...</td>\n",
              "      <td>SSUSH11 Examine connections between the rise o...</td>\n",
              "      <td>SSUSH12 Evaluate how westward expansion impact...</td>\n",
              "      <td>SSUSH13 Evaluate efforts to reform American so...</td>\n",
              "      <td>SSUSH14 Explain America’s evolving relationshi...</td>\n",
              "      <td>SSUSH15 Analyze the origins and impact of U.S....</td>\n",
              "      <td>SSUSH16 Investigate how political, economic, a...</td>\n",
              "      <td>SSUSH17 Analyze the causes and consequences of...</td>\n",
              "      <td>SSUSH18 Evaluate Franklin D. Roosevelt’s New D...</td>\n",
              "      <td>SSUSH19 Examine the origins, major development...</td>\n",
              "      <td>SSUSH20 Analyze U.S. international and domesti...</td>\n",
              "      <td>SSUSH21 Analyze U.S. international and domesti...</td>\n",
              "      <td>SSUSH22 Analyze U.S. international and domesti...</td>\n",
              "      <td>SSUSH23 Assess the political, economic, and te...</td>\n",
              "    </tr>\n",
              "    <tr>\n",
              "      <th>a</th>\n",
              "      <td>SSUSH1.a Investigate how mercantilism and tran...</td>\n",
              "      <td>SSUSH2.a Describe European cultural diversity ...</td>\n",
              "      <td>SSUSH3.a Explain how the French and Indian War...</td>\n",
              "      <td>SSUSH4.a Investigate the intellectual sources,...</td>\n",
              "      <td>SSUSH5.a Examine the strengths of the Articles...</td>\n",
              "      <td>SSUSH6.a Examine the presidency of Washington,...</td>\n",
              "      <td>SSUSH7.a Explain Jacksonian Democracy, includi...</td>\n",
              "      <td>SSUSH8.a Explain the impact of the Missouri Co...</td>\n",
              "      <td>SSUSH9.a Explain the importance of the growing...</td>\n",
              "      <td>SSUSH10.a Compare and contrast Presidential Re...</td>\n",
              "      <td>SSUSH11.a Explain the effects of railroads on ...</td>\n",
              "      <td>SSUSH12.a Examine the construction of the tran...</td>\n",
              "      <td>SSUSH13.a Describe the influence of muckrakers...</td>\n",
              "      <td>SSUSH14.a Describe how the Spanish-American Wa...</td>\n",
              "      <td>SSUSH15.a Describe the movement from U.S. neut...</td>\n",
              "      <td>SSUSH16.a Explain how fears of rising communis...</td>\n",
              "      <td>SSUSH17.a Describe the causes, including overp...</td>\n",
              "      <td>SSUSH18.a Describe Roosevelt’s attempts at rel...</td>\n",
              "      <td>SSUSH19.a Investigate the origins of U.S. invo...</td>\n",
              "      <td>SSUSH20.a Analyze the international policies a...</td>\n",
              "      <td>SSUSH21.a Analyze the international policies a...</td>\n",
              "      <td>SSUSH22.a Analyze the international policies a...</td>\n",
              "      <td>SSUSH23.a Analyze challenges faced by recent p...</td>\n",
              "    </tr>\n",
              "    <tr>\n",
              "      <th>b</th>\n",
              "      <td>SSUSH1.b Explain the development of the Southe...</td>\n",
              "      <td>SSUSH2.b Describe the Middle Passage, the grow...</td>\n",
              "      <td>SSUSH3.b Explain colonial response to the Proc...</td>\n",
              "      <td>SSUSH4.b Explain the reason for and significan...</td>\n",
              "      <td>SSUSH5.b Evaluate how weaknesses in the Articl...</td>\n",
              "      <td>SSUSH6.b Explain the presidency of John Adams ...</td>\n",
              "      <td>SSUSH7.b Explain how the North, South, and Wes...</td>\n",
              "      <td>SSUSH8.b Examine James K. Polk’s presidency in...</td>\n",
              "      <td>SSUSH9.b Discuss Lincoln’s purpose in using em...</td>\n",
              "      <td>SSUSH10.b Investigate the efforts of the Burea...</td>\n",
              "      <td>SSUSH11.b Examine the significance of John D. ...</td>\n",
              "      <td>SSUSH12.b Evaluate how the growth of the weste...</td>\n",
              "      <td>SSUSH13.b Examine and explain the roles of wom...</td>\n",
              "      <td>SSUSH14.b Examine U.S. involvement in Latin Am...</td>\n",
              "      <td>SSUSH15.b Explain the domestic impact of World...</td>\n",
              "      <td>SSUSH16.b Describe the effects of the Eighteen...</td>\n",
              "      <td>SSUSH17.b Explain factors (include over-farmin...</td>\n",
              "      <td>SSUSH18.b Explain the passage of the Social Se...</td>\n",
              "      <td>SSUSH19.b Examine the Pacific Theater includin...</td>\n",
              "      <td>SSUSH20.b Connect major domestic issues to the...</td>\n",
              "      <td>SSUSH21.b Connect major domestic issues to the...</td>\n",
              "      <td>SSUSH22.b Connect major domestic issues to the...</td>\n",
              "      <td>SSUSH23.b Examine economic policies of recent ...</td>\n",
              "    </tr>\n",
              "    <tr>\n",
              "      <th>c</th>\n",
              "      <td>SSUSH1.c Explain the development of the New En...</td>\n",
              "      <td>SSUSH2.c Describe different methods of colonia...</td>\n",
              "      <td>SSUSH3.c Explain the importance of Thomas Pain...</td>\n",
              "      <td>SSUSH4.c Analyze George Washington as a milita...</td>\n",
              "      <td>SSUSH5.c Explain the key features of the Const...</td>\n",
              "      <td>SSUSH6.c Explore Jefferson’s expansion of pres...</td>\n",
              "      <td>SSUSH7.c Explain the influence of the Second G...</td>\n",
              "      <td>SSUSH8.c Analyze the impact of the Mexican War...</td>\n",
              "      <td>SSUSH9.c Examine the influences of Ulysses S. ...</td>\n",
              "      <td>SSUSH10.c Describe the significance of the Thi...</td>\n",
              "      <td>SSUSH11.c Examine the influence of key inventi...</td>\n",
              "      <td>SSUSH12.c Explain the Plains Indians’ resistan...</td>\n",
              "      <td>SSUSH13.c Connect the decision of Plessy v. Fe...</td>\n",
              "      <td>None</td>\n",
              "      <td>SSUSH15.c Explain Wilson’s Fourteen Points and...</td>\n",
              "      <td>SSUSH16.c Examine how mass production and adve...</td>\n",
              "      <td>SSUSH17.c Explain the social and political imp...</td>\n",
              "      <td>SSUSH18.c Analyze political challenges to Roos...</td>\n",
              "      <td>SSUSH19.c Examine the European Theater includi...</td>\n",
              "      <td>SSUSH20.c Examine the influence of Sputnik on ...</td>\n",
              "      <td>SSUSH21.c Describe the impact of television on...</td>\n",
              "      <td>None</td>\n",
              "      <td>SSUSH23.c Examine the influence of technologic...</td>\n",
              "    </tr>\n",
              "    <tr>\n",
              "      <th>d</th>\n",
              "      <td>SSUSH1.d Explain the development of the Mid-At...</td>\n",
              "      <td>SSUSH2.d Explain the role of the Great Awakeni...</td>\n",
              "      <td>None</td>\n",
              "      <td>SSUSH4.d Investigate the role of geography at ...</td>\n",
              "      <td>SSUSH5.d Evaluate the major arguments of the A...</td>\n",
              "      <td>SSUSH6.d Explain James Madison’s presidency in...</td>\n",
              "      <td>SSUSH7.d Explain how the significance of slave...</td>\n",
              "      <td>SSUSH8.d Explain how the Compromise of 1850 ar...</td>\n",
              "      <td>SSUSH9.d Explain the importance of Fort Sumter...</td>\n",
              "      <td>SSUSH10.d Explain the Black Codes, the Ku Klux...</td>\n",
              "      <td>SSUSH11.d Describe Ellis and Angel Islands, th...</td>\n",
              "      <td>None</td>\n",
              "      <td>SSUSH13.d Describe Progressive legislative act...</td>\n",
              "      <td>None</td>\n",
              "      <td>None</td>\n",
              "      <td>SSUSH16.d Describe the impact of radio and mov...</td>\n",
              "      <td>None</td>\n",
              "      <td>SSUSH18.d Examine how Eleanor Roosevelt change...</td>\n",
              "      <td>SSUSH19.d Investigate the domestic impact of t...</td>\n",
              "      <td>None</td>\n",
              "      <td>SSUSH21.d Investigate the growth, influence, a...</td>\n",
              "      <td>None</td>\n",
              "      <td>SSUSH23.d Examine the historic nature of the p...</td>\n",
              "    </tr>\n",
              "    <tr>\n",
              "      <th>e</th>\n",
              "      <td>None</td>\n",
              "      <td>None</td>\n",
              "      <td>None</td>\n",
              "      <td>SSUSH4.e Examine the roles of women, American ...</td>\n",
              "      <td>SSUSH5.e Explain how objections to the ratific...</td>\n",
              "      <td>SSUSH6.e Explain James Monroe’s presidency in ...</td>\n",
              "      <td>None</td>\n",
              "      <td>SSUSH8.e Evaluate the Kansas-Nebraska Act, the...</td>\n",
              "      <td>None</td>\n",
              "      <td>SSUSH10.e Analyze how the Presidential Electio...</td>\n",
              "      <td>SSUSH11.e Discuss the origins, growth, influen...</td>\n",
              "      <td>None</td>\n",
              "      <td>None</td>\n",
              "      <td>None</td>\n",
              "      <td>None</td>\n",
              "      <td>SSUSH16.e Describe the emergence of modern for...</td>\n",
              "      <td>None</td>\n",
              "      <td>None</td>\n",
              "      <td>SSUSH19.e Examine Roosevelt’s use of executive...</td>\n",
              "      <td>None</td>\n",
              "      <td>SSUSH21.e Describe the social and political tu...</td>\n",
              "      <td>None</td>\n",
              "      <td>None</td>\n",
              "    </tr>\n",
              "    <tr>\n",
              "      <th>f</th>\n",
              "      <td>None</td>\n",
              "      <td>None</td>\n",
              "      <td>None</td>\n",
              "      <td>SSUSH4.f Explain the significance of the Treat...</td>\n",
              "      <td>None</td>\n",
              "      <td>None</td>\n",
              "      <td>None</td>\n",
              "      <td>None</td>\n",
              "      <td>None</td>\n",
              "      <td>None</td>\n",
              "      <td>None</td>\n",
              "      <td>None</td>\n",
              "      <td>None</td>\n",
              "      <td>None</td>\n",
              "      <td>None</td>\n",
              "      <td>None</td>\n",
              "      <td>None</td>\n",
              "      <td>None</td>\n",
              "      <td>None</td>\n",
              "      <td>None</td>\n",
              "      <td>None</td>\n",
              "      <td>None</td>\n",
              "      <td>None</td>\n",
              "    </tr>\n",
              "  </tbody>\n",
              "</table>\n",
              "</div>"
            ],
            "text/plain": [
              "                                                 SSUSH1  ...                                            SSUSH23\n",
              "main  SSUSH1 Compare and contrast the development of...  ...  SSUSH23 Assess the political, economic, and te...\n",
              "a     SSUSH1.a Investigate how mercantilism and tran...  ...  SSUSH23.a Analyze challenges faced by recent p...\n",
              "b     SSUSH1.b Explain the development of the Southe...  ...  SSUSH23.b Examine economic policies of recent ...\n",
              "c     SSUSH1.c Explain the development of the New En...  ...  SSUSH23.c Examine the influence of technologic...\n",
              "d     SSUSH1.d Explain the development of the Mid-At...  ...  SSUSH23.d Examine the historic nature of the p...\n",
              "e                                                  None  ...                                               None\n",
              "f                                                  None  ...                                               None\n",
              "\n",
              "[7 rows x 23 columns]"
            ]
          },
          "metadata": {
            "tags": []
          },
          "execution_count": 19
        }
      ]
    },
    {
      "cell_type": "code",
      "metadata": {
        "id": "7xfLXWmpGe6W",
        "colab_type": "code",
        "colab": {}
      },
      "source": [
        "# Run this just once\n",
        "# df.to_csv('ushistory.csv')"
      ],
      "execution_count": 0,
      "outputs": []
    }
  ]
}
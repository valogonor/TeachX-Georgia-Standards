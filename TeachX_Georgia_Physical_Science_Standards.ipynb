{
  "nbformat": 4,
  "nbformat_minor": 0,
  "metadata": {
    "colab": {
      "name": "TeachX Georgia Physical Science Standards.ipynb",
      "provenance": [],
      "include_colab_link": true
    },
    "kernelspec": {
      "name": "python3",
      "display_name": "Python 3"
    }
  },
  "cells": [
    {
      "cell_type": "markdown",
      "metadata": {
        "id": "view-in-github",
        "colab_type": "text"
      },
      "source": [
        "<a href=\"https://colab.research.google.com/github/valogonor/TeachX-Georgia-Standards/blob/master/TeachX_Georgia_Physical_Science_Standards.ipynb\" target=\"_parent\"><img src=\"https://colab.research.google.com/assets/colab-badge.svg\" alt=\"Open In Colab\"/></a>"
      ]
    },
    {
      "cell_type": "code",
      "metadata": {
        "id": "6fGUv6iXp11u",
        "colab_type": "code",
        "colab": {
          "base_uri": "https://localhost:8080/",
          "height": 54
        },
        "outputId": "a1f6619d-36c0-4cef-9337-bd45ad0b4333"
      },
      "source": [
        "with open('Science-Physical-Science-Georgia-Standards.txt') as text:\n",
        "    string = text.read()\n",
        "string"
      ],
      "execution_count": 1,
      "outputs": [
        {
          "output_type": "execute_result",
          "data": {
            "text/plain": [
              "'Science Georgia Standards of Excellence\\n\\nPhysical Science Standards\\nThe Science Georgia Standards of Excellence are designed to provide foundational knowledge\\nand skills for all students to develop proficiency in science. The Project 2061’s Benchmarks for\\nScience Literacy and the follow up work, A Framework for K-12 Science Education were used as\\nthe core of the standards to determine appropriate content and process skills for students. The\\nScience Georgia Standards of Excellence focus on a limited number of core disciplinary ideas\\nand crosscutting concepts which build from Kindergarten to high school. The standards are\\nwritten with the core knowledge to be mastered integrated with the science and engineering\\npractices needed to engage in scientific inquiry and engineering design. Crosscutting concepts\\nare used to make connections across different science disciplines.\\nThe Science Georgia Standards of Excellence drive instruction. Hands-on, student-centered, and\\ninquiry-based approaches should be the emphasis of instruction. The standards are a required\\nminimum set of expectations that show proficiency in science. However, instruction can extend\\nbeyond these minimum expectations to meet student needs. At the same time, these standards set\\na maximum expectation on what will be assessed by the Georgia Milestones Assessment System.\\nScience consists of a way of thinking and investigating, as well a growing body of knowledge\\nabout the natural world. To become literate in science, students need to possess sufficient\\nunderstanding of fundamental science content knowledge, the ability to engage in the science\\nand engineering practices, and to use scientific and technological information correctly.\\nTechnology should be infused into the curriculum and the safety of the student should always be\\nforemost in instruction.\\nThe Physical Science Georgia Standards of Excellence are designed to continue student\\ninvestigations of the physical sciences that began in grades K-8, and provide students the\\nnecessary skills to have a richer knowledge base in physical science. The standards in this course\\nare designed as a survey of the core ideas in the physical sciences. Those core ideas will be\\nstudied in more depth during in the chemistry and physics courses. The physical science\\nstandards include abstract concepts such as the conceptualization of the structure of atoms and\\nthe role they play in determining the properties of materials, motion and forces, the conservation\\nof energy and matter, wave behavior, electricity, and the relationship between electricity and\\nmagnetism. The idea of radioactive decay is limited to the understanding of whole half-lives and\\nhow a constant proportional rate of decay is consistent with declining measures that only\\ngradually approach to zero. Students investigate physical science concepts through the study of\\nphenomena, experiences in laboratory settings, and field work.\\n\\nGeorgia Department of Education\\nMarch 31, 2016 ● Page 1 of 5\\n\\n\\x0cScience Georgia Standards of Excellence\\n\\nPhysical Science\\nSPS1. Obtain, evaluate, and communicate information from the Periodic Table to explain\\nthe relative properties of elements based on patterns of atomic structure.\\na. Develop and use models to compare and contrast the structure of atoms, ions and isotopes.\\n(Clarification statement: Properties include atomic number, atomic mass and the location and\\ncharge of subatomic particles.)\\nb. Analyze and interpret data to determine trends of the following:\\n\\uf0b7 Number of valence electrons\\n\\uf0b7 Types of ions formed by main group elements\\n\\uf0b7 Location and properties of metals, nonmetals, and metalloids\\n\\uf0b7 Phases at room temperature\\nc. Use the Periodic Table as a model to predict the above properties of main group elements.\\nSPS2. Obtain, evaluate, and communicate information to explain how atoms bond to form\\nstable compounds.\\na. Analyze and interpret data to predict properties of ionic and covalent compounds.\\n(Clarification statement: Properties are limited to types of bonds formed, elemental\\ncomposition, melting point, boiling point, and conductivity.)\\nb. Develop and use models to predict formulas for stable, binary ionic compounds based on\\nbalance of charges.\\nc. Use the International Union of Pure and Applied Chemistry (IUPAC) nomenclature for\\ntranslating between chemical names and chemical formulas.\\n(Clarification statement: Limited to binary covalent and binary ionic, containing main group\\nelements, compounds but excludes polyatomic ions.)\\nSPS3. Obtain, evaluate, and communicate information to support the Law of Conservation\\nof Matter.\\na. Plan and carry out investigations to generate evidence supporting the claim that mass is\\nconserved during a chemical reaction.\\n(Clarification statement: Limited to synthesis, decomposition, single replacement, and\\ndouble replacement reactions.)\\nb. Develop and use a model of a chemical equation to illustrate how the total number of atoms\\nis conserved during a chemical reaction.\\n(Clarification statement: Limited to chemical equations that include binary ionic and\\ncovalent compounds and will not include equations containing polyatomic ions.)\\n\\nGeorgia Department of Education\\nMarch 31, 2016 ● Page 2 of 5\\n\\n\\x0cScience Georgia Standards of Excellence\\n\\nSPS4. Obtain, evaluate, and communicate information to explain the changes in nuclear\\nstructure as a result of fission, fusion and radioactive decay.\\na. Develop a model that illustrates how the nucleus changes as a result of fission and fusion.\\nb. Use mathematics and computational thinking to explain the process of half-life as it relates to\\nradioactive decay.\\n(Clarification statement: Limited to calculations that include whole half-lives.)\\nc. Construct arguments based on evidence about the applications, benefits, and problems of\\nnuclear energy as an alternative energy source.\\nSPS5. Obtain, evaluate, and communicate information to compare and contrast the phases\\nof matter as they relate to atomic and molecular motion.\\na. Ask questions to compare and contrast models depicting the particle arrangement and motion\\nin solids, liquids, gases, and plasmas.\\nb. Plan and carry out investigations to identify the relationships among temperature, pressure,\\nvolume, and density of gases in closed systems.\\n(Clarification statement: Using specific Gas laws to perform calculations is beyond the scope\\nof this standard; emphasis should focus on the conceptual understanding of the behavior of\\ngases rather than calculations.)\\nSPS6. Obtain, evaluate, and communicate information to explain the properties of\\nsolutions.\\na. Develop and use models to explain the properties (solute/solvent, conductivity, and\\nconcentration) of solutions.\\nb. Plan and carry out investigations to determine how temperature, surface area, and agitation\\naffect the rate solutes dissolve in a specific solvent.\\nc. Analyze and interpret data from a solubility curve to determine the effect of temperature on\\nsolubility.\\nd. Obtain and communicate information to explain the relationship between the structure and\\nproperties (e.g., pH, and color change in the presence of an indicator) of acids and bases.\\n(Clarification statement: Limited to only the structure of simple acids and bases (e.g., HCl\\nand NaOH) that demonstrates the presence of an H+ or OH-.\\ne. Plan and carry out investigations to detect patterns in order to classify common household\\nsubstances as acidic, basic, or neutral.\\nSPS7. Obtain, evaluate, and communicate information to explain transformations and flow\\nof energy within a system.\\na. Construct explanations for energy transformations within a system.\\n(Clarification statement: Types of energy to be addressed include chemical, mechanical,\\nelectromagnetic, light, sound, thermal, electrical, and nuclear.)\\n\\nGeorgia Department of Education\\nMarch 31, 2016 ● Page 3 of 5\\n\\n\\x0cScience Georgia Standards of Excellence\\n\\nb. Plan and carry out investigations to describe how molecular motion relates to thermal energy\\nchanges in terms of conduction, convection, and radiation.\\nc. Analyze and interpret specific heat data to justify the selection of a material for a practical\\napplication (e.g., insulators and cooking vessels).\\nd. Analyze and interpret data to explain the flow of energy during phase changes using\\nheating/cooling curves.\\nSPS8. Obtain, evaluate, and communicate information to explain the relationships among\\nforce, mass, and motion.\\na. Plan and carry out an investigation to analyze the motion of an object using mathematical\\nand graphical models.\\n(Clarification statement: Mathematical and graphical models could include distance,\\ndisplacement, speed, velocity, time and acceleration.)\\nb. Construct an explanation based on experimental evidence to support the claims presented in\\nNewton’s three laws of motion.\\n(Clarification statement: Evidence could demonstrate relationships among force, mass,\\nvelocity, and acceleration.)\\nc. Analyze and interpret data to identify the relationship between mass and gravitational force\\nfor falling objects.\\nd. Use mathematics and computational thinking to identify the relationships between work,\\nmechanical advantage, and simple machines.\\nSPS9. Obtain, evaluate, and communicate information to explain the properties of waves.\\na. Analyze and interpret data to identify the relationships among wavelength, frequency, and\\nenergy in electromagnetic waves and amplitude and energy in mechanical waves.\\nb. Ask questions to compare and contrast the characteristics of electromagnetic and mechanical\\nwaves.\\nc. Develop models based on experimental evidence that illustrate the phenomena of reflection,\\nrefraction, interference, and diffraction.\\nd. Analyze and interpret data to explain how different media affect the speed of sound and light\\nwaves.\\ne. Develop and use models to explain the changes in sound waves associated with the Doppler\\nEffect.\\nSPS10. Obtain, evaluate, and communicate information to explain the properties of and\\nrelationships between electricity and magnetism.\\na. Use mathematical and computational thinking to support a claim regarding relationships\\namong voltage, current, and resistance.\\n\\nGeorgia Department of Education\\nMarch 31, 2016 ● Page 4 of 5\\n\\n\\x0cScience Georgia Standards of Excellence\\n\\nb. Develop and use models to illustrate and explain the conventional flow (direct and\\nalternating) of current and the flow of electrons in simple series and parallel circuits.\\n(Clarification statement: Advantages and disadvantages of series and parallel circuits should\\nbe addressed.)\\nc. Plan and carry out investigations to determine the relationship between magnetism and the\\nmovement of electrical charge.\\n(Clarification statement: Investigations could include electromagnets, simple motors, and\\ngenerators.)\\n\\nGeorgia Department of Education\\nMarch 31, 2016 ● Page 5 of 5\\n\\n\\x0c'"
            ]
          },
          "metadata": {
            "tags": []
          },
          "execution_count": 1
        }
      ]
    },
    {
      "cell_type": "code",
      "metadata": {
        "id": "bpnP3LiVqaVm",
        "colab_type": "code",
        "colab": {
          "base_uri": "https://localhost:8080/",
          "height": 185
        },
        "outputId": "f185c2c1-6363-487e-9125-052de41a543b"
      },
      "source": [
        "import re\n",
        "regex = r\"\\nSPS\"\n",
        "re.findall(regex, string)"
      ],
      "execution_count": 2,
      "outputs": [
        {
          "output_type": "execute_result",
          "data": {
            "text/plain": [
              "['\\nSPS',\n",
              " '\\nSPS',\n",
              " '\\nSPS',\n",
              " '\\nSPS',\n",
              " '\\nSPS',\n",
              " '\\nSPS',\n",
              " '\\nSPS',\n",
              " '\\nSPS',\n",
              " '\\nSPS',\n",
              " '\\nSPS']"
            ]
          },
          "metadata": {
            "tags": []
          },
          "execution_count": 2
        }
      ]
    },
    {
      "cell_type": "code",
      "metadata": {
        "id": "7NADSDTMqsnC",
        "colab_type": "code",
        "colab": {
          "base_uri": "https://localhost:8080/",
          "height": 205
        },
        "outputId": "7674fb97-cbe6-458d-81fa-898dcbd02766"
      },
      "source": [
        "text = string.split('\\nSPS')\n",
        "text = text[1:]\n",
        "text"
      ],
      "execution_count": 3,
      "outputs": [
        {
          "output_type": "execute_result",
          "data": {
            "text/plain": [
              "['1. Obtain, evaluate, and communicate information from the Periodic Table to explain\\nthe relative properties of elements based on patterns of atomic structure.\\na. Develop and use models to compare and contrast the structure of atoms, ions and isotopes.\\n(Clarification statement: Properties include atomic number, atomic mass and the location and\\ncharge of subatomic particles.)\\nb. Analyze and interpret data to determine trends of the following:\\n\\uf0b7 Number of valence electrons\\n\\uf0b7 Types of ions formed by main group elements\\n\\uf0b7 Location and properties of metals, nonmetals, and metalloids\\n\\uf0b7 Phases at room temperature\\nc. Use the Periodic Table as a model to predict the above properties of main group elements.',\n",
              " '2. Obtain, evaluate, and communicate information to explain how atoms bond to form\\nstable compounds.\\na. Analyze and interpret data to predict properties of ionic and covalent compounds.\\n(Clarification statement: Properties are limited to types of bonds formed, elemental\\ncomposition, melting point, boiling point, and conductivity.)\\nb. Develop and use models to predict formulas for stable, binary ionic compounds based on\\nbalance of charges.\\nc. Use the International Union of Pure and Applied Chemistry (IUPAC) nomenclature for\\ntranslating between chemical names and chemical formulas.\\n(Clarification statement: Limited to binary covalent and binary ionic, containing main group\\nelements, compounds but excludes polyatomic ions.)',\n",
              " '3. Obtain, evaluate, and communicate information to support the Law of Conservation\\nof Matter.\\na. Plan and carry out investigations to generate evidence supporting the claim that mass is\\nconserved during a chemical reaction.\\n(Clarification statement: Limited to synthesis, decomposition, single replacement, and\\ndouble replacement reactions.)\\nb. Develop and use a model of a chemical equation to illustrate how the total number of atoms\\nis conserved during a chemical reaction.\\n(Clarification statement: Limited to chemical equations that include binary ionic and\\ncovalent compounds and will not include equations containing polyatomic ions.)\\n\\nGeorgia Department of Education\\nMarch 31, 2016 ● Page 2 of 5\\n\\n\\x0cScience Georgia Standards of Excellence\\n',\n",
              " '4. Obtain, evaluate, and communicate information to explain the changes in nuclear\\nstructure as a result of fission, fusion and radioactive decay.\\na. Develop a model that illustrates how the nucleus changes as a result of fission and fusion.\\nb. Use mathematics and computational thinking to explain the process of half-life as it relates to\\nradioactive decay.\\n(Clarification statement: Limited to calculations that include whole half-lives.)\\nc. Construct arguments based on evidence about the applications, benefits, and problems of\\nnuclear energy as an alternative energy source.',\n",
              " '5. Obtain, evaluate, and communicate information to compare and contrast the phases\\nof matter as they relate to atomic and molecular motion.\\na. Ask questions to compare and contrast models depicting the particle arrangement and motion\\nin solids, liquids, gases, and plasmas.\\nb. Plan and carry out investigations to identify the relationships among temperature, pressure,\\nvolume, and density of gases in closed systems.\\n(Clarification statement: Using specific Gas laws to perform calculations is beyond the scope\\nof this standard; emphasis should focus on the conceptual understanding of the behavior of\\ngases rather than calculations.)',\n",
              " '6. Obtain, evaluate, and communicate information to explain the properties of\\nsolutions.\\na. Develop and use models to explain the properties (solute/solvent, conductivity, and\\nconcentration) of solutions.\\nb. Plan and carry out investigations to determine how temperature, surface area, and agitation\\naffect the rate solutes dissolve in a specific solvent.\\nc. Analyze and interpret data from a solubility curve to determine the effect of temperature on\\nsolubility.\\nd. Obtain and communicate information to explain the relationship between the structure and\\nproperties (e.g., pH, and color change in the presence of an indicator) of acids and bases.\\n(Clarification statement: Limited to only the structure of simple acids and bases (e.g., HCl\\nand NaOH) that demonstrates the presence of an H+ or OH-.\\ne. Plan and carry out investigations to detect patterns in order to classify common household\\nsubstances as acidic, basic, or neutral.',\n",
              " '7. Obtain, evaluate, and communicate information to explain transformations and flow\\nof energy within a system.\\na. Construct explanations for energy transformations within a system.\\n(Clarification statement: Types of energy to be addressed include chemical, mechanical,\\nelectromagnetic, light, sound, thermal, electrical, and nuclear.)\\n\\nGeorgia Department of Education\\nMarch 31, 2016 ● Page 3 of 5\\n\\n\\x0cScience Georgia Standards of Excellence\\n\\nb. Plan and carry out investigations to describe how molecular motion relates to thermal energy\\nchanges in terms of conduction, convection, and radiation.\\nc. Analyze and interpret specific heat data to justify the selection of a material for a practical\\napplication (e.g., insulators and cooking vessels).\\nd. Analyze and interpret data to explain the flow of energy during phase changes using\\nheating/cooling curves.',\n",
              " '8. Obtain, evaluate, and communicate information to explain the relationships among\\nforce, mass, and motion.\\na. Plan and carry out an investigation to analyze the motion of an object using mathematical\\nand graphical models.\\n(Clarification statement: Mathematical and graphical models could include distance,\\ndisplacement, speed, velocity, time and acceleration.)\\nb. Construct an explanation based on experimental evidence to support the claims presented in\\nNewton’s three laws of motion.\\n(Clarification statement: Evidence could demonstrate relationships among force, mass,\\nvelocity, and acceleration.)\\nc. Analyze and interpret data to identify the relationship between mass and gravitational force\\nfor falling objects.\\nd. Use mathematics and computational thinking to identify the relationships between work,\\nmechanical advantage, and simple machines.',\n",
              " '9. Obtain, evaluate, and communicate information to explain the properties of waves.\\na. Analyze and interpret data to identify the relationships among wavelength, frequency, and\\nenergy in electromagnetic waves and amplitude and energy in mechanical waves.\\nb. Ask questions to compare and contrast the characteristics of electromagnetic and mechanical\\nwaves.\\nc. Develop models based on experimental evidence that illustrate the phenomena of reflection,\\nrefraction, interference, and diffraction.\\nd. Analyze and interpret data to explain how different media affect the speed of sound and light\\nwaves.\\ne. Develop and use models to explain the changes in sound waves associated with the Doppler\\nEffect.',\n",
              " '10. Obtain, evaluate, and communicate information to explain the properties of and\\nrelationships between electricity and magnetism.\\na. Use mathematical and computational thinking to support a claim regarding relationships\\namong voltage, current, and resistance.\\n\\nGeorgia Department of Education\\nMarch 31, 2016 ● Page 4 of 5\\n\\n\\x0cScience Georgia Standards of Excellence\\n\\nb. Develop and use models to illustrate and explain the conventional flow (direct and\\nalternating) of current and the flow of electrons in simple series and parallel circuits.\\n(Clarification statement: Advantages and disadvantages of series and parallel circuits should\\nbe addressed.)\\nc. Plan and carry out investigations to determine the relationship between magnetism and the\\nmovement of electrical charge.\\n(Clarification statement: Investigations could include electromagnets, simple motors, and\\ngenerators.)\\n\\nGeorgia Department of Education\\nMarch 31, 2016 ● Page 5 of 5\\n\\n\\x0c']"
            ]
          },
          "metadata": {
            "tags": []
          },
          "execution_count": 3
        }
      ]
    },
    {
      "cell_type": "code",
      "metadata": {
        "id": "5gmG2-yTrG2X",
        "colab_type": "code",
        "colab": {
          "base_uri": "https://localhost:8080/",
          "height": 776
        },
        "outputId": "3e6b0170-03b1-4a9c-83dc-bbd1ffba6f0e"
      },
      "source": [
        "data = []\n",
        "for j in range(len(text)):\n",
        "    sb = text[j].split('\\n')\n",
        "    while '' in sb:\n",
        "        idx = sb.index('')\n",
        "        sb = sb[:idx] + sb[idx+6:]\n",
        "    res = []\n",
        "    n = len(sb)\n",
        "    i = 1\n",
        "    res.append(sb[0])\n",
        "    while i < n:\n",
        "        if sb[i][1] != '.':\n",
        "            res[-1] += ' ' + sb[i]\n",
        "        else:\n",
        "            res.append(sb[i])\n",
        "        i += 1\n",
        "    data.append(res)\n",
        "data"
      ],
      "execution_count": 4,
      "outputs": [
        {
          "output_type": "execute_result",
          "data": {
            "text/plain": [
              "[['1. Obtain, evaluate, and communicate information from the Periodic Table to explain the relative properties of elements based on patterns of atomic structure.',\n",
              "  'a. Develop and use models to compare and contrast the structure of atoms, ions and isotopes. (Clarification statement: Properties include atomic number, atomic mass and the location and charge of subatomic particles.)',\n",
              "  'b. Analyze and interpret data to determine trends of the following: \\uf0b7 Number of valence electrons \\uf0b7 Types of ions formed by main group elements \\uf0b7 Location and properties of metals, nonmetals, and metalloids \\uf0b7 Phases at room temperature',\n",
              "  'c. Use the Periodic Table as a model to predict the above properties of main group elements.'],\n",
              " ['2. Obtain, evaluate, and communicate information to explain how atoms bond to form stable compounds.',\n",
              "  'a. Analyze and interpret data to predict properties of ionic and covalent compounds. (Clarification statement: Properties are limited to types of bonds formed, elemental composition, melting point, boiling point, and conductivity.)',\n",
              "  'b. Develop and use models to predict formulas for stable, binary ionic compounds based on balance of charges.',\n",
              "  'c. Use the International Union of Pure and Applied Chemistry (IUPAC) nomenclature for translating between chemical names and chemical formulas. (Clarification statement: Limited to binary covalent and binary ionic, containing main group elements, compounds but excludes polyatomic ions.)'],\n",
              " ['3. Obtain, evaluate, and communicate information to support the Law of Conservation of Matter.',\n",
              "  'a. Plan and carry out investigations to generate evidence supporting the claim that mass is conserved during a chemical reaction. (Clarification statement: Limited to synthesis, decomposition, single replacement, and double replacement reactions.)',\n",
              "  'b. Develop and use a model of a chemical equation to illustrate how the total number of atoms is conserved during a chemical reaction. (Clarification statement: Limited to chemical equations that include binary ionic and covalent compounds and will not include equations containing polyatomic ions.)'],\n",
              " ['4. Obtain, evaluate, and communicate information to explain the changes in nuclear structure as a result of fission, fusion and radioactive decay.',\n",
              "  'a. Develop a model that illustrates how the nucleus changes as a result of fission and fusion.',\n",
              "  'b. Use mathematics and computational thinking to explain the process of half-life as it relates to radioactive decay. (Clarification statement: Limited to calculations that include whole half-lives.)',\n",
              "  'c. Construct arguments based on evidence about the applications, benefits, and problems of nuclear energy as an alternative energy source.'],\n",
              " ['5. Obtain, evaluate, and communicate information to compare and contrast the phases of matter as they relate to atomic and molecular motion.',\n",
              "  'a. Ask questions to compare and contrast models depicting the particle arrangement and motion in solids, liquids, gases, and plasmas.',\n",
              "  'b. Plan and carry out investigations to identify the relationships among temperature, pressure, volume, and density of gases in closed systems. (Clarification statement: Using specific Gas laws to perform calculations is beyond the scope of this standard; emphasis should focus on the conceptual understanding of the behavior of gases rather than calculations.)'],\n",
              " ['6. Obtain, evaluate, and communicate information to explain the properties of solutions.',\n",
              "  'a. Develop and use models to explain the properties (solute/solvent, conductivity, and concentration) of solutions.',\n",
              "  'b. Plan and carry out investigations to determine how temperature, surface area, and agitation affect the rate solutes dissolve in a specific solvent.',\n",
              "  'c. Analyze and interpret data from a solubility curve to determine the effect of temperature on solubility.',\n",
              "  'd. Obtain and communicate information to explain the relationship between the structure and properties (e.g., pH, and color change in the presence of an indicator) of acids and bases. (Clarification statement: Limited to only the structure of simple acids and bases (e.g., HCl and NaOH) that demonstrates the presence of an H+ or OH-.',\n",
              "  'e. Plan and carry out investigations to detect patterns in order to classify common household substances as acidic, basic, or neutral.'],\n",
              " ['7. Obtain, evaluate, and communicate information to explain transformations and flow of energy within a system.',\n",
              "  'a. Construct explanations for energy transformations within a system. (Clarification statement: Types of energy to be addressed include chemical, mechanical, electromagnetic, light, sound, thermal, electrical, and nuclear.)',\n",
              "  'b. Plan and carry out investigations to describe how molecular motion relates to thermal energy changes in terms of conduction, convection, and radiation.',\n",
              "  'c. Analyze and interpret specific heat data to justify the selection of a material for a practical application (e.g., insulators and cooking vessels).',\n",
              "  'd. Analyze and interpret data to explain the flow of energy during phase changes using heating/cooling curves.'],\n",
              " ['8. Obtain, evaluate, and communicate information to explain the relationships among force, mass, and motion.',\n",
              "  'a. Plan and carry out an investigation to analyze the motion of an object using mathematical and graphical models. (Clarification statement: Mathematical and graphical models could include distance, displacement, speed, velocity, time and acceleration.)',\n",
              "  'b. Construct an explanation based on experimental evidence to support the claims presented in Newton’s three laws of motion. (Clarification statement: Evidence could demonstrate relationships among force, mass, velocity, and acceleration.)',\n",
              "  'c. Analyze and interpret data to identify the relationship between mass and gravitational force for falling objects.',\n",
              "  'd. Use mathematics and computational thinking to identify the relationships between work, mechanical advantage, and simple machines.'],\n",
              " ['9. Obtain, evaluate, and communicate information to explain the properties of waves.',\n",
              "  'a. Analyze and interpret data to identify the relationships among wavelength, frequency, and energy in electromagnetic waves and amplitude and energy in mechanical waves.',\n",
              "  'b. Ask questions to compare and contrast the characteristics of electromagnetic and mechanical waves.',\n",
              "  'c. Develop models based on experimental evidence that illustrate the phenomena of reflection, refraction, interference, and diffraction.',\n",
              "  'd. Analyze and interpret data to explain how different media affect the speed of sound and light waves.',\n",
              "  'e. Develop and use models to explain the changes in sound waves associated with the Doppler Effect.'],\n",
              " ['10. Obtain, evaluate, and communicate information to explain the properties of and relationships between electricity and magnetism.',\n",
              "  'a. Use mathematical and computational thinking to support a claim regarding relationships among voltage, current, and resistance.',\n",
              "  'b. Develop and use models to illustrate and explain the conventional flow (direct and alternating) of current and the flow of electrons in simple series and parallel circuits. (Clarification statement: Advantages and disadvantages of series and parallel circuits should be addressed.)',\n",
              "  'c. Plan and carry out investigations to determine the relationship between magnetism and the movement of electrical charge. (Clarification statement: Investigations could include electromagnets, simple motors, and generators.)']]"
            ]
          },
          "metadata": {
            "tags": []
          },
          "execution_count": 4
        }
      ]
    },
    {
      "cell_type": "code",
      "metadata": {
        "id": "M5TwVeafvRXa",
        "colab_type": "code",
        "colab": {
          "base_uri": "https://localhost:8080/",
          "height": 776
        },
        "outputId": "259c127d-e4be-4206-c568-737913dfb397"
      },
      "source": [
        "for i in range(len(data)):\n",
        "    n = len(data[i])\n",
        "    idx = data[i][0].index('.')\n",
        "    num = data[i][0][:idx]\n",
        "    for j in range(n):\n",
        "        line = data[i][j]\n",
        "        idx = data[i][j].index('.')\n",
        "        if line[:idx].isnumeric():\n",
        "            line = line.replace(line[:idx], 'SPS' + num)\n",
        "            data[i][j] = line\n",
        "        else:\n",
        "            line = line.replace(line[:2], 'SPS' + num + '.' + line[0])\n",
        "            data[i][j] = line\n",
        "data"
      ],
      "execution_count": 5,
      "outputs": [
        {
          "output_type": "execute_result",
          "data": {
            "text/plain": [
              "[['SPS1. Obtain, evaluate, and communicate information from the Periodic Table to explain the relative properties of elements based on patterns of atomic structure.',\n",
              "  'SPS1.a Develop and use models to compare and contrast the structure of atoms, ions and isotopes. (Clarification statement: Properties include atomic number, atomic mass and the location and charge of subatomic particles.)',\n",
              "  'SPS1.b Analyze and interpret data to determine trends of the following: \\uf0b7 Number of valence electrons \\uf0b7 Types of ions formed by main group elements \\uf0b7 Location and properties of metals, nonmetals, and metalloids \\uf0b7 Phases at room temperature',\n",
              "  'SPS1.c Use the Periodic Table as a model to predict the above properties of main group elements.'],\n",
              " ['SPS2. Obtain, evaluate, and communicate information to explain how atoms bond to form stable compounds.',\n",
              "  'SPS2.a Analyze and interpret data to predict properties of ionic and covalent compounds. (Clarification statement: Properties are limited to types of bonds formed, elemental composition, melting point, boiling point, and conductivity.)',\n",
              "  'SPS2.b Develop and use models to predict formulas for stable, binary ionic compounds based on balance of charges.',\n",
              "  'SPS2.c Use the International Union of Pure and Applied Chemistry (IUPAC) nomenclature for translating between chemical names and chemical formulas. (Clarification statement: Limited to binary covalent and binary ionic, containing main group elements, compounds but excludes polyatomic ions.)'],\n",
              " ['SPS3. Obtain, evaluate, and communicate information to support the Law of Conservation of Matter.',\n",
              "  'SPS3.a Plan and carry out investigations to generate evidence supporting the claim that mass is conserved during a chemical reaction. (Clarification statement: Limited to synthesis, decomposition, single replacement, and double replacement reactions.)',\n",
              "  'SPS3.b Develop and use a model of a chemical equation to illustrate how the total number of atoms is conserved during a chemical reaction. (Clarification statement: Limited to chemical equations that include binary ionic and covalent compounds and will not include equations containing polyatomic ions.)'],\n",
              " ['SPS4. Obtain, evaluate, and communicate information to explain the changes in nuclear structure as a result of fission, fusion and radioactive decay.',\n",
              "  'SPS4.a Develop a model that illustrates how the nucleus changes as a result of fission and fusion.',\n",
              "  'SPS4.b Use mathematics and computational thinking to explain the process of half-life as it relates to radioactive decay. (Clarification statement: Limited to calculations that include whole half-lives.)',\n",
              "  'SPS4.c Construct arguments based on evidence about the applications, benefits, and problems of nuclear energy as an alternative energy source.'],\n",
              " ['SPS5. Obtain, evaluate, and communicate information to compare and contrast the phases of matter as they relate to atomic and molecular motion.',\n",
              "  'SPS5.a Ask questions to compare and contrast models depicting the particle arrangement and motion in solids, liquids, gases, and plasmas.',\n",
              "  'SPS5.b Plan and carry out investigations to identify the relationships among temperature, pressure, volume, and density of gases in closed systems. (Clarification statement: Using specific Gas laws to perform calculations is beyond the scope of this standard; emphasis should focus on the conceptual understanding of the behavior of gases rather than calculations.)'],\n",
              " ['SPS6. Obtain, evaluate, and communicate information to explain the properties of solutions.',\n",
              "  'SPS6.a Develop and use models to explain the properties (solute/solvent, conductivity, and concentration) of solutions.',\n",
              "  'SPS6.b Plan and carry out investigations to determine how temperature, surface area, and agitation affect the rate solutes dissolve in a specific solvent.',\n",
              "  'SPS6.c Analyze and interpret data from a solubility curve to determine the effect of temperature on solubility.',\n",
              "  'SPS6.d Obtain and communicate information to explain the relationship between the structure and properties (e.g., pH, and color change in the presence of an indicator) of acids and bases. (Clarification statement: Limited to only the structure of simple acids and bases (e.g., HCl and NaOH) that demonstrates the presence of an H+ or OH-.',\n",
              "  'SPS6.e Plan and carry out investigations to detect patterns in order to classify common household substances as acidic, basic, or neutral.'],\n",
              " ['SPS7. Obtain, evaluate, and communicate information to explain transformations and flow of energy within a system.',\n",
              "  'SPS7.a Construct explanations for energy transformations within a system. (Clarification statement: Types of energy to be addressed include chemical, mechanical, electromagnetic, light, sound, thermal, electrical, and nuclear.)',\n",
              "  'SPS7.b Plan and carry out investigations to describe how molecular motion relates to thermal energy changes in terms of conduction, convection, and radiation.',\n",
              "  'SPS7.c Analyze and interpret specific heat data to justify the selection of a material for a practical application (e.g., insulators and cooking vessels).',\n",
              "  'SPS7.d Analyze and interpret data to explain the flow of energy during phase changes using heating/cooling curves.'],\n",
              " ['SPS8. Obtain, evaluate, and communicate information to explain the relationships among force, mass, and motion.',\n",
              "  'SPS8.a Plan and carry out an investigation to analyze the motion of an object using mathematical and graphical models. (Clarification statement: Mathematical and graphical models could include distance, displacement, speed, velocity, time and acceleration.)',\n",
              "  'SPS8.b Construct an explanation based on experimental evidence to support the claims presented in Newton’s three laws of motion. (Clarification statement: Evidence could demonstrate relationships among force, mass, velocity, and acceleration.)',\n",
              "  'SPS8.c Analyze and interpret data to identify the relationship between mass and gravitational force for falling objects.',\n",
              "  'SPS8.d Use mathematics and computational thinking to identify the relationships between work, mechanical advantage, and simple machines.'],\n",
              " ['SPS9. Obtain, evaluate, and communicate information to explain the properties of waves.',\n",
              "  'SPS9.a Analyze and interpret data to identify the relationships among wavelength, frequency, and energy in electromagnetic waves and amplitude and energy in mechanical waves.',\n",
              "  'SPS9.b Ask questions to compare and contrast the characteristics of electromagnetic and mechanical waves.',\n",
              "  'SPS9.c Develop models based on experimental evidence that illustrate the phenomena of reflection, refraction, interference, and diffraction.',\n",
              "  'SPS9.d Analyze and interpret data to explain how different media affect the speed of sound and light waves.',\n",
              "  'SPS9.e Develop and use models to explain the changes in sound waves associated with the Doppler Effect.'],\n",
              " ['SPS10. Obtain, evaluate, and communicate information to explain the properties of and relationships between electricity and magnetism.',\n",
              "  'SPS10.a Use mathematical and computational thinking to support a claim regarding relationships among voltage, current, and resistance.',\n",
              "  'SPS10.b Develop and use models to illustrate and explain the conventional flow (direct and alternating) of current and the flow of electrons in simple series and parallel circuits. (Clarification statement: Advantages and disadvantages of series and parallel circuits should be addressed.)',\n",
              "  'SPS10.c Plan and carry out investigations to determine the relationship between magnetism and the movement of electrical charge. (Clarification statement: Investigations could include electromagnets, simple motors, and generators.)']]"
            ]
          },
          "metadata": {
            "tags": []
          },
          "execution_count": 5
        }
      ]
    },
    {
      "cell_type": "code",
      "metadata": {
        "id": "1XOyZtZJy4xy",
        "colab_type": "code",
        "colab": {
          "base_uri": "https://localhost:8080/",
          "height": 511
        },
        "outputId": "a9735333-452e-4879-f519-3a24760d664d"
      },
      "source": [
        "import pandas as pd\n",
        "columns = ['main', 'a', 'b', 'c', 'd', 'e']\n",
        "index = ['SPS1', 'SPS2', 'SPS3', 'SPS4', 'SPS5', 'SPS6', 'SPS7', 'SPS8', 'SPS9', 'SPS10']\n",
        "df = pd.DataFrame(data, columns=columns, index=index)\n",
        "df"
      ],
      "execution_count": 6,
      "outputs": [
        {
          "output_type": "execute_result",
          "data": {
            "text/html": [
              "<div>\n",
              "<style scoped>\n",
              "    .dataframe tbody tr th:only-of-type {\n",
              "        vertical-align: middle;\n",
              "    }\n",
              "\n",
              "    .dataframe tbody tr th {\n",
              "        vertical-align: top;\n",
              "    }\n",
              "\n",
              "    .dataframe thead th {\n",
              "        text-align: right;\n",
              "    }\n",
              "</style>\n",
              "<table border=\"1\" class=\"dataframe\">\n",
              "  <thead>\n",
              "    <tr style=\"text-align: right;\">\n",
              "      <th></th>\n",
              "      <th>main</th>\n",
              "      <th>a</th>\n",
              "      <th>b</th>\n",
              "      <th>c</th>\n",
              "      <th>d</th>\n",
              "      <th>e</th>\n",
              "    </tr>\n",
              "  </thead>\n",
              "  <tbody>\n",
              "    <tr>\n",
              "      <th>SPS1</th>\n",
              "      <td>SPS1. Obtain, evaluate, and communicate inform...</td>\n",
              "      <td>SPS1.a Develop and use models to compare and c...</td>\n",
              "      <td>SPS1.b Analyze and interpret data to determine...</td>\n",
              "      <td>SPS1.c Use the Periodic Table as a model to pr...</td>\n",
              "      <td>None</td>\n",
              "      <td>None</td>\n",
              "    </tr>\n",
              "    <tr>\n",
              "      <th>SPS2</th>\n",
              "      <td>SPS2. Obtain, evaluate, and communicate inform...</td>\n",
              "      <td>SPS2.a Analyze and interpret data to predict p...</td>\n",
              "      <td>SPS2.b Develop and use models to predict formu...</td>\n",
              "      <td>SPS2.c Use the International Union of Pure and...</td>\n",
              "      <td>None</td>\n",
              "      <td>None</td>\n",
              "    </tr>\n",
              "    <tr>\n",
              "      <th>SPS3</th>\n",
              "      <td>SPS3. Obtain, evaluate, and communicate inform...</td>\n",
              "      <td>SPS3.a Plan and carry out investigations to ge...</td>\n",
              "      <td>SPS3.b Develop and use a model of a chemical e...</td>\n",
              "      <td>None</td>\n",
              "      <td>None</td>\n",
              "      <td>None</td>\n",
              "    </tr>\n",
              "    <tr>\n",
              "      <th>SPS4</th>\n",
              "      <td>SPS4. Obtain, evaluate, and communicate inform...</td>\n",
              "      <td>SPS4.a Develop a model that illustrates how th...</td>\n",
              "      <td>SPS4.b Use mathematics and computational think...</td>\n",
              "      <td>SPS4.c Construct arguments based on evidence a...</td>\n",
              "      <td>None</td>\n",
              "      <td>None</td>\n",
              "    </tr>\n",
              "    <tr>\n",
              "      <th>SPS5</th>\n",
              "      <td>SPS5. Obtain, evaluate, and communicate inform...</td>\n",
              "      <td>SPS5.a Ask questions to compare and contrast m...</td>\n",
              "      <td>SPS5.b Plan and carry out investigations to id...</td>\n",
              "      <td>None</td>\n",
              "      <td>None</td>\n",
              "      <td>None</td>\n",
              "    </tr>\n",
              "    <tr>\n",
              "      <th>SPS6</th>\n",
              "      <td>SPS6. Obtain, evaluate, and communicate inform...</td>\n",
              "      <td>SPS6.a Develop and use models to explain the p...</td>\n",
              "      <td>SPS6.b Plan and carry out investigations to de...</td>\n",
              "      <td>SPS6.c Analyze and interpret data from a solub...</td>\n",
              "      <td>SPS6.d Obtain and communicate information to e...</td>\n",
              "      <td>SPS6.e Plan and carry out investigations to de...</td>\n",
              "    </tr>\n",
              "    <tr>\n",
              "      <th>SPS7</th>\n",
              "      <td>SPS7. Obtain, evaluate, and communicate inform...</td>\n",
              "      <td>SPS7.a Construct explanations for energy trans...</td>\n",
              "      <td>SPS7.b Plan and carry out investigations to de...</td>\n",
              "      <td>SPS7.c Analyze and interpret specific heat dat...</td>\n",
              "      <td>SPS7.d Analyze and interpret data to explain t...</td>\n",
              "      <td>None</td>\n",
              "    </tr>\n",
              "    <tr>\n",
              "      <th>SPS8</th>\n",
              "      <td>SPS8. Obtain, evaluate, and communicate inform...</td>\n",
              "      <td>SPS8.a Plan and carry out an investigation to ...</td>\n",
              "      <td>SPS8.b Construct an explanation based on exper...</td>\n",
              "      <td>SPS8.c Analyze and interpret data to identify ...</td>\n",
              "      <td>SPS8.d Use mathematics and computational think...</td>\n",
              "      <td>None</td>\n",
              "    </tr>\n",
              "    <tr>\n",
              "      <th>SPS9</th>\n",
              "      <td>SPS9. Obtain, evaluate, and communicate inform...</td>\n",
              "      <td>SPS9.a Analyze and interpret data to identify ...</td>\n",
              "      <td>SPS9.b Ask questions to compare and contrast t...</td>\n",
              "      <td>SPS9.c Develop models based on experimental ev...</td>\n",
              "      <td>SPS9.d Analyze and interpret data to explain h...</td>\n",
              "      <td>SPS9.e Develop and use models to explain the c...</td>\n",
              "    </tr>\n",
              "    <tr>\n",
              "      <th>SPS10</th>\n",
              "      <td>SPS10. Obtain, evaluate, and communicate infor...</td>\n",
              "      <td>SPS10.a Use mathematical and computational thi...</td>\n",
              "      <td>SPS10.b Develop and use models to illustrate a...</td>\n",
              "      <td>SPS10.c Plan and carry out investigations to d...</td>\n",
              "      <td>None</td>\n",
              "      <td>None</td>\n",
              "    </tr>\n",
              "  </tbody>\n",
              "</table>\n",
              "</div>"
            ],
            "text/plain": [
              "                                                    main  ...                                                  e\n",
              "SPS1   SPS1. Obtain, evaluate, and communicate inform...  ...                                               None\n",
              "SPS2   SPS2. Obtain, evaluate, and communicate inform...  ...                                               None\n",
              "SPS3   SPS3. Obtain, evaluate, and communicate inform...  ...                                               None\n",
              "SPS4   SPS4. Obtain, evaluate, and communicate inform...  ...                                               None\n",
              "SPS5   SPS5. Obtain, evaluate, and communicate inform...  ...                                               None\n",
              "SPS6   SPS6. Obtain, evaluate, and communicate inform...  ...  SPS6.e Plan and carry out investigations to de...\n",
              "SPS7   SPS7. Obtain, evaluate, and communicate inform...  ...                                               None\n",
              "SPS8   SPS8. Obtain, evaluate, and communicate inform...  ...                                               None\n",
              "SPS9   SPS9. Obtain, evaluate, and communicate inform...  ...  SPS9.e Develop and use models to explain the c...\n",
              "SPS10  SPS10. Obtain, evaluate, and communicate infor...  ...                                               None\n",
              "\n",
              "[10 rows x 6 columns]"
            ]
          },
          "metadata": {
            "tags": []
          },
          "execution_count": 6
        }
      ]
    },
    {
      "cell_type": "code",
      "metadata": {
        "id": "DJOMBkNXzvbQ",
        "colab_type": "code",
        "colab": {
          "base_uri": "https://localhost:8080/",
          "height": 527
        },
        "outputId": "99af06e1-cbaa-4388-abcb-a4e96661843e"
      },
      "source": [
        "df = df.T\n",
        "df"
      ],
      "execution_count": 7,
      "outputs": [
        {
          "output_type": "execute_result",
          "data": {
            "text/html": [
              "<div>\n",
              "<style scoped>\n",
              "    .dataframe tbody tr th:only-of-type {\n",
              "        vertical-align: middle;\n",
              "    }\n",
              "\n",
              "    .dataframe tbody tr th {\n",
              "        vertical-align: top;\n",
              "    }\n",
              "\n",
              "    .dataframe thead th {\n",
              "        text-align: right;\n",
              "    }\n",
              "</style>\n",
              "<table border=\"1\" class=\"dataframe\">\n",
              "  <thead>\n",
              "    <tr style=\"text-align: right;\">\n",
              "      <th></th>\n",
              "      <th>SPS1</th>\n",
              "      <th>SPS2</th>\n",
              "      <th>SPS3</th>\n",
              "      <th>SPS4</th>\n",
              "      <th>SPS5</th>\n",
              "      <th>SPS6</th>\n",
              "      <th>SPS7</th>\n",
              "      <th>SPS8</th>\n",
              "      <th>SPS9</th>\n",
              "      <th>SPS10</th>\n",
              "    </tr>\n",
              "  </thead>\n",
              "  <tbody>\n",
              "    <tr>\n",
              "      <th>main</th>\n",
              "      <td>SPS1. Obtain, evaluate, and communicate inform...</td>\n",
              "      <td>SPS2. Obtain, evaluate, and communicate inform...</td>\n",
              "      <td>SPS3. Obtain, evaluate, and communicate inform...</td>\n",
              "      <td>SPS4. Obtain, evaluate, and communicate inform...</td>\n",
              "      <td>SPS5. Obtain, evaluate, and communicate inform...</td>\n",
              "      <td>SPS6. Obtain, evaluate, and communicate inform...</td>\n",
              "      <td>SPS7. Obtain, evaluate, and communicate inform...</td>\n",
              "      <td>SPS8. Obtain, evaluate, and communicate inform...</td>\n",
              "      <td>SPS9. Obtain, evaluate, and communicate inform...</td>\n",
              "      <td>SPS10. Obtain, evaluate, and communicate infor...</td>\n",
              "    </tr>\n",
              "    <tr>\n",
              "      <th>a</th>\n",
              "      <td>SPS1.a Develop and use models to compare and c...</td>\n",
              "      <td>SPS2.a Analyze and interpret data to predict p...</td>\n",
              "      <td>SPS3.a Plan and carry out investigations to ge...</td>\n",
              "      <td>SPS4.a Develop a model that illustrates how th...</td>\n",
              "      <td>SPS5.a Ask questions to compare and contrast m...</td>\n",
              "      <td>SPS6.a Develop and use models to explain the p...</td>\n",
              "      <td>SPS7.a Construct explanations for energy trans...</td>\n",
              "      <td>SPS8.a Plan and carry out an investigation to ...</td>\n",
              "      <td>SPS9.a Analyze and interpret data to identify ...</td>\n",
              "      <td>SPS10.a Use mathematical and computational thi...</td>\n",
              "    </tr>\n",
              "    <tr>\n",
              "      <th>b</th>\n",
              "      <td>SPS1.b Analyze and interpret data to determine...</td>\n",
              "      <td>SPS2.b Develop and use models to predict formu...</td>\n",
              "      <td>SPS3.b Develop and use a model of a chemical e...</td>\n",
              "      <td>SPS4.b Use mathematics and computational think...</td>\n",
              "      <td>SPS5.b Plan and carry out investigations to id...</td>\n",
              "      <td>SPS6.b Plan and carry out investigations to de...</td>\n",
              "      <td>SPS7.b Plan and carry out investigations to de...</td>\n",
              "      <td>SPS8.b Construct an explanation based on exper...</td>\n",
              "      <td>SPS9.b Ask questions to compare and contrast t...</td>\n",
              "      <td>SPS10.b Develop and use models to illustrate a...</td>\n",
              "    </tr>\n",
              "    <tr>\n",
              "      <th>c</th>\n",
              "      <td>SPS1.c Use the Periodic Table as a model to pr...</td>\n",
              "      <td>SPS2.c Use the International Union of Pure and...</td>\n",
              "      <td>None</td>\n",
              "      <td>SPS4.c Construct arguments based on evidence a...</td>\n",
              "      <td>None</td>\n",
              "      <td>SPS6.c Analyze and interpret data from a solub...</td>\n",
              "      <td>SPS7.c Analyze and interpret specific heat dat...</td>\n",
              "      <td>SPS8.c Analyze and interpret data to identify ...</td>\n",
              "      <td>SPS9.c Develop models based on experimental ev...</td>\n",
              "      <td>SPS10.c Plan and carry out investigations to d...</td>\n",
              "    </tr>\n",
              "    <tr>\n",
              "      <th>d</th>\n",
              "      <td>None</td>\n",
              "      <td>None</td>\n",
              "      <td>None</td>\n",
              "      <td>None</td>\n",
              "      <td>None</td>\n",
              "      <td>SPS6.d Obtain and communicate information to e...</td>\n",
              "      <td>SPS7.d Analyze and interpret data to explain t...</td>\n",
              "      <td>SPS8.d Use mathematics and computational think...</td>\n",
              "      <td>SPS9.d Analyze and interpret data to explain h...</td>\n",
              "      <td>None</td>\n",
              "    </tr>\n",
              "    <tr>\n",
              "      <th>e</th>\n",
              "      <td>None</td>\n",
              "      <td>None</td>\n",
              "      <td>None</td>\n",
              "      <td>None</td>\n",
              "      <td>None</td>\n",
              "      <td>SPS6.e Plan and carry out investigations to de...</td>\n",
              "      <td>None</td>\n",
              "      <td>None</td>\n",
              "      <td>SPS9.e Develop and use models to explain the c...</td>\n",
              "      <td>None</td>\n",
              "    </tr>\n",
              "  </tbody>\n",
              "</table>\n",
              "</div>"
            ],
            "text/plain": [
              "                                                   SPS1  ...                                              SPS10\n",
              "main  SPS1. Obtain, evaluate, and communicate inform...  ...  SPS10. Obtain, evaluate, and communicate infor...\n",
              "a     SPS1.a Develop and use models to compare and c...  ...  SPS10.a Use mathematical and computational thi...\n",
              "b     SPS1.b Analyze and interpret data to determine...  ...  SPS10.b Develop and use models to illustrate a...\n",
              "c     SPS1.c Use the Periodic Table as a model to pr...  ...  SPS10.c Plan and carry out investigations to d...\n",
              "d                                                  None  ...                                               None\n",
              "e                                                  None  ...                                               None\n",
              "\n",
              "[6 rows x 10 columns]"
            ]
          },
          "metadata": {
            "tags": []
          },
          "execution_count": 7
        }
      ]
    },
    {
      "cell_type": "code",
      "metadata": {
        "id": "sftjDlvUz2TA",
        "colab_type": "code",
        "colab": {}
      },
      "source": [
        "# Run this just once\n",
        "# df.to_csv('physical_science.csv')"
      ],
      "execution_count": 0,
      "outputs": []
    }
  ]
}